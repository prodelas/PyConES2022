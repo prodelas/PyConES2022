{
 "cells": [
  {
   "cell_type": "markdown",
   "metadata": {},
   "source": [
    "# Sympy - Cálculo Simbólico en Python"
   ]
  },
  {
   "cell_type": "markdown",
   "metadata": {},
   "source": [
    "J.R. Johansson (jrjohansson at gmail.com); traducción y adaptación de P. Gzlez. Rodelas (prodelas at ugr.es)\n",
    "\n",
    "La última versión en inglés de este [IPython notebook](http://ipython.org/notebook.html), así como en modo presentación en HTML, se puede descargar en [http://github.com/jrjohansson/scientific-python-lectures](http://github.com/jrjohansson/scientific-python-lectures).\n",
    "\n",
    "El resto de notebooks en inglés de esta serie se encuentran indexados en [http://jrjohansson.github.io](http://jrjohansson.github.io)."
   ]
  },
  {
   "cell_type": "code",
   "execution_count": 1,
   "metadata": {},
   "outputs": [],
   "source": [
    "%matplotlib inline\n",
    "import matplotlib.pyplot as plt"
   ]
  },
  {
   "cell_type": "markdown",
   "metadata": {},
   "source": [
    "## Introducción"
   ]
  },
  {
   "cell_type": "markdown",
   "metadata": {},
   "source": [
    "Hay dos sistemas de álgebra computacional (CAS, de Computer Algebra Systems en inglés) para Python:\n",
    "\n",
    "* [SymPy](http://sympy.org/en/index.html) - Un módulo python que se puede usar en cualquier  programa Python, o dentro de una sesión IPython, que a su vez proporciona otras poderosas herramientas CAS.\n",
    "* [Sage](http://www.sagemath.org/) - Sage es también otro poderoso entorno CAS, completamente equipado, cuyo objetivo es proporcionar un sistema de código abierto capaz de competir con Mathematica y Maple. Sin embargo Sage no se puede considerar un módulo de Python propiamente dicho, sino más bien un entorno CAS independiente que usa Python como su lenguaje programación.\n",
    "\n",
    "Sage es en cierto sentido más potente que SymPy, pero ambos ofrecen una funcionalidad CAS bastante completo. La ventaja de SymPy es precisamente el hecho de ser un módulo regular de Python, que a su vez puede integrarse bien dentro de cualquier notebook de IPython como este. \n",
    "\n",
    "Así pues, en esta presentación pondremos en práctica el uso del paquete SymPy dentro de notebooks IPython. Si usted también está interesado en otros entornos CAS de código abierto también estaría recomendado leer e investigar algo más sobre Sage.\n",
    "\n",
    "Para empezar a usar SymPy en un programa o notebook de Python, deberemos empezar por importar el módulo `sympy`:"
   ]
  },
  {
   "cell_type": "code",
   "execution_count": 2,
   "metadata": {},
   "outputs": [],
   "source": [
    "from sympy import *"
   ]
  },
  {
   "cell_type": "markdown",
   "metadata": {},
   "source": [
    "## Variables simbólicas"
   ]
  },
  {
   "cell_type": "markdown",
   "metadata": {},
   "source": [
    "En SymPy necesitamos crear símbolos para las variables con las que queremos trabajar. Para ellos, podemos crear nuevos símbolos usando la \"clase\" `Symbol`:"
   ]
  },
  {
   "cell_type": "code",
   "execution_count": 3,
   "metadata": {},
   "outputs": [],
   "source": [
    "x = Symbol('x')"
   ]
  },
  {
   "cell_type": "code",
   "execution_count": 4,
   "metadata": {},
   "outputs": [
    {
     "data": {
      "text/latex": [
       "$\\displaystyle \\left(x + \\pi\\right)^{2}$"
      ],
      "text/plain": [
       "(x + pi)**2"
      ]
     },
     "execution_count": 4,
     "metadata": {},
     "output_type": "execute_result"
    }
   ],
   "source": [
    "(pi + x)**2"
   ]
  },
  {
   "cell_type": "code",
   "execution_count": 5,
   "metadata": {},
   "outputs": [],
   "source": [
    "# forma alternativa para crear y definir varios símbolos a la vez\n",
    "a, b, c = symbols(\"a, b, c\")"
   ]
  },
  {
   "cell_type": "code",
   "execution_count": 6,
   "metadata": {},
   "outputs": [
    {
     "data": {
      "text/plain": [
       "sympy.core.symbol.Symbol"
      ]
     },
     "execution_count": 6,
     "metadata": {},
     "output_type": "execute_result"
    }
   ],
   "source": [
    "type(a)"
   ]
  },
  {
   "cell_type": "code",
   "execution_count": 7,
   "metadata": {},
   "outputs": [
    {
     "data": {
      "text/plain": [
       "sympy.core.symbol.Symbol"
      ]
     },
     "execution_count": 7,
     "metadata": {},
     "output_type": "execute_result"
    }
   ],
   "source": [
    "type(b)"
   ]
  },
  {
   "cell_type": "markdown",
   "metadata": {},
   "source": [
    "Podemos añadir condiciones, restricciones o supuestos, a estos símbolos cuando los creamos:"
   ]
  },
  {
   "cell_type": "code",
   "execution_count": 8,
   "metadata": {},
   "outputs": [],
   "source": [
    "x = Symbol('x', real=True)"
   ]
  },
  {
   "cell_type": "code",
   "execution_count": 9,
   "metadata": {},
   "outputs": [
    {
     "data": {
      "text/plain": [
       "False"
      ]
     },
     "execution_count": 9,
     "metadata": {},
     "output_type": "execute_result"
    }
   ],
   "source": [
    "x.is_imaginary"
   ]
  },
  {
   "cell_type": "code",
   "execution_count": 10,
   "metadata": {},
   "outputs": [],
   "source": [
    "x = Symbol('x', positive=True)"
   ]
  },
  {
   "cell_type": "code",
   "execution_count": 11,
   "metadata": {},
   "outputs": [
    {
     "data": {
      "text/latex": [
       "$\\displaystyle \\text{True}$"
      ],
      "text/plain": [
       "True"
      ]
     },
     "execution_count": 11,
     "metadata": {},
     "output_type": "execute_result"
    }
   ],
   "source": [
    "x > 0"
   ]
  },
  {
   "cell_type": "code",
   "execution_count": 12,
   "metadata": {},
   "outputs": [
    {
     "data": {
      "text/latex": [
       "$\\displaystyle \\text{False}$"
      ],
      "text/plain": [
       "False"
      ]
     },
     "execution_count": 12,
     "metadata": {},
     "output_type": "execute_result"
    }
   ],
   "source": [
    "x<=0"
   ]
  },
  {
   "cell_type": "markdown",
   "metadata": {},
   "source": [
    "## Números Complejos"
   ]
  },
  {
   "cell_type": "markdown",
   "metadata": {},
   "source": [
    "La unidad imaginaria se denota `I` en Sympy. "
   ]
  },
  {
   "cell_type": "code",
   "execution_count": 13,
   "metadata": {},
   "outputs": [
    {
     "data": {
      "text/latex": [
       "$\\displaystyle 1 + i$"
      ],
      "text/plain": [
       "1 + I"
      ]
     },
     "execution_count": 13,
     "metadata": {},
     "output_type": "execute_result"
    }
   ],
   "source": [
    "1+1*I"
   ]
  },
  {
   "cell_type": "code",
   "execution_count": 14,
   "metadata": {},
   "outputs": [
    {
     "data": {
      "text/latex": [
       "$\\displaystyle -1$"
      ],
      "text/plain": [
       "-1"
      ]
     },
     "execution_count": 14,
     "metadata": {},
     "output_type": "execute_result"
    }
   ],
   "source": [
    "I**2"
   ]
  },
  {
   "cell_type": "code",
   "execution_count": 15,
   "metadata": {},
   "outputs": [
    {
     "data": {
      "text/latex": [
       "$\\displaystyle \\left(i x + 1\\right)^{2}$"
      ],
      "text/plain": [
       "(I*x + 1)**2"
      ]
     },
     "execution_count": 15,
     "metadata": {},
     "output_type": "execute_result"
    }
   ],
   "source": [
    "(x * I + 1)**2"
   ]
  },
  {
   "cell_type": "markdown",
   "metadata": {},
   "source": [
    "### Números Racionales"
   ]
  },
  {
   "cell_type": "markdown",
   "metadata": {},
   "source": [
    "Hay tres tipos diferentes de números en SymPy: `Real`, `Rational`, `Integer`: "
   ]
  },
  {
   "cell_type": "code",
   "execution_count": 16,
   "metadata": {},
   "outputs": [],
   "source": [
    "r1 = Rational(4,5)\n",
    "r2 = Rational(5,4)"
   ]
  },
  {
   "cell_type": "code",
   "execution_count": 17,
   "metadata": {},
   "outputs": [
    {
     "data": {
      "text/latex": [
       "$\\displaystyle \\frac{4}{5}$"
      ],
      "text/plain": [
       "4/5"
      ]
     },
     "execution_count": 17,
     "metadata": {},
     "output_type": "execute_result"
    }
   ],
   "source": [
    "r1"
   ]
  },
  {
   "cell_type": "code",
   "execution_count": 18,
   "metadata": {},
   "outputs": [
    {
     "data": {
      "text/latex": [
       "$\\displaystyle \\frac{41}{20}$"
      ],
      "text/plain": [
       "41/20"
      ]
     },
     "execution_count": 18,
     "metadata": {},
     "output_type": "execute_result"
    }
   ],
   "source": [
    "r1+r2"
   ]
  },
  {
   "cell_type": "code",
   "execution_count": 19,
   "metadata": {},
   "outputs": [
    {
     "data": {
      "text/latex": [
       "$\\displaystyle \\frac{16}{25}$"
      ],
      "text/plain": [
       "16/25"
      ]
     },
     "execution_count": 19,
     "metadata": {},
     "output_type": "execute_result"
    }
   ],
   "source": [
    "r1/r2"
   ]
  },
  {
   "cell_type": "markdown",
   "metadata": {},
   "source": [
    "## Evaluaciones Numéricas"
   ]
  },
  {
   "cell_type": "markdown",
   "metadata": {},
   "source": [
    "SymPy usa una \"biblioteca\" (\"library\" en inglés) específica para los cálculos numéricos con precisión artitraria, al mismo tiempo que posee expresiones predefinidas SymPy para cierto número de constantes matemáticas, como: `pi`, `e`, `oo` (infinito).\n",
    "\n",
    "Para evaluar una expresión numéricamente podemos usar la función `evalf` (o `N`), que toma un argumento `n` que especifica la cantidad de dígitos significativos."
   ]
  },
  {
   "cell_type": "code",
   "execution_count": 20,
   "metadata": {},
   "outputs": [
    {
     "data": {
      "text/latex": [
       "$\\displaystyle 3.141592653589793238462643383279502884197169399375105820974944592307816406286208998628034825342117068$"
      ],
      "text/plain": [
       "3.141592653589793238462643383279502884197169399375105820974944592307816406286208998628034825342117068"
      ]
     },
     "execution_count": 20,
     "metadata": {},
     "output_type": "execute_result"
    }
   ],
   "source": [
    "pi.evalf(n=100)"
   ]
  },
  {
   "cell_type": "code",
   "execution_count": 21,
   "metadata": {},
   "outputs": [],
   "source": [
    "y = (x + pi)**2"
   ]
  },
  {
   "cell_type": "code",
   "execution_count": 22,
   "metadata": {},
   "outputs": [
    {
     "data": {
      "text/latex": [
       "$\\displaystyle 9.8696 \\left(0.31831 x + 1\\right)^{2}$"
      ],
      "text/plain": [
       "9.8696*(0.31831*x + 1)**2"
      ]
     },
     "execution_count": 22,
     "metadata": {},
     "output_type": "execute_result"
    }
   ],
   "source": [
    "N(y, 5) # lo mismo que con 'evalf'"
   ]
  },
  {
   "cell_type": "markdown",
   "metadata": {},
   "source": [
    "Cuando evaluamos numéricamente expresiones algebraicas, a menudo necesitamos sustituir un cierto símbolo o variable con un determinado valor numérico. Con SymPy lo haremos usando la función `subs`:"
   ]
  },
  {
   "cell_type": "code",
   "execution_count": 23,
   "metadata": {},
   "outputs": [
    {
     "data": {
      "text/latex": [
       "$\\displaystyle \\left(1.5 + \\pi\\right)^{2}$"
      ],
      "text/plain": [
       "(1.5 + pi)**2"
      ]
     },
     "execution_count": 23,
     "metadata": {},
     "output_type": "execute_result"
    }
   ],
   "source": [
    "y.subs(x, 1.5)"
   ]
  },
  {
   "cell_type": "code",
   "execution_count": 24,
   "metadata": {},
   "outputs": [
    {
     "data": {
      "text/latex": [
       "$\\displaystyle 21.5443823618587$"
      ],
      "text/plain": [
       "21.5443823618587"
      ]
     },
     "execution_count": 24,
     "metadata": {},
     "output_type": "execute_result"
    }
   ],
   "source": [
    "N(y.subs(x, 1.5))"
   ]
  },
  {
   "cell_type": "code",
   "execution_count": 25,
   "metadata": {},
   "outputs": [
    {
     "data": {
      "text/latex": [
       "$\\displaystyle 21.54438236185873833422242114971465978790520760536610808933818315314349404127783223888587787974490344$"
      ],
      "text/plain": [
       "21.54438236185873833422242114971465978790520760536610808933818315314349404127783223888587787974490344"
      ]
     },
     "execution_count": 25,
     "metadata": {},
     "output_type": "execute_result"
    }
   ],
   "source": [
    "N(y.subs(x, 1.5),100)"
   ]
  },
  {
   "cell_type": "markdown",
   "metadata": {},
   "source": [
    "La función `subs` por supuesto que también puede usarse para sustituir otros Símbolos y expresiones:"
   ]
  },
  {
   "cell_type": "code",
   "execution_count": 26,
   "metadata": {},
   "outputs": [
    {
     "data": {
      "text/latex": [
       "$\\displaystyle \\left(a + b + \\pi\\right)^{2}$"
      ],
      "text/plain": [
       "(a + b + pi)**2"
      ]
     },
     "execution_count": 26,
     "metadata": {},
     "output_type": "execute_result"
    }
   ],
   "source": [
    "y.subs(x, a+b)"
   ]
  },
  {
   "cell_type": "code",
   "execution_count": 27,
   "metadata": {},
   "outputs": [
    {
     "data": {
      "text/latex": [
       "$\\displaystyle \\left(a + 2 \\pi\\right)^{2}$"
      ],
      "text/plain": [
       "(a + 2*pi)**2"
      ]
     },
     "execution_count": 27,
     "metadata": {},
     "output_type": "execute_result"
    }
   ],
   "source": [
    "y.subs(x, a+pi)"
   ]
  },
  {
   "cell_type": "markdown",
   "metadata": {},
   "source": [
    "También podremos combinar la evolución numérica de otras expresiones con los denominados arrays de NumPy:"
   ]
  },
  {
   "cell_type": "code",
   "execution_count": 28,
   "metadata": {},
   "outputs": [],
   "source": [
    "import numpy"
   ]
  },
  {
   "cell_type": "code",
   "execution_count": 29,
   "metadata": {},
   "outputs": [],
   "source": [
    "x_vec = numpy.arange(0, 10, 0.1)"
   ]
  },
  {
   "cell_type": "code",
   "execution_count": 30,
   "metadata": {},
   "outputs": [],
   "source": [
    "y_vec = numpy.array([N(((x + pi)**2).subs(x, xx)) for xx in x_vec])"
   ]
  },
  {
   "cell_type": "code",
   "execution_count": 31,
   "metadata": {},
   "outputs": [
    {
     "data": {
      "image/png": "[encoded data removed]",
      "text/plain": [
       "<Figure size 432x288 with 1 Axes>"
      ]
     },
     "metadata": {
      "needs_background": "light"
     },
     "output_type": "display_data"
    }
   ],
   "source": [
    "fig, ax = plt.subplots()\n",
    "ax.plot(x_vec, y_vec);"
   ]
  },
  {
   "cell_type": "markdown",
   "metadata": {},
   "source": [
    "Sin embargo, este tipo de sustitución numérica puede resultar demasiado lenta, y veremos que hay maneras mucho más eficientes de hacer esto mismo: por ejemplo podríamos usar la función `lambdify` para en cierto modo \"compilar\" una expresión de Sympy y convertirla en una función que será mucho más apropiada para evaluar numéricamente lo que queríamos:"
   ]
  },
  {
   "cell_type": "code",
   "execution_count": 32,
   "metadata": {},
   "outputs": [],
   "source": [
    "f = lambdify([x], (x + pi)**2, 'numpy')  # el primer argumento es una lista de variables de las que\n",
    "                                         # f será función: en este caso simplemente x -> f(x)"
   ]
  },
  {
   "cell_type": "code",
   "execution_count": 33,
   "metadata": {},
   "outputs": [],
   "source": [
    "y_vec = f(x_vec)  # ahora podremos pasar directamente un array de numpy como argumento para que f(x) lo evalúe"
   ]
  },
  {
   "cell_type": "markdown",
   "metadata": {},
   "source": [
    "El aumento de velocidad usando funciones \"lambdified\" en vez de evaluaciones numéricas directas puede llegar a ser significativo, a menudo de varios órdenes de magnitud. Incluso en este simple ejemplo podemos obtener una ganancia significativa en tiempo de cálculo:"
   ]
  },
  {
   "cell_type": "code",
   "execution_count": 34,
   "metadata": {},
   "outputs": [
    {
     "name": "stdout",
     "output_type": "stream",
     "text": [
      "9.64 ms ± 738 µs per loop (mean ± std. dev. of 7 runs, 100 loops each)\n"
     ]
    }
   ],
   "source": [
    "%%timeit\n",
    "\n",
    "y_vec = numpy.array([N(((x + pi)**2).subs(x, xx)) for xx in x_vec])"
   ]
  },
  {
   "cell_type": "code",
   "execution_count": 35,
   "metadata": {},
   "outputs": [
    {
     "name": "stdout",
     "output_type": "stream",
     "text": [
      "1.39 µs ± 37.3 ns per loop (mean ± std. dev. of 7 runs, 1000000 loops each)\n"
     ]
    }
   ],
   "source": [
    "%%timeit\n",
    "\n",
    "y_vec = f(x_vec)"
   ]
  },
  {
   "cell_type": "markdown",
   "metadata": {},
   "source": [
    "## Manipulationes Algebraicas "
   ]
  },
  {
   "cell_type": "markdown",
   "metadata": {},
   "source": [
    "Uno de los principales usos de un sistema CAS (del inglés \"Computer Algebra System\") es la realización de manipulaciones de tipo algebraico de distintos tipos de expresiones, ya sean simbólicas, numéricas o bien mixtas. Por ejemplo, podríamos querer expandir un producto, factorizar una expresión, o simplificarla. Los comandos (o funciones) para realizar estas operaiones básicas en SymPy se muestran en esta sección."
   ]
  },
  {
   "cell_type": "markdown",
   "metadata": {},
   "source": [
    "### Expandir y factorizar"
   ]
  },
  {
   "cell_type": "markdown",
   "metadata": {},
   "source": [
    "Primeros pasos con manipulaciones algebraicas"
   ]
  },
  {
   "cell_type": "code",
   "execution_count": 36,
   "metadata": {},
   "outputs": [
    {
     "data": {
      "text/latex": [
       "$\\displaystyle \\left(x + 1\\right) \\left(x + 2\\right) \\left(x + 3\\right)$"
      ],
      "text/plain": [
       "(x + 1)*(x + 2)*(x + 3)"
      ]
     },
     "execution_count": 36,
     "metadata": {},
     "output_type": "execute_result"
    }
   ],
   "source": [
    "(x+1)*(x+2)*(x+3)"
   ]
  },
  {
   "cell_type": "code",
   "execution_count": 37,
   "metadata": {},
   "outputs": [
    {
     "data": {
      "text/latex": [
       "$\\displaystyle x^{3} + 6 x^{2} + 11 x + 6$"
      ],
      "text/plain": [
       "x**3 + 6*x**2 + 11*x + 6"
      ]
     },
     "execution_count": 37,
     "metadata": {},
     "output_type": "execute_result"
    }
   ],
   "source": [
    "expand(_)"
   ]
  },
  {
   "cell_type": "code",
   "execution_count": 38,
   "metadata": {},
   "outputs": [
    {
     "data": {
      "text/latex": [
       "$\\displaystyle x^{3} + 6 x^{2} + 11 x + 6$"
      ],
      "text/plain": [
       "x**3 + 6*x**2 + 11*x + 6"
      ]
     },
     "execution_count": 38,
     "metadata": {},
     "output_type": "execute_result"
    }
   ],
   "source": [
    "expand((x+1)*(x+2)*(x+3))"
   ]
  },
  {
   "cell_type": "code",
   "execution_count": 39,
   "metadata": {},
   "outputs": [
    {
     "data": {
      "text/latex": [
       "$\\displaystyle \\left(x + 1\\right) \\left(x + 2\\right) \\left(x + 3\\right)$"
      ],
      "text/plain": [
       "(x + 1)*(x + 2)*(x + 3)"
      ]
     },
     "execution_count": 39,
     "metadata": {},
     "output_type": "execute_result"
    }
   ],
   "source": [
    "factor(_)"
   ]
  },
  {
   "cell_type": "markdown",
   "metadata": {},
   "source": [
    "El comando `expand` admite cierto número de palabras clave como argumento para poder indicar que tipo de expansiones queremos que se realicen. Por ejemplo, para expandir expresiones trigonometricas, usaremos la palabra clave `trig=True` como argumento:"
   ]
  },
  {
   "cell_type": "code",
   "execution_count": 40,
   "metadata": {},
   "outputs": [
    {
     "data": {
      "text/latex": [
       "$\\displaystyle \\sin{\\left(a + b \\right)}$"
      ],
      "text/plain": [
       "sin(a + b)"
      ]
     },
     "execution_count": 40,
     "metadata": {},
     "output_type": "execute_result"
    }
   ],
   "source": [
    "sin(a+b)"
   ]
  },
  {
   "cell_type": "code",
   "execution_count": 41,
   "metadata": {},
   "outputs": [
    {
     "data": {
      "text/latex": [
       "$\\displaystyle \\sin{\\left(a \\right)} \\cos{\\left(b \\right)} + \\sin{\\left(b \\right)} \\cos{\\left(a \\right)}$"
      ],
      "text/plain": [
       "sin(a)*cos(b) + sin(b)*cos(a)"
      ]
     },
     "execution_count": 41,
     "metadata": {},
     "output_type": "execute_result"
    }
   ],
   "source": [
    "expand(sin(a+b), trig=True)"
   ]
  },
  {
   "cell_type": "markdown",
   "metadata": {},
   "source": [
    "Usar el comando `help(expand)` para una descripción detallada de varios tipos de expansiones que `expand` puede realizar."
   ]
  },
  {
   "cell_type": "code",
   "execution_count": 42,
   "metadata": {},
   "outputs": [
    {
     "name": "stdout",
     "output_type": "stream",
     "text": [
      "Help on function expand in module sympy.core.function:\n",
      "\n",
      "expand(e, deep=True, modulus=None, power_base=True, power_exp=True, mul=True, log=True, multinomial=True, basic=True, **hints)\n",
      "    Expand an expression using methods given as hints.\n",
      "    \n",
      "    Explanation\n",
      "    ===========\n",
      "    \n",
      "    Hints evaluated unless explicitly set to False are:  ``basic``, ``log``,\n",
      "    ``multinomial``, ``mul``, ``power_base``, and ``power_exp`` The following\n",
      "    hints are supported but not applied unless set to True:  ``complex``,\n",
      "    ``func``, and ``trig``.  In addition, the following meta-hints are\n",
      "    supported by some or all of the other hints:  ``frac``, ``numer``,\n",
      "    ``denom``, ``modulus``, and ``force``.  ``deep`` is supported by all\n",
      "    hints.  Additionally, subclasses of Expr may define their own hints or\n",
      "    meta-hints.\n",
      "    \n",
      "    The ``basic`` hint is used for any special rewriting of an object that\n",
      "    should be done automatically (along with the other hints like ``mul``)\n",
      "    when expand is called. This is a catch-all hint to handle any sort of\n",
      "    expansion that may not be described by the existing hint names. To use\n",
      "    this hint an object should override the ``_eval_expand_basic`` method.\n",
      "    Objects may also define their own expand methods, which are not run by\n",
      "    default.  See the API section below.\n",
      "    \n",
      "    If ``deep`` is set to ``True`` (the default), things like arguments of\n",
      "    functions are recursively expanded.  Use ``deep=False`` to only expand on\n",
      "    the top level.\n",
      "    \n",
      "    If the ``force`` hint is used, assumptions about variables will be ignored\n",
      "    in making the expansion.\n",
      "    \n",
      "    Hints\n",
      "    =====\n",
      "    \n",
      "    These hints are run by default\n",
      "    \n",
      "    mul\n",
      "    ---\n",
      "    \n",
      "    Distributes multiplication over addition:\n",
      "    \n",
      "    >>> from sympy import cos, exp, sin\n",
      "    >>> from sympy.abc import x, y, z\n",
      "    >>> (y*(x + z)).expand(mul=True)\n",
      "    x*y + y*z\n",
      "    \n",
      "    multinomial\n",
      "    -----------\n",
      "    \n",
      "    Expand (x + y + ...)**n where n is a positive integer.\n",
      "    \n",
      "    >>> ((x + y + z)**2).expand(multinomial=True)\n",
      "    x**2 + 2*x*y + 2*x*z + y**2 + 2*y*z + z**2\n",
      "    \n",
      "    power_exp\n",
      "    ---------\n",
      "    \n",
      "    Expand addition in exponents into multiplied bases.\n",
      "    \n",
      "    >>> exp(x + y).expand(power_exp=True)\n",
      "    exp(x)*exp(y)\n",
      "    >>> (2**(x + y)).expand(power_exp=True)\n",
      "    2**x*2**y\n",
      "    \n",
      "    power_base\n",
      "    ----------\n",
      "    \n",
      "    Split powers of multiplied bases.\n",
      "    \n",
      "    This only happens by default if assumptions allow, or if the\n",
      "    ``force`` meta-hint is used:\n",
      "    \n",
      "    >>> ((x*y)**z).expand(power_base=True)\n",
      "    (x*y)**z\n",
      "    >>> ((x*y)**z).expand(power_base=True, force=True)\n",
      "    x**z*y**z\n",
      "    >>> ((2*y)**z).expand(power_base=True)\n",
      "    2**z*y**z\n",
      "    \n",
      "    Note that in some cases where this expansion always holds, SymPy performs\n",
      "    it automatically:\n",
      "    \n",
      "    >>> (x*y)**2\n",
      "    x**2*y**2\n",
      "    \n",
      "    log\n",
      "    ---\n",
      "    \n",
      "    Pull out power of an argument as a coefficient and split logs products\n",
      "    into sums of logs.\n",
      "    \n",
      "    Note that these only work if the arguments of the log function have the\n",
      "    proper assumptions--the arguments must be positive and the exponents must\n",
      "    be real--or else the ``force`` hint must be True:\n",
      "    \n",
      "    >>> from sympy import log, symbols\n",
      "    >>> log(x**2*y).expand(log=True)\n",
      "    log(x**2*y)\n",
      "    >>> log(x**2*y).expand(log=True, force=True)\n",
      "    2*log(x) + log(y)\n",
      "    >>> x, y = symbols('x,y', positive=True)\n",
      "    >>> log(x**2*y).expand(log=True)\n",
      "    2*log(x) + log(y)\n",
      "    \n",
      "    basic\n",
      "    -----\n",
      "    \n",
      "    This hint is intended primarily as a way for custom subclasses to enable\n",
      "    expansion by default.\n",
      "    \n",
      "    These hints are not run by default:\n",
      "    \n",
      "    complex\n",
      "    -------\n",
      "    \n",
      "    Split an expression into real and imaginary parts.\n",
      "    \n",
      "    >>> x, y = symbols('x,y')\n",
      "    >>> (x + y).expand(complex=True)\n",
      "    re(x) + re(y) + I*im(x) + I*im(y)\n",
      "    >>> cos(x).expand(complex=True)\n",
      "    -I*sin(re(x))*sinh(im(x)) + cos(re(x))*cosh(im(x))\n",
      "    \n",
      "    Note that this is just a wrapper around ``as_real_imag()``.  Most objects\n",
      "    that wish to redefine ``_eval_expand_complex()`` should consider\n",
      "    redefining ``as_real_imag()`` instead.\n",
      "    \n",
      "    func\n",
      "    ----\n",
      "    \n",
      "    Expand other functions.\n",
      "    \n",
      "    >>> from sympy import gamma\n",
      "    >>> gamma(x + 1).expand(func=True)\n",
      "    x*gamma(x)\n",
      "    \n",
      "    trig\n",
      "    ----\n",
      "    \n",
      "    Do trigonometric expansions.\n",
      "    \n",
      "    >>> cos(x + y).expand(trig=True)\n",
      "    -sin(x)*sin(y) + cos(x)*cos(y)\n",
      "    >>> sin(2*x).expand(trig=True)\n",
      "    2*sin(x)*cos(x)\n",
      "    \n",
      "    Note that the forms of ``sin(n*x)`` and ``cos(n*x)`` in terms of ``sin(x)``\n",
      "    and ``cos(x)`` are not unique, due to the identity `\\sin^2(x) + \\cos^2(x)\n",
      "    = 1`.  The current implementation uses the form obtained from Chebyshev\n",
      "    polynomials, but this may change.  See `this MathWorld article\n",
      "    <http://mathworld.wolfram.com/Multiple-AngleFormulas.html>`_ for more\n",
      "    information.\n",
      "    \n",
      "    Notes\n",
      "    =====\n",
      "    \n",
      "    - You can shut off unwanted methods::\n",
      "    \n",
      "        >>> (exp(x + y)*(x + y)).expand()\n",
      "        x*exp(x)*exp(y) + y*exp(x)*exp(y)\n",
      "        >>> (exp(x + y)*(x + y)).expand(power_exp=False)\n",
      "        x*exp(x + y) + y*exp(x + y)\n",
      "        >>> (exp(x + y)*(x + y)).expand(mul=False)\n",
      "        (x + y)*exp(x)*exp(y)\n",
      "    \n",
      "    - Use deep=False to only expand on the top level::\n",
      "    \n",
      "        >>> exp(x + exp(x + y)).expand()\n",
      "        exp(x)*exp(exp(x)*exp(y))\n",
      "        >>> exp(x + exp(x + y)).expand(deep=False)\n",
      "        exp(x)*exp(exp(x + y))\n",
      "    \n",
      "    - Hints are applied in an arbitrary, but consistent order (in the current\n",
      "      implementation, they are applied in alphabetical order, except\n",
      "      multinomial comes before mul, but this may change).  Because of this,\n",
      "      some hints may prevent expansion by other hints if they are applied\n",
      "      first. For example, ``mul`` may distribute multiplications and prevent\n",
      "      ``log`` and ``power_base`` from expanding them. Also, if ``mul`` is\n",
      "      applied before ``multinomial`, the expression might not be fully\n",
      "      distributed. The solution is to use the various ``expand_hint`` helper\n",
      "      functions or to use ``hint=False`` to this function to finely control\n",
      "      which hints are applied. Here are some examples::\n",
      "    \n",
      "        >>> from sympy import expand, expand_mul, expand_power_base\n",
      "        >>> x, y, z = symbols('x,y,z', positive=True)\n",
      "    \n",
      "        >>> expand(log(x*(y + z)))\n",
      "        log(x) + log(y + z)\n",
      "    \n",
      "      Here, we see that ``log`` was applied before ``mul``.  To get the mul\n",
      "      expanded form, either of the following will work::\n",
      "    \n",
      "        >>> expand_mul(log(x*(y + z)))\n",
      "        log(x*y + x*z)\n",
      "        >>> expand(log(x*(y + z)), log=False)\n",
      "        log(x*y + x*z)\n",
      "    \n",
      "      A similar thing can happen with the ``power_base`` hint::\n",
      "    \n",
      "        >>> expand((x*(y + z))**x)\n",
      "        (x*y + x*z)**x\n",
      "    \n",
      "      To get the ``power_base`` expanded form, either of the following will\n",
      "      work::\n",
      "    \n",
      "        >>> expand((x*(y + z))**x, mul=False)\n",
      "        x**x*(y + z)**x\n",
      "        >>> expand_power_base((x*(y + z))**x)\n",
      "        x**x*(y + z)**x\n",
      "    \n",
      "        >>> expand((x + y)*y/x)\n",
      "        y + y**2/x\n",
      "    \n",
      "      The parts of a rational expression can be targeted::\n",
      "    \n",
      "        >>> expand((x + y)*y/x/(x + 1), frac=True)\n",
      "        (x*y + y**2)/(x**2 + x)\n",
      "        >>> expand((x + y)*y/x/(x + 1), numer=True)\n",
      "        (x*y + y**2)/(x*(x + 1))\n",
      "        >>> expand((x + y)*y/x/(x + 1), denom=True)\n",
      "        y*(x + y)/(x**2 + x)\n",
      "    \n",
      "    - The ``modulus`` meta-hint can be used to reduce the coefficients of an\n",
      "      expression post-expansion::\n",
      "    \n",
      "        >>> expand((3*x + 1)**2)\n",
      "        9*x**2 + 6*x + 1\n",
      "        >>> expand((3*x + 1)**2, modulus=5)\n",
      "        4*x**2 + x + 1\n",
      "    \n",
      "    - Either ``expand()`` the function or ``.expand()`` the method can be\n",
      "      used.  Both are equivalent::\n",
      "    \n",
      "        >>> expand((x + 1)**2)\n",
      "        x**2 + 2*x + 1\n",
      "        >>> ((x + 1)**2).expand()\n",
      "        x**2 + 2*x + 1\n",
      "    \n",
      "    API\n",
      "    ===\n",
      "    \n",
      "    Objects can define their own expand hints by defining\n",
      "    ``_eval_expand_hint()``.  The function should take the form::\n",
      "    \n",
      "        def _eval_expand_hint(self, **hints):\n",
      "            # Only apply the method to the top-level expression\n",
      "            ...\n",
      "    \n",
      "    See also the example below.  Objects should define ``_eval_expand_hint()``\n",
      "    methods only if ``hint`` applies to that specific object.  The generic\n",
      "    ``_eval_expand_hint()`` method defined in Expr will handle the no-op case.\n",
      "    \n",
      "    Each hint should be responsible for expanding that hint only.\n",
      "    Furthermore, the expansion should be applied to the top-level expression\n",
      "    only.  ``expand()`` takes care of the recursion that happens when\n",
      "    ``deep=True``.\n",
      "    \n",
      "    You should only call ``_eval_expand_hint()`` methods directly if you are\n",
      "    100% sure that the object has the method, as otherwise you are liable to\n",
      "    get unexpected ``AttributeError``s.  Note, again, that you do not need to\n",
      "    recursively apply the hint to args of your object: this is handled\n",
      "    automatically by ``expand()``.  ``_eval_expand_hint()`` should\n",
      "    generally not be used at all outside of an ``_eval_expand_hint()`` method.\n",
      "    If you want to apply a specific expansion from within another method, use\n",
      "    the public ``expand()`` function, method, or ``expand_hint()`` functions.\n",
      "    \n",
      "    In order for expand to work, objects must be rebuildable by their args,\n",
      "    i.e., ``obj.func(*obj.args) == obj`` must hold.\n",
      "    \n",
      "    Expand methods are passed ``**hints`` so that expand hints may use\n",
      "    'metahints'--hints that control how different expand methods are applied.\n",
      "    For example, the ``force=True`` hint described above that causes\n",
      "    ``expand(log=True)`` to ignore assumptions is such a metahint.  The\n",
      "    ``deep`` meta-hint is handled exclusively by ``expand()`` and is not\n",
      "    passed to ``_eval_expand_hint()`` methods.\n",
      "    \n",
      "    Note that expansion hints should generally be methods that perform some\n",
      "    kind of 'expansion'.  For hints that simply rewrite an expression, use the\n",
      "    .rewrite() API.\n",
      "    \n",
      "    Examples\n",
      "    ========\n",
      "    \n",
      "    >>> from sympy import Expr, sympify\n",
      "    >>> class MyClass(Expr):\n",
      "    ...     def __new__(cls, *args):\n",
      "    ...         args = sympify(args)\n",
      "    ...         return Expr.__new__(cls, *args)\n",
      "    ...\n",
      "    ...     def _eval_expand_double(self, *, force=False, **hints):\n",
      "    ...         '''\n",
      "    ...         Doubles the args of MyClass.\n",
      "    ...\n",
      "    ...         If there more than four args, doubling is not performed,\n",
      "    ...         unless force=True is also used (False by default).\n",
      "    ...         '''\n",
      "    ...         if not force and len(self.args) > 4:\n",
      "    ...             return self\n",
      "    ...         return self.func(*(self.args + self.args))\n",
      "    ...\n",
      "    >>> a = MyClass(1, 2, MyClass(3, 4))\n",
      "    >>> a\n",
      "    MyClass(1, 2, MyClass(3, 4))\n",
      "    >>> a.expand(double=True)\n",
      "    MyClass(1, 2, MyClass(3, 4, 3, 4), 1, 2, MyClass(3, 4, 3, 4))\n",
      "    >>> a.expand(double=True, deep=False)\n",
      "    MyClass(1, 2, MyClass(3, 4), 1, 2, MyClass(3, 4))\n",
      "    \n",
      "    >>> b = MyClass(1, 2, 3, 4, 5)\n",
      "    >>> b.expand(double=True)\n",
      "    MyClass(1, 2, 3, 4, 5)\n",
      "    >>> b.expand(double=True, force=True)\n",
      "    MyClass(1, 2, 3, 4, 5, 1, 2, 3, 4, 5)\n",
      "    \n",
      "    See Also\n",
      "    ========\n",
      "    \n",
      "    expand_log, expand_mul, expand_multinomial, expand_complex, expand_trig,\n",
      "    expand_power_base, expand_power_exp, expand_func, sympy.simplify.hyperexpand.hyperexpand\n",
      "\n"
     ]
    }
   ],
   "source": [
    "help(expand)"
   ]
  },
  {
   "cell_type": "markdown",
   "metadata": {},
   "source": [
    "La operación contraria a la expansión de un producto algebraico es, por supuesto, la factorización. Para factorizar una expresión en SymPy usaremos `factor`: "
   ]
  },
  {
   "cell_type": "code",
   "execution_count": 43,
   "metadata": {},
   "outputs": [
    {
     "data": {
      "text/latex": [
       "$\\displaystyle \\left(x + 1\\right) \\left(x + 2\\right) \\left(x + 3\\right)$"
      ],
      "text/plain": [
       "(x + 1)*(x + 2)*(x + 3)"
      ]
     },
     "execution_count": 43,
     "metadata": {},
     "output_type": "execute_result"
    }
   ],
   "source": [
    "factor(x**3 + 6 * x**2 + 11*x + 6)"
   ]
  },
  {
   "cell_type": "markdown",
   "metadata": {},
   "source": [
    "### Simplificar"
   ]
  },
  {
   "cell_type": "markdown",
   "metadata": {},
   "source": [
    "El comando `simplify` trata de simplificar una expresión cualquiera en otra expresión con \"mejor aspecto\", usando varias técnicas. No obstante, existen otras alternativas más specificas a `simplify`: `trigsimp`, `powsimp`, `logcombine`, etc. \n",
    "\n",
    "El uso básico de estos otros comandos es como sigue:"
   ]
  },
  {
   "cell_type": "code",
   "execution_count": 44,
   "metadata": {},
   "outputs": [
    {
     "data": {
      "text/latex": [
       "$\\displaystyle \\left(x + 1\\right) \\left(x + 2\\right) \\left(x + 3\\right)$"
      ],
      "text/plain": [
       "(x + 1)*(x + 2)*(x + 3)"
      ]
     },
     "execution_count": 44,
     "metadata": {},
     "output_type": "execute_result"
    }
   ],
   "source": [
    "# simplify a veces expande un producto, pero no suele factorizarlo\n",
    "simplify((x+1)*(x+2)*(x+3))\n",
    "simplify(_)"
   ]
  },
  {
   "cell_type": "code",
   "execution_count": 45,
   "metadata": {},
   "outputs": [
    {
     "data": {
      "text/latex": [
       "$\\displaystyle 1$"
      ],
      "text/plain": [
       "1"
      ]
     },
     "execution_count": 45,
     "metadata": {},
     "output_type": "execute_result"
    }
   ],
   "source": [
    "# simplify también usa identidades trigonométricas\n",
    "simplify(sin(a)**2 + cos(a)**2)"
   ]
  },
  {
   "cell_type": "code",
   "execution_count": 46,
   "metadata": {},
   "outputs": [
    {
     "data": {
      "text/latex": [
       "$\\displaystyle \\frac{1}{\\tan{\\left(x \\right)}}$"
      ],
      "text/plain": [
       "1/tan(x)"
      ]
     },
     "execution_count": 46,
     "metadata": {},
     "output_type": "execute_result"
    }
   ],
   "source": [
    "simplify(cos(x)/sin(x))"
   ]
  },
  {
   "cell_type": "markdown",
   "metadata": {},
   "source": [
    "### apart y together"
   ]
  },
  {
   "cell_type": "markdown",
   "metadata": {},
   "source": [
    "Para manipular expresiones simbólicas con fracciones, también podemos usar los comandos `apart` y `together`:"
   ]
  },
  {
   "cell_type": "code",
   "execution_count": 47,
   "metadata": {},
   "outputs": [],
   "source": [
    "f1 = 1/((a+1)*(a+2))"
   ]
  },
  {
   "cell_type": "code",
   "execution_count": 48,
   "metadata": {},
   "outputs": [
    {
     "data": {
      "text/latex": [
       "$\\displaystyle \\frac{1}{\\left(a + 1\\right) \\left(a + 2\\right)}$"
      ],
      "text/plain": [
       "1/((a + 1)*(a + 2))"
      ]
     },
     "execution_count": 48,
     "metadata": {},
     "output_type": "execute_result"
    }
   ],
   "source": [
    "f1"
   ]
  },
  {
   "cell_type": "code",
   "execution_count": 49,
   "metadata": {},
   "outputs": [
    {
     "data": {
      "text/latex": [
       "$\\displaystyle - \\frac{1}{a + 2} + \\frac{1}{a + 1}$"
      ],
      "text/plain": [
       "-1/(a + 2) + 1/(a + 1)"
      ]
     },
     "execution_count": 49,
     "metadata": {},
     "output_type": "execute_result"
    }
   ],
   "source": [
    "apart(f1)"
   ]
  },
  {
   "cell_type": "code",
   "execution_count": 50,
   "metadata": {},
   "outputs": [],
   "source": [
    "f2 = 1/(a+2) + 1/(a+3)"
   ]
  },
  {
   "cell_type": "code",
   "execution_count": 51,
   "metadata": {},
   "outputs": [
    {
     "data": {
      "text/latex": [
       "$\\displaystyle \\frac{1}{a + 3} + \\frac{1}{a + 2}$"
      ],
      "text/plain": [
       "1/(a + 3) + 1/(a + 2)"
      ]
     },
     "execution_count": 51,
     "metadata": {},
     "output_type": "execute_result"
    }
   ],
   "source": [
    "f2"
   ]
  },
  {
   "cell_type": "code",
   "execution_count": 52,
   "metadata": {},
   "outputs": [
    {
     "data": {
      "text/latex": [
       "$\\displaystyle \\frac{2 a + 5}{\\left(a + 2\\right) \\left(a + 3\\right)}$"
      ],
      "text/plain": [
       "(2*a + 5)/((a + 2)*(a + 3))"
      ]
     },
     "execution_count": 52,
     "metadata": {},
     "output_type": "execute_result"
    }
   ],
   "source": [
    "together(f2)"
   ]
  },
  {
   "cell_type": "markdown",
   "metadata": {},
   "source": [
    "Usualmente `simplify` combina fracciones pero no factoriza: "
   ]
  },
  {
   "cell_type": "code",
   "execution_count": 53,
   "metadata": {},
   "outputs": [
    {
     "data": {
      "text/latex": [
       "$\\displaystyle \\frac{2 a + 5}{\\left(a + 2\\right) \\left(a + 3\\right)}$"
      ],
      "text/plain": [
       "(2*a + 5)/((a + 2)*(a + 3))"
      ]
     },
     "execution_count": 53,
     "metadata": {},
     "output_type": "execute_result"
    }
   ],
   "source": [
    "simplify(f2)"
   ]
  },
  {
   "cell_type": "code",
   "execution_count": 54,
   "metadata": {},
   "outputs": [
    {
     "data": {
      "text/latex": [
       "$\\displaystyle \\frac{2 \\left(a + 2\\right)}{a^{2} + 4 a + 3}$"
      ],
      "text/plain": [
       "2*(a + 2)/(a**2 + 4*a + 3)"
      ]
     },
     "execution_count": 54,
     "metadata": {},
     "output_type": "execute_result"
    }
   ],
   "source": [
    "simplify(f1+f2)"
   ]
  },
  {
   "cell_type": "markdown",
   "metadata": {},
   "source": [
    "## Otras operaciones de Cálculo con funciones reales de variable real"
   ]
  },
  {
   "cell_type": "markdown",
   "metadata": {},
   "source": [
    "Además de manipulaciones de tipo algebraico, los otros usos esenciales de un sistema CAS son la realización de operaciones básicas del cálculo clásico, como derivadas e integrales de funciones y expresiones reales de una o varias variables reales."
   ]
  },
  {
   "cell_type": "markdown",
   "metadata": {},
   "source": [
    "### Derivación"
   ]
  },
  {
   "cell_type": "markdown",
   "metadata": {},
   "source": [
    "La operación y reglas habituales de derivación son usualmente simples. Con el paquete Simpy bastará con usar la orden `diff`. El primer argumento será la expresión a la que se le realizará la derivada, y el segundo argumento es el símbolo o variable respecto de la cual se realizará la derivada:"
   ]
  },
  {
   "cell_type": "code",
   "execution_count": 55,
   "metadata": {},
   "outputs": [
    {
     "data": {
      "text/latex": [
       "$\\displaystyle \\left(x + \\pi\\right)^{2}$"
      ],
      "text/plain": [
       "(x + pi)**2"
      ]
     },
     "execution_count": 55,
     "metadata": {},
     "output_type": "execute_result"
    }
   ],
   "source": [
    "y"
   ]
  },
  {
   "cell_type": "code",
   "execution_count": 56,
   "metadata": {},
   "outputs": [
    {
     "data": {
      "text/latex": [
       "$\\displaystyle 4 \\left(x + \\pi\\right)^{3}$"
      ],
      "text/plain": [
       "4*(x + pi)**3"
      ]
     },
     "execution_count": 56,
     "metadata": {},
     "output_type": "execute_result"
    }
   ],
   "source": [
    "diff(y**2, x)"
   ]
  },
  {
   "cell_type": "markdown",
   "metadata": {},
   "source": [
    "Para realizar derivadas de orden superior podremos especificarlo de diversas maneras:"
   ]
  },
  {
   "cell_type": "code",
   "execution_count": 57,
   "metadata": {},
   "outputs": [
    {
     "data": {
      "text/latex": [
       "$\\displaystyle 12 \\left(x + \\pi\\right)^{2}$"
      ],
      "text/plain": [
       "12*(x + pi)**2"
      ]
     },
     "execution_count": 57,
     "metadata": {},
     "output_type": "execute_result"
    }
   ],
   "source": [
    "diff(y**2, x, x)"
   ]
  },
  {
   "cell_type": "code",
   "execution_count": 58,
   "metadata": {},
   "outputs": [
    {
     "data": {
      "text/latex": [
       "$\\displaystyle 12 \\left(x + \\pi\\right)^{2}$"
      ],
      "text/plain": [
       "12*(x + pi)**2"
      ]
     },
     "execution_count": 58,
     "metadata": {},
     "output_type": "execute_result"
    }
   ],
   "source": [
    "diff(y**2, x, 2) # equivalente a lo anterior"
   ]
  },
  {
   "cell_type": "markdown",
   "metadata": {},
   "source": [
    "Para calcular la derivada de una expresión multivariada, procederemos como sigue:"
   ]
  },
  {
   "cell_type": "code",
   "execution_count": 59,
   "metadata": {},
   "outputs": [],
   "source": [
    "x, y, z = symbols(\"x,y,z\")"
   ]
  },
  {
   "cell_type": "code",
   "execution_count": 60,
   "metadata": {},
   "outputs": [],
   "source": [
    "f = sin(x*y)"
   ]
  },
  {
   "cell_type": "code",
   "execution_count": 61,
   "metadata": {},
   "outputs": [],
   "source": [
    "f = sin(x*y) + cos(y*z)"
   ]
  },
  {
   "cell_type": "code",
   "execution_count": 62,
   "metadata": {},
   "outputs": [],
   "source": [
    "f?"
   ]
  },
  {
   "cell_type": "markdown",
   "metadata": {},
   "source": [
    "Realizaremos la siguiente derivada parcial múltiple $\\frac{d^3f}{dxdy^2}$"
   ]
  },
  {
   "cell_type": "code",
   "execution_count": 63,
   "metadata": {},
   "outputs": [
    {
     "data": {
      "text/latex": [
       "$\\displaystyle - x \\left(x y \\cos{\\left(x y \\right)} + 2 \\sin{\\left(x y \\right)}\\right)$"
      ],
      "text/plain": [
       "-x*(x*y*cos(x*y) + 2*sin(x*y))"
      ]
     },
     "execution_count": 63,
     "metadata": {},
     "output_type": "execute_result"
    }
   ],
   "source": [
    "diff(f, x, 1, y, 2)"
   ]
  },
  {
   "cell_type": "markdown",
   "metadata": {},
   "source": [
    "## Integración"
   ]
  },
  {
   "cell_type": "markdown",
   "metadata": {},
   "source": [
    "La integración se realiza de una manera similar:"
   ]
  },
  {
   "cell_type": "code",
   "execution_count": 64,
   "metadata": {},
   "outputs": [
    {
     "data": {
      "text/latex": [
       "$\\displaystyle \\sin{\\left(x y \\right)} + \\cos{\\left(y z \\right)}$"
      ],
      "text/plain": [
       "sin(x*y) + cos(y*z)"
      ]
     },
     "execution_count": 64,
     "metadata": {},
     "output_type": "execute_result"
    }
   ],
   "source": [
    "f"
   ]
  },
  {
   "cell_type": "code",
   "execution_count": 65,
   "metadata": {},
   "outputs": [
    {
     "data": {
      "text/latex": [
       "$\\displaystyle x \\cos{\\left(y z \\right)} + \\begin{cases} - \\frac{\\cos{\\left(x y \\right)}}{y} & \\text{for}\\: y \\neq 0 \\\\0 & \\text{otherwise} \\end{cases}$"
      ],
      "text/plain": [
       "x*cos(y*z) + Piecewise((-cos(x*y)/y, Ne(y, 0)), (0, True))"
      ]
     },
     "execution_count": 65,
     "metadata": {},
     "output_type": "execute_result"
    }
   ],
   "source": [
    "integrate(f, x)"
   ]
  },
  {
   "cell_type": "markdown",
   "metadata": {},
   "source": [
    "Proporcionando límites inferior y superior para la variable de integración podremos evaluar integrales definidas:"
   ]
  },
  {
   "cell_type": "code",
   "execution_count": 66,
   "metadata": {},
   "outputs": [
    {
     "data": {
      "text/latex": [
       "$\\displaystyle 2 \\cos{\\left(y z \\right)}$"
      ],
      "text/plain": [
       "2*cos(y*z)"
      ]
     },
     "execution_count": 66,
     "metadata": {},
     "output_type": "execute_result"
    }
   ],
   "source": [
    "integrate(f, (x, -1, 1))"
   ]
  },
  {
   "cell_type": "markdown",
   "metadata": {},
   "source": [
    "aunque también se pueden considerar integrales impropias"
   ]
  },
  {
   "cell_type": "code",
   "execution_count": 67,
   "metadata": {},
   "outputs": [
    {
     "data": {
      "text/latex": [
       "$\\displaystyle \\sqrt{\\pi}$"
      ],
      "text/plain": [
       "sqrt(pi)"
      ]
     },
     "execution_count": 67,
     "metadata": {},
     "output_type": "execute_result"
    }
   ],
   "source": [
    "integrate(exp(-x**2), (x, -oo, oo))"
   ]
  },
  {
   "cell_type": "markdown",
   "metadata": {},
   "source": [
    "Recuerde que `oo` es el símbolo que SymPy tiene para denotar infinito (\"inifinity\" en inglés)."
   ]
  },
  {
   "cell_type": "markdown",
   "metadata": {},
   "source": [
    "### Sumas y productos"
   ]
  },
  {
   "cell_type": "markdown",
   "metadata": {},
   "source": [
    "Podemos evaluar sumas y productos usando las funciones: `Sum` y `Product`"
   ]
  },
  {
   "cell_type": "code",
   "execution_count": 68,
   "metadata": {},
   "outputs": [],
   "source": [
    "n = Symbol(\"n\")"
   ]
  },
  {
   "cell_type": "code",
   "execution_count": 69,
   "metadata": {},
   "outputs": [
    {
     "data": {
      "text/latex": [
       "$\\displaystyle \\sum_{n=1}^{10} \\frac{1}{n^{2}}$"
      ],
      "text/plain": [
       "Sum(n**(-2), (n, 1, 10))"
      ]
     },
     "execution_count": 69,
     "metadata": {},
     "output_type": "execute_result"
    }
   ],
   "source": [
    "Sum(1/n**2, (n, 1, 10))"
   ]
  },
  {
   "cell_type": "code",
   "execution_count": 70,
   "metadata": {},
   "outputs": [
    {
     "data": {
      "text/latex": [
       "$\\displaystyle 1.54976773116654$"
      ],
      "text/plain": [
       "1.54976773116654"
      ]
     },
     "execution_count": 70,
     "metadata": {},
     "output_type": "execute_result"
    }
   ],
   "source": [
    "Sum(1/n**2, (n,1, 10)).evalf()"
   ]
  },
  {
   "cell_type": "code",
   "execution_count": 71,
   "metadata": {},
   "outputs": [
    {
     "data": {
      "text/latex": [
       "$\\displaystyle 1.64493406684823$"
      ],
      "text/plain": [
       "1.64493406684823"
      ]
     },
     "execution_count": 71,
     "metadata": {},
     "output_type": "execute_result"
    }
   ],
   "source": [
    "Sum(1/n**2, (n, 1, oo)).evalf()"
   ]
  },
  {
   "cell_type": "markdown",
   "metadata": {},
   "source": [
    "Los productos se calculan de la misma manera:"
   ]
  },
  {
   "cell_type": "code",
   "execution_count": 72,
   "metadata": {},
   "outputs": [
    {
     "data": {
      "text/latex": [
       "$\\displaystyle \\prod_{n=1}^{10} n$"
      ],
      "text/plain": [
       "Product(n, (n, 1, 10))"
      ]
     },
     "execution_count": 72,
     "metadata": {},
     "output_type": "execute_result"
    }
   ],
   "source": [
    "Product(n, (n, 1, 10)) # 10!"
   ]
  },
  {
   "cell_type": "markdown",
   "metadata": {},
   "source": [
    "## Límites"
   ]
  },
  {
   "cell_type": "markdown",
   "metadata": {},
   "source": [
    "Los límites se pueden evaluar usando la función `limit`. Por ejemplo, "
   ]
  },
  {
   "cell_type": "code",
   "execution_count": 74,
   "metadata": {},
   "outputs": [
    {
     "data": {
      "text/latex": [
       "$\\displaystyle 1$"
      ],
      "text/plain": [
       "1"
      ]
     },
     "execution_count": 74,
     "metadata": {},
     "output_type": "execute_result"
    }
   ],
   "source": [
    "limit(sin(x)/x, x, 0)"
   ]
  },
  {
   "cell_type": "markdown",
   "metadata": {},
   "source": [
    "También podemos usar 'limit' para chequear el resultado de una derivación usando el comando `diff`:"
   ]
  },
  {
   "cell_type": "code",
   "execution_count": 75,
   "metadata": {},
   "outputs": [
    {
     "data": {
      "text/latex": [
       "$\\displaystyle \\sin{\\left(x y \\right)} + \\cos{\\left(y z \\right)}$"
      ],
      "text/plain": [
       "sin(x*y) + cos(y*z)"
      ]
     },
     "execution_count": 75,
     "metadata": {},
     "output_type": "execute_result"
    }
   ],
   "source": [
    "f"
   ]
  },
  {
   "cell_type": "code",
   "execution_count": 76,
   "metadata": {},
   "outputs": [
    {
     "data": {
      "text/latex": [
       "$\\displaystyle y \\cos{\\left(x y \\right)}$"
      ],
      "text/plain": [
       "y*cos(x*y)"
      ]
     },
     "execution_count": 76,
     "metadata": {},
     "output_type": "execute_result"
    }
   ],
   "source": [
    "diff(f, x)"
   ]
  },
  {
   "cell_type": "markdown",
   "metadata": {},
   "source": [
    "$\\displaystyle \\frac{\\mathrm{d}f(x,y)}{\\mathrm{d}x} = \\frac{f(x+h,y)-f(x,y)}{h}$"
   ]
  },
  {
   "cell_type": "code",
   "execution_count": 77,
   "metadata": {},
   "outputs": [],
   "source": [
    "h = Symbol(\"h\")"
   ]
  },
  {
   "cell_type": "code",
   "execution_count": 78,
   "metadata": {},
   "outputs": [
    {
     "data": {
      "text/latex": [
       "$\\displaystyle y \\cos{\\left(x y \\right)}$"
      ],
      "text/plain": [
       "y*cos(x*y)"
      ]
     },
     "execution_count": 78,
     "metadata": {},
     "output_type": "execute_result"
    }
   ],
   "source": [
    "limit((f.subs(x, x+h) - f)/h, h, 0)"
   ]
  },
  {
   "cell_type": "markdown",
   "metadata": {},
   "source": [
    "OK!"
   ]
  },
  {
   "cell_type": "markdown",
   "metadata": {},
   "source": [
    "Podemos cambiar la dirección desde la que nos acercamos al punto en el que se calcula el límite usando la palabra clave `dir` como argumento:"
   ]
  },
  {
   "cell_type": "code",
   "execution_count": 79,
   "metadata": {},
   "outputs": [
    {
     "data": {
      "text/latex": [
       "$\\displaystyle \\infty$"
      ],
      "text/plain": [
       "oo"
      ]
     },
     "execution_count": 79,
     "metadata": {},
     "output_type": "execute_result"
    }
   ],
   "source": [
    "limit(1/x, x, 0, dir=\"+\")"
   ]
  },
  {
   "cell_type": "code",
   "execution_count": 80,
   "metadata": {},
   "outputs": [
    {
     "data": {
      "text/latex": [
       "$\\displaystyle -\\infty$"
      ],
      "text/plain": [
       "-oo"
      ]
     },
     "execution_count": 80,
     "metadata": {},
     "output_type": "execute_result"
    }
   ],
   "source": [
    "limit(1/x, x, 0, dir=\"-\")"
   ]
  },
  {
   "cell_type": "markdown",
   "metadata": {},
   "source": [
    "## Series"
   ]
  },
  {
   "cell_type": "markdown",
   "metadata": {},
   "source": [
    "Los desarrollos en serie de potencias son otro de las herramientas más útiles del Cálculo, y resultan indispensables en cualquier sistema CAS. Con SymPy podemos obtener un desarrollo en serie de una función o expresión simbólica usando `series`:"
   ]
  },
  {
   "cell_type": "code",
   "execution_count": 81,
   "metadata": {},
   "outputs": [
    {
     "data": {
      "text/latex": [
       "$\\displaystyle 1 + x + \\frac{x^{2}}{2} + \\frac{x^{3}}{6} + \\frac{x^{4}}{24} + \\frac{x^{5}}{120} + O\\left(x^{6}\\right)$"
      ],
      "text/plain": [
       "1 + x + x**2/2 + x**3/6 + x**4/24 + x**5/120 + O(x**6)"
      ]
     },
     "execution_count": 81,
     "metadata": {},
     "output_type": "execute_result"
    }
   ],
   "source": [
    "series(exp(x), x)"
   ]
  },
  {
   "cell_type": "markdown",
   "metadata": {},
   "source": [
    "Por defecto se expande la expresión alrededor del punto $x=0$, pero también podemos expandirla alrededor de cualquier otro valor de $x$ incluyéndolo explicitamente en la llamada a la función `series`:"
   ]
  },
  {
   "cell_type": "code",
   "execution_count": 82,
   "metadata": {},
   "outputs": [
    {
     "data": {
      "text/latex": [
       "$\\displaystyle e + e \\left(x - 1\\right) + \\frac{e \\left(x - 1\\right)^{2}}{2} + \\frac{e \\left(x - 1\\right)^{3}}{6} + \\frac{e \\left(x - 1\\right)^{4}}{24} + \\frac{e \\left(x - 1\\right)^{5}}{120} + O\\left(\\left(x - 1\\right)^{6}; x\\rightarrow 1\\right)$"
      ],
      "text/plain": [
       "E + E*(x - 1) + E*(x - 1)**2/2 + E*(x - 1)**3/6 + E*(x - 1)**4/24 + E*(x - 1)**5/120 + O((x - 1)**6, (x, 1))"
      ]
     },
     "execution_count": 82,
     "metadata": {},
     "output_type": "execute_result"
    }
   ],
   "source": [
    "series(exp(x), x, 1)"
   ]
  },
  {
   "cell_type": "markdown",
   "metadata": {},
   "source": [
    "También podemos indicar explícitamente el orden del desarrollo en serie que se va a realizar:"
   ]
  },
  {
   "cell_type": "code",
   "execution_count": 83,
   "metadata": {},
   "outputs": [
    {
     "data": {
      "text/latex": [
       "$\\displaystyle e + e \\left(x - 1\\right) + \\frac{e \\left(x - 1\\right)^{2}}{2} + \\frac{e \\left(x - 1\\right)^{3}}{6} + \\frac{e \\left(x - 1\\right)^{4}}{24} + \\frac{e \\left(x - 1\\right)^{5}}{120} + \\frac{e \\left(x - 1\\right)^{6}}{720} + \\frac{e \\left(x - 1\\right)^{7}}{5040} + \\frac{e \\left(x - 1\\right)^{8}}{40320} + \\frac{e \\left(x - 1\\right)^{9}}{362880} + O\\left(\\left(x - 1\\right)^{10}; x\\rightarrow 1\\right)$"
      ],
      "text/plain": [
       "E + E*(x - 1) + E*(x - 1)**2/2 + E*(x - 1)**3/6 + E*(x - 1)**4/24 + E*(x - 1)**5/120 + E*(x - 1)**6/720 + E*(x - 1)**7/5040 + E*(x - 1)**8/40320 + E*(x - 1)**9/362880 + O((x - 1)**10, (x, 1))"
      ]
     },
     "execution_count": 83,
     "metadata": {},
     "output_type": "execute_result"
    }
   ],
   "source": [
    "series(exp(x), x, 1, 10)"
   ]
  },
  {
   "cell_type": "markdown",
   "metadata": {},
   "source": [
    "Los desarrollos en series incluyen por defecto el orden de la aproximación, que puede resultar muy útil para llevar un control del orden de validez de cierta fórmula o expresión cuando combinamos o realizamos algún cálculo posterior con desarrollos en serie de distinto orden:"
   ]
  },
  {
   "cell_type": "code",
   "execution_count": 84,
   "metadata": {},
   "outputs": [
    {
     "data": {
      "text/latex": [
       "$\\displaystyle 1 - \\frac{x^{2}}{2} + \\frac{x^{4}}{24} + O\\left(x^{5}\\right)$"
      ],
      "text/plain": [
       "1 - x**2/2 + x**4/24 + O(x**5)"
      ]
     },
     "execution_count": 84,
     "metadata": {},
     "output_type": "execute_result"
    }
   ],
   "source": [
    "s1 = cos(x).series(x, 0, 5)\n",
    "s1"
   ]
  },
  {
   "cell_type": "code",
   "execution_count": 85,
   "metadata": {},
   "outputs": [
    {
     "data": {
      "text/latex": [
       "$\\displaystyle x + O\\left(x^{2}\\right)$"
      ],
      "text/plain": [
       "x + O(x**2)"
      ]
     },
     "execution_count": 85,
     "metadata": {},
     "output_type": "execute_result"
    }
   ],
   "source": [
    "s2 = sin(x).series(x, 0, 2)\n",
    "s2"
   ]
  },
  {
   "cell_type": "code",
   "execution_count": 86,
   "metadata": {},
   "outputs": [
    {
     "data": {
      "text/latex": [
       "$\\displaystyle x + O\\left(x^{2}\\right)$"
      ],
      "text/plain": [
       "x + O(x**2)"
      ]
     },
     "execution_count": 86,
     "metadata": {},
     "output_type": "execute_result"
    }
   ],
   "source": [
    "expand(s1 * s2)"
   ]
  },
  {
   "cell_type": "markdown",
   "metadata": {},
   "source": [
    "Si queremos deshacernos de la información relativa al orden de la aproximación podemos emplear el método `removeO`:"
   ]
  },
  {
   "cell_type": "code",
   "execution_count": 87,
   "metadata": {},
   "outputs": [
    {
     "data": {
      "text/latex": [
       "$\\displaystyle \\frac{x^{5}}{24} - \\frac{x^{3}}{2} + x$"
      ],
      "text/plain": [
       "x**5/24 - x**3/2 + x"
      ]
     },
     "execution_count": 87,
     "metadata": {},
     "output_type": "execute_result"
    }
   ],
   "source": [
    "expand(s1.removeO() * s2.removeO())"
   ]
  },
  {
   "cell_type": "markdown",
   "metadata": {},
   "source": [
    "Pero nótese que esta salida no es el desarrollo correcto de $\\cos(x)\\sin(x)$ de $5$º orden:"
   ]
  },
  {
   "cell_type": "code",
   "execution_count": 88,
   "metadata": {},
   "outputs": [
    {
     "data": {
      "text/latex": [
       "$\\displaystyle x - \\frac{2 x^{3}}{3} + \\frac{2 x^{5}}{15} + O\\left(x^{6}\\right)$"
      ],
      "text/plain": [
       "x - 2*x**3/3 + 2*x**5/15 + O(x**6)"
      ]
     },
     "execution_count": 88,
     "metadata": {},
     "output_type": "execute_result"
    }
   ],
   "source": [
    "(cos(x)*sin(x)).series(x, 0, 6)"
   ]
  },
  {
   "cell_type": "markdown",
   "metadata": {},
   "source": [
    "## Álgebra  Lineal"
   ]
  },
  {
   "cell_type": "markdown",
   "metadata": {},
   "source": [
    "### Matrices"
   ]
  },
  {
   "cell_type": "markdown",
   "metadata": {},
   "source": [
    "Las matrices y vectores son definidos usando la clase `Matrix`:"
   ]
  },
  {
   "cell_type": "code",
   "execution_count": 89,
   "metadata": {},
   "outputs": [],
   "source": [
    "m11, m12, m21, m22 = symbols(\"m11, m12, m21, m22\")\n",
    "b1, b2 = symbols(\"b1, b2\")"
   ]
  },
  {
   "cell_type": "code",
   "execution_count": 90,
   "metadata": {},
   "outputs": [
    {
     "data": {
      "text/latex": [
       "$\\displaystyle \\left[\\begin{matrix}m_{11} & m_{12}\\\\m_{21} & m_{22}\\end{matrix}\\right]$"
      ],
      "text/plain": [
       "Matrix([\n",
       "[m11, m12],\n",
       "[m21, m22]])"
      ]
     },
     "execution_count": 90,
     "metadata": {},
     "output_type": "execute_result"
    }
   ],
   "source": [
    "A = Matrix([[m11, m12],[m21, m22]])\n",
    "A"
   ]
  },
  {
   "cell_type": "code",
   "execution_count": 91,
   "metadata": {},
   "outputs": [
    {
     "data": {
      "text/latex": [
       "$\\displaystyle \\left[\\begin{matrix}b_{1}\\\\b_{2}\\end{matrix}\\right]$"
      ],
      "text/plain": [
       "Matrix([\n",
       "[b1],\n",
       "[b2]])"
      ]
     },
     "execution_count": 91,
     "metadata": {},
     "output_type": "execute_result"
    }
   ],
   "source": [
    "b = Matrix([[b1], [b2]])\n",
    "b"
   ]
  },
  {
   "cell_type": "markdown",
   "metadata": {},
   "source": [
    "Con \"instancias\" de esta clase `Matrix` podremos efectuar las operaciones usuales de álgebra matricial:"
   ]
  },
  {
   "cell_type": "code",
   "execution_count": 92,
   "metadata": {},
   "outputs": [
    {
     "data": {
      "text/latex": [
       "$\\displaystyle \\left[\\begin{matrix}m_{11}^{2} + m_{12} m_{21} & m_{11} m_{12} + m_{12} m_{22}\\\\m_{11} m_{21} + m_{21} m_{22} & m_{12} m_{21} + m_{22}^{2}\\end{matrix}\\right]$"
      ],
      "text/plain": [
       "Matrix([\n",
       "[ m11**2 + m12*m21, m11*m12 + m12*m22],\n",
       "[m11*m21 + m21*m22,  m12*m21 + m22**2]])"
      ]
     },
     "execution_count": 92,
     "metadata": {},
     "output_type": "execute_result"
    }
   ],
   "source": [
    "A**2"
   ]
  },
  {
   "cell_type": "code",
   "execution_count": 93,
   "metadata": {},
   "outputs": [
    {
     "data": {
      "text/latex": [
       "$\\displaystyle \\left[\\begin{matrix}b_{1} m_{11} + b_{2} m_{12}\\\\b_{1} m_{21} + b_{2} m_{22}\\end{matrix}\\right]$"
      ],
      "text/plain": [
       "Matrix([\n",
       "[b1*m11 + b2*m12],\n",
       "[b1*m21 + b2*m22]])"
      ]
     },
     "execution_count": 93,
     "metadata": {},
     "output_type": "execute_result"
    }
   ],
   "source": [
    "A * b"
   ]
  },
  {
   "cell_type": "markdown",
   "metadata": {},
   "source": [
    "Así como calcular determinantes e inversas:"
   ]
  },
  {
   "cell_type": "code",
   "execution_count": 94,
   "metadata": {},
   "outputs": [
    {
     "data": {
      "text/latex": [
       "$\\displaystyle m_{11} m_{22} - m_{12} m_{21}$"
      ],
      "text/plain": [
       "m11*m22 - m12*m21"
      ]
     },
     "execution_count": 94,
     "metadata": {},
     "output_type": "execute_result"
    }
   ],
   "source": [
    "A.det()"
   ]
  },
  {
   "cell_type": "code",
   "execution_count": 95,
   "metadata": {},
   "outputs": [
    {
     "data": {
      "text/latex": [
       "$\\displaystyle \\left[\\begin{matrix}\\frac{m_{22}}{m_{11} m_{22} - m_{12} m_{21}} & - \\frac{m_{12}}{m_{11} m_{22} - m_{12} m_{21}}\\\\- \\frac{m_{21}}{m_{11} m_{22} - m_{12} m_{21}} & \\frac{m_{11}}{m_{11} m_{22} - m_{12} m_{21}}\\end{matrix}\\right]$"
      ],
      "text/plain": [
       "Matrix([\n",
       "[ m22/(m11*m22 - m12*m21), -m12/(m11*m22 - m12*m21)],\n",
       "[-m21/(m11*m22 - m12*m21),  m11/(m11*m22 - m12*m21)]])"
      ]
     },
     "execution_count": 95,
     "metadata": {},
     "output_type": "execute_result"
    }
   ],
   "source": [
    "A.inv()"
   ]
  },
  {
   "cell_type": "markdown",
   "metadata": {},
   "source": [
    "## Resolviendo ecuaciones"
   ]
  },
  {
   "cell_type": "markdown",
   "metadata": {},
   "source": [
    "Para resolver ecuaciones y sistemas de ecuaciones podemos usar `solve`:"
   ]
  },
  {
   "cell_type": "code",
   "execution_count": 96,
   "metadata": {},
   "outputs": [
    {
     "data": {
      "text/plain": [
       "[-1, 1]"
      ]
     },
     "execution_count": 96,
     "metadata": {},
     "output_type": "execute_result"
    }
   ],
   "source": [
    "solve(x**2 - 1, x)"
   ]
  },
  {
   "cell_type": "code",
   "execution_count": 97,
   "metadata": {},
   "outputs": [
    {
     "data": {
      "text/plain": [
       "[-I*sqrt(-1/2 + sqrt(5)/2),\n",
       " I*sqrt(-1/2 + sqrt(5)/2),\n",
       " -sqrt(1/2 + sqrt(5)/2),\n",
       " sqrt(1/2 + sqrt(5)/2)]"
      ]
     },
     "execution_count": 97,
     "metadata": {},
     "output_type": "execute_result"
    }
   ],
   "source": [
    "solve(x**4 - x**2 - 1, x)"
   ]
  },
  {
   "cell_type": "markdown",
   "metadata": {},
   "source": [
    "Sistemas de ecuaciones:"
   ]
  },
  {
   "cell_type": "code",
   "execution_count": 98,
   "metadata": {},
   "outputs": [
    {
     "data": {
      "text/plain": [
       "{x: 1, y: 0}"
      ]
     },
     "execution_count": 98,
     "metadata": {},
     "output_type": "execute_result"
    }
   ],
   "source": [
    "solve([x + y - 1, x - y - 1], [x,y])"
   ]
  },
  {
   "cell_type": "markdown",
   "metadata": {},
   "source": [
    "In terms of other symbolic expressions:"
   ]
  },
  {
   "cell_type": "code",
   "execution_count": 99,
   "metadata": {},
   "outputs": [
    {
     "data": {
      "text/plain": [
       "{x: a/2 + c/2, y: a/2 - c/2}"
      ]
     },
     "execution_count": 99,
     "metadata": {},
     "output_type": "execute_result"
    }
   ],
   "source": [
    "solve([x + y - a, x - y - c], [x,y])"
   ]
  },
  {
   "cell_type": "markdown",
   "metadata": {},
   "source": [
    "## Lecturas Adicionales"
   ]
  },
  {
   "cell_type": "markdown",
   "metadata": {},
   "source": [
    "* http://sympy.org/en/index.html - Página web del proyecto SymPy.\n",
    "* https://github.com/sympy/sympy - Código fuente del paquete SymPy.\n",
    "* http://live.sympy.org - Version Online de SymPy para tests y demostraciones."
   ]
  },
  {
   "cell_type": "markdown",
   "metadata": {},
   "source": [
    "## Versiones"
   ]
  },
  {
   "cell_type": "code",
   "execution_count": 101,
   "metadata": {},
   "outputs": [
    {
     "data": {
      "application/json": {
       "Software versions": [
        {
         "module": "Python",
         "version": "3.9.7 64bit [MSC v.1916 64 bit (AMD64)]"
        },
        {
         "module": "IPython",
         "version": "7.29.0"
        },
        {
         "module": "OS",
         "version": "Windows 10 10.0.22000 SP0"
        },
        {
         "module": "numpy",
         "version": "1.20.3"
        },
        {
         "module": "matplotlib",
         "version": "3.4.3"
        },
        {
         "module": "sympy",
         "version": "1.9"
        }
       ]
      },
      "text/html": [
       "<table><tr><th>Software</th><th>Version</th></tr><tr><td>Python</td><td>3.9.7 64bit [MSC v.1916 64 bit (AMD64)]</td></tr><tr><td>IPython</td><td>7.29.0</td></tr><tr><td>OS</td><td>Windows 10 10.0.22000 SP0</td></tr><tr><td>numpy</td><td>1.20.3</td></tr><tr><td>matplotlib</td><td>3.4.3</td></tr><tr><td>sympy</td><td>1.9</td></tr><tr><td colspan='2'>Sun Jul 17 20:30:18 2022 Hora de verano romance</td></tr></table>"
      ],
      "text/latex": [
       "\\begin{tabular}{|l|l|}\\hline\n",
       "{\\bf Software} & {\\bf Version} \\\\ \\hline\\hline\n",
       "Python & 3.9.7 64bit [MSC v.1916 64 bit (AMD64)] \\\\ \\hline\n",
       "IPython & 7.29.0 \\\\ \\hline\n",
       "OS & Windows 10 10.0.22000 SP0 \\\\ \\hline\n",
       "numpy & 1.20.3 \\\\ \\hline\n",
       "matplotlib & 3.4.3 \\\\ \\hline\n",
       "sympy & 1.9 \\\\ \\hline\n",
       "\\hline \\multicolumn{2}{|l|}{Sun Jul 17 20:30:18 2022 Hora de verano romance} \\\\ \\hline\n",
       "\\end{tabular}\n"
      ],
      "text/plain": [
       "Software versions\n",
       "Python 3.9.7 64bit [MSC v.1916 64 bit (AMD64)]\n",
       "IPython 7.29.0\n",
       "OS Windows 10 10.0.22000 SP0\n",
       "numpy 1.20.3\n",
       "matplotlib 3.4.3\n",
       "sympy 1.9\n",
       "Sun Jul 17 20:30:18 2022 Hora de verano romance"
      ]
     },
     "execution_count": 101,
     "metadata": {},
     "output_type": "execute_result"
    }
   ],
   "source": [
    "%reload_ext version_information\n",
    "\n",
    "%version_information numpy, matplotlib, sympy"
   ]
  },
  {
   "cell_type": "code",
   "execution_count": null,
   "metadata": {},
   "outputs": [],
   "source": []
  }
 ],
 "metadata": {
  "kernelspec": {
   "display_name": "Python 3 (ipykernel)",
   "language": "python",
   "name": "python3"
  },
  "language_info": {
   "codemirror_mode": {
    "name": "ipython",
    "version": 3
   },
   "file_extension": ".py",
   "mimetype": "text/x-python",
   "name": "python",
   "nbconvert_exporter": "python",
   "pygments_lexer": "ipython3",
   "version": "3.9.7"
  }
 },
 "nbformat": 4,
 "nbformat_minor": 1
}

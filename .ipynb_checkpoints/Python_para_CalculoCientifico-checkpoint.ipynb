{
 "cells": [
  {
   "cell_type": "markdown",
   "metadata": {},
   "source": [
    "<img src=\"./images/piconesGR_horizontal.png\" alt=\"PyConES2022\" style=\"width: 300px;\"/>"
   ]
  },
  {
   "cell_type": "markdown",
   "metadata": {},
   "source": [
    "# Introducción al Cálculo Científico con Python\n",
    "\n",
    "J.R. Johansson (robert@riken.jp);\n",
    "traducción de P. Gzlez. Rodelas (prodelas at ugr.es) \n",
    "\n",
    "La última versión en inglés de este [IPython notebook](http://ipython.org/ipython-doc/dev/interactive/htmlnotebook.html)se puede obtener en  modo presentación [http://github.com/jrjohansson/scientific-python-lectures](http://github.com/jrjohansson/scientific-python-lectures). Otros notebooks de esta misma serie están indexados en [http://jrjohansson.github.com](http://jrjohansson.github.com)."
   ]
  },
  {
   "cell_type": "markdown",
   "metadata": {},
   "source": [
    "## El papel de la computación en ciencia\n",
    "\n",
    "La ciencia ha sido tradicionalmente dividida en disciplinas teóricas y experimentales, pero durante las últimas décadas, la computación ha emergido como una parte muy importante de la ciencia. Es así como la Computación Científica resulta actualmente mucho más relacionada con la teoría, pero al mismo tiempo mantiene numerosas características en común con el trabajo experimental. Es por lo tanto vista a menudo como una tercera nueva rama de la Ciencia. En la mayoría de campos científicos, el trabajo computacional es un complemento importantísimo, tanto de los experimentos, como de la correspondiente teoría; y en la actualidad, una gran mayoria de artículos, tanto experimentales como teóricos, conllevan algunos cálculos numéricos, simulaciones o modelos computacionales.\n",
    "\n",
    "<center>\n",
    "<!-- offline version <img src=\"files/images/theory-experiment-computation.svg\" width=\"300\"> -->\n",
    "<img src=\"https://raw.github.com/jrjohansson/scientific-python-lectures/master/images/theory-experiment-computation.png\" width=\"300\">   \n",
    "</center>\n",
    "\n",
    "Tanto en las ciencias teóricas básicas, como en las experimentales, hay códigos bien establecidos de conducta acerca de cómo deben publicarse los resultados y hacer accesibles a los demás científicos los métodos de investigación empleados. Por ejemmplo, cuando se trata de resultados teóricos, los razonamientos, demostraciones y otros resultados suelen ser publicados con todo detalle, o hacerse accesibles bajo requerimiento. Del mismo modo, para resultados de tipo experimental, los procedimientos usados y los resultados son publicados, pero todos los datos experimentales usados también deberían ser accesibles si se demandan a los autores. Comienza a considerarse poco científico retener para sí ciertos detalles cruciales en una demostración teórica o cierto método experimental, que pudiera dificultar que otros científicos puedan replicar y reproducir esos mismos resultados.\n",
    "\n",
    "En Ciencias de la Computatión aún no hay líneas generales bien establecidas acerca de cómo debería proporcionarse o gestionarse, tanto el código fuente de los programas desarrollados, como los datos empleados y/o generados a lo largo de un trabajo científico publicado. Por ejemplo, es relativamente poco frecuente que el código fuente de un programa usado en una simulación para un artículo publicado sea proporcionado a los lectores, en contraposición al carácter abierto de muchos trabajos teóricos o experimentales. Así pues, es habitual que se retenga y considere que dicho código fuente para una simulación supone una ventaja competitiva (o bien algo innecesario que publicar). \n",
    "\n",
    "Sin embargo, este asunto ha comenzado a atraer recientemente una atención creciente y algunas editoriales de alto perfíl están reclamando también una mayor apertura en todas las ciencias relacionadas con la computación científica. Muchas revistas de prestigio, incluyendo Science, han comenzado a solicitar a los autores que proporcionen el código fuente del software de simulation usado en una publicación a aquellos lectores que lo requieran. \n",
    "\n",
    "Discusiones varias están también teniendo lugar acerca de la mejor manera de facilitar la  distribución de software científico, por ejemplo como material suplementario de artículos científicos.\n",
    "\n",
    "### Referencias\n",
    "\n",
    " * [Investigación Reproducible en Ciencia Computational](http://dx.doi.org/10.1126/science.1213847), Roger D. Peng, Science 334, 1226 (2011).\n",
    "\n",
    " * [Introduciendo Luz dentro de las Cajas Negras (Black Boxes)](http://dx.doi.org/10.1126/science.1218263), A. Morin et al., Science 336, 159-160 (2012).\n",
    " \n",
    " * [El caso de programas de ordenador de código abierto](http://dx.doi.org/doi:10.1038/nature10836), D.C. Ince, Nature 482, 485 (2012)."
   ]
  },
  {
   "cell_type": "markdown",
   "metadata": {},
   "source": [
    "## Requerimientos sobre computación científica\n",
    "\n",
    "**Replicación** y **reproducibilidad** son dos de las \"piedras angulares\" del método científico. Respecto al trabajo de tipo numerico, cumplir con estos conceptos tendría las siguientes implicaciones prácticas:\n",
    "\n",
    "* Replicación: Un autor de un artículo científico que involucre cálculos numéricos debería ser capaz de volver a reproducir sus resultados si se le requiere. \n",
    "\n",
    "* Reproducibilidad: Otros científicos deberían poder llevar a cabo las mismas simulaciones numéricaa y obtener los mismos resultados, o totalmente equivalentes, una vez que se disponga de la información acerca de los procedimientos y métodos usados en la publicación.\n",
    "\n",
    "\n",
    "Para alcanzar estas metas, necesitaremos:\n",
    "\n",
    "* Guardar y tomar nota del código fuente *exacto* y versión del mismo que fué usado para producir datos y figuras en los artículos publicados.\n",
    "\n",
    "* Registrar información de la versión precisa de cualquier software externo que fuera usado, así como mantener el acceso al entorno de programación empleado.\n",
    "\n",
    "* Asegurarse de que los viejos códigos y notas sean guardados en bien clasificadas copias de respaldo para futuras referencias. \n",
    "\n",
    "* Estar preparado para proporcionar información adicional acerca de los métodos usados, y puede que incluso los códigos de simulación, a cualquier lector interesado que lo requiera (¡incluso años después de que el artículo sea publicado!).\n",
    "\n",
    "* Idealmente, los códigos deberían de ser publicados online, para hacer más fácil su acceso para otros científicos interesados."
   ]
  },
  {
   "cell_type": "markdown",
   "metadata": {},
   "source": [
    "### Herramientas para el manejo de código fuente\n",
    "\n",
    "Asegurar la replicabilidad y reproducibilidad de simulaciones científicas y numéricas es un *problema complicado*, pero también existen buenas herramientas que pueden ayudar:\n",
    "\n",
    "* Software de Control de Revisiones (RCS de Revision Control System en inglés)  \n",
    "    * Buenas elecciones incluyen:\n",
    "        * git - http://git-scm.com\n",
    "        * mercurial - https://www.mercurial-scm.org/ También conocido como `hg`.\n",
    "        * subversion - http://subversion.apache.org. También conocido como `svn`.\n",
    "\n",
    "* Repositorios Online para código fuente, tanto de carácter privado como público. \n",
    "    * Algunas buenas alternativas son\n",
    "        * Github - http://www.github.com\n",
    "        * Bitbucket - http://www.bitbucket.com\n",
    "        * Repositorios organizados privadamente en servidores de una cierta universidad o departmento.\n",
    "\n",
    "#### Nota\n",
    "\t\n",
    "Estos repositorios también son excelentes para controlar la versión de manuscritos, figuras, ficheros de tesis, de datos, resultados de laboratorio, etc. Básicamente resultan apropiados para cualquier contenido digital que deba ser preservado y sea susceptible de ser actualizado frecuentemente. De nuevo, tanto repositorios públicos y privados suelen estar fácilmente disponibles y además ¡resultan ser herramientas de trabajo colaborativo excelentes!"
   ]
  },
  {
   "cell_type": "markdown",
   "metadata": {},
   "source": [
    "¿Qué es Python?\n",
    "---------------\n",
    "\n",
    "[Python](http://www.python.org/) es un lenguaje de programación moderno, de alto nivel y propósito general, que también admite el enfoque orientado a objetos.\n",
    "\n",
    "Características generales de Python:\n",
    "\n",
    "* **lenguaje simple y limpio:** Usa código intuitivo y fácil de leer, fácil de aprender y de sintaxis minimalista, que hace escalables los distintos proyectos a medida que su tamaño aumenta.\n",
    "\n",
    "* **lenguaje expresivo:** Menos líneas de código, menos errores y más fácil de mantener.\n",
    "\n",
    "Detalles técnicos:\n",
    "\n",
    "* **tipado dinámico:** No hay necesidad de declarar el tipo de las variables, argumentos o funciones.\n",
    "* **gestión automática de memoria:** No es necesario asignar y desasignar memoria para variables y arrays de datos de manera explícita. Así se evitan los errores de fuga de memoria.\n",
    "* **interpretado:** No es necesario compilar el código. El intérprete de Python lee y ejecuta el código python directamente.\n",
    "\n",
    "Ventajas:\n",
    "\n",
    "* La mayor ventaja es la facilidad de programación, minimizando el tiempo requerido para desarrolar, depurar y mantener el código.\n",
    "* Lenguaje bien diseñado, que promueve buenas prácticas de programación:\n",
    "* Permite la programación modular y orientada a objetos. También resulta un buen sistema para el ensamblaje y reutilización de código. Esto a menudo resulta en un código más transparente, mantenible y libre de errores.\n",
    "* La documentación se puede integrar de manera muy estrecha con el código.\n",
    "* Posee una gran biblioteca (también comunmente denominada librería) de módulos integrados, así como una numerosa y creciente colección de paquetes (o módulos) adicionales.\n",
    "\n",
    "Desventajas:\n",
    "\n",
    "* Ya que Python es un lenguaje de programación interpretado, y con tipos de datos gestionados dinámicamente, la ejecución del código python puede resultar algo lenta, comparada con los códigos compilados y con tipado estático, usando C o Fortran. \n",
    "* Algo descentralizado, con diferentes entornos, paquetes y documentación esparcida en varios lugares, también puede hacer más duro empezar a usarlo."
   ]
  },
  {
   "cell_type": "markdown",
   "metadata": {},
   "source": [
    "¿Qué hace Python adecuado para el cálculo científico y técnico?\n",
    "----------------------------------------------------\n",
    "\n",
    "<img src=\"https://raw.github.com/jrjohansson/scientific-python-lectures/master/images/optimizing-what.png\" width=\"600\">\n",
    "\n",
    "* Python posee en la actualidad una fuerte posición dentro del ámbito del cálculo científico: \n",
    "    * Numerosa comunidad de usuarios, documentación y ayuda fácilmente accesible.\n",
    "\n",
    "* Amplio ecosistema de bibliotecas científicas y entornos de programación\n",
    "    * numpy: http://www.numpy.org/ - Python Numérico \n",
    "    * scipy: http://www.scipy.org -  Python Científico \n",
    "    * matplotlib: http://www.matplotlib.org - Bibliotecas Gráficas\n",
    "\n",
    "* Excelente comportamiento debido a la estrecha integración con códigos altamente probados y optimizados, escritos en C o Fortran:\n",
    "    * blas, altas blas, lapack, arpack, Intel MKL, ...\n",
    "\n",
    "* Buen soporte para \n",
    "    * Procesamiento paralelo con diferentes procesos e hilos\n",
    "    * Posibilidad de Comunicación Interprocesos (MPI)\n",
    "    * Así como de computación GPU (OpenCL y CUDA) usando tarjetas gráficas\n",
    "\n",
    "* Fácilmente disponible y adecuado para su uso sobre clusters de computación de alto rendimiento (HPC, del inglés \"high-performance-computing\"). \n",
    "\n",
    "* No hay costes por licencia, evitando el gasto del presupuesto en investigación.\n",
    "\n",
    "###  Software subyacente de Python  científico \n",
    "\n",
    "<!-- <img src=\"files/images/scientific-python-stack.svg\" width=\"300\"> -->\n",
    "<img src=\"https://raw.github.com/jrjohansson/scientific-python-lectures/master/images/scientific-python-stack.png\" width=\"300\">\n"
   ]
  },
  {
   "cell_type": "markdown",
   "metadata": {},
   "source": [
    "Entornos de Python\n",
    "-------------------\n",
    "\n",
    "Python no es sólo un lenguaje de programación, sino que a menudo también se le refiere como cualquier implementación estándar del intérprete (técnicamente referido como [CPython](http://en.wikipedia.org/wiki/CPython)) que en realidad es el que hace correr el código python en un ordenador.\n",
    "\n",
    "También existen diferentes entornos mediante los cuales el intérprete de Python puede ser usado. Cada uno de dichos entornos tiene algunas ventajas y resulta adecuado para diferentes flujos de trabajo. Uno de los puntos fuertes de Python es su versatilidad y que puede usarse de maneras complementarias, pero todo esto puede resultar confuso para los principiantes, así que comenzaremos on un breve repaso sobre los entornos de Python más útiles para el Cálculo Científico y Técnico."
   ]
  },
  {
   "cell_type": "markdown",
   "metadata": {},
   "source": [
    "### Intérprete de Python\n",
    "\n",
    "La manera estándar de usar el lenguaje de programmación Python es a través de un intérprete que ejecute código python. El intérprete de Python es un programa que va leyendo y ejecutando el código python incluido en los ficheros que se le pasan como argumentos. En la línea de comandos de una terminal del sistema, el comando ``python`` se usa para invocar el intérprete de Python.\n",
    "\n",
    "Por ejemplo, para ejecutar el fichero ``mi-programa.py`` que contiene código python desde la línea de comandos de nuestro terminal, use::\n",
    "\n",
    "    $ python mi-programa.py\n",
    "\n",
    "También podemos abrir el intérprete escribiendo simplemente ``python`` en la línea de comandos, e ir tecleando interactivamente (línea a línea) código python dentro del propio intérprete. \n",
    "\n",
    "<!-- <img src=\"files/images/python-screenshot.jpg\" width=\"600\"> -->\n",
    "<img src=\"https://raw.github.com/jrjohansson/scientific-python-lectures/master/images/python-screenshot.jpg\" width=\"600\">\n",
    "\n",
    "\n",
    "Así es como se suele trabajar habitualmente cuando se está desarrollando una aplicación no demasiado compleja, o simplemente estamos realizando pequeños cálculos. Pero el intérprete estándar de Python no es el más conveniente en muchas otras ocasiones, debido fundamentalmente a las numerosas limitaciones con las que nos encontraremos."
   ]
  },
  {
   "cell_type": "markdown",
   "metadata": {},
   "source": [
    "### IPython\n",
    "\n",
    "IPython, por otro lado, es otro entorno mucho más interactivo (desarrollado inicialmente por Fernando Pérez) que aborda con éxito muchas de las limitaciones propias del intérprete de Python estándar al mismo tiempo que resulta ser ideal para el uso científico de Python. Proporciona un línea de comando directa hacia el intérprete de Python, pero con un entorno de usuario enormemente mejorado y mucho más amigable para el usuario.\n",
    "\n",
    "<!-- <img src=\"files/images/ipython-screenshot.jpg\" width=\"600\"> -->\n",
    "<img src=\"https://raw.github.com/jrjohansson/scientific-python-lectures/master/images/ipython-screenshot.jpg\" width=\"600\">\n",
    "\n",
    "Alguno de los numerosos distintivos y características más útiles de IPython incluyen:\n",
    "\n",
    "* Historia de comandos, que pueden ser recorridos con las flechas de arriba y abajo del teclado.\n",
    "* Auto-completado, desde la tecla del tabulador (Tab).\n",
    "* Posibilidad de editar código en línea.\n",
    "* Introspección de objectos, y extracción automática de cadenas de caracteres (\"strings\" en inglés) para servir de documentación para algunos objetos de python, como clases y funciones.\n",
    "* Buena interacción con el sistema operativo.\n",
    "* Soporte para ejecuciones múltiples y en paralelo de procesos de cálculo, que pueden correr sobre clusters de computación o servicios en la nube (como por ejemplo Amazon EE2).\n"
   ]
  },
  {
   "cell_type": "markdown",
   "metadata": {},
   "source": [
    "Notebook de IPython\n",
    "----------------\n",
    "\n",
    "[IPython notebook](http://ipython.org) es un entorno para Python basado en notebooks (ficheros interactivos en formato HTML) similares en cierto modo a los de Mathematica o Maple. Éstos se apoyan en una terminal IPython que sirve como servidor de cálculos o núcleo (\"kernel\" en inglés), pero a la vez proporciona un entorno basado en \"celdas\" (\"cells\" en inglés) con gran interactividad, donde los cálculos pueden ser organizados y documentados de una manera estructurada.\n",
    "\n",
    "<!-- <img src=\"files/images/ipython-notebook-screenshot.jpg\" width=\"800\"> -->\n",
    "<img src=\"https://raw.github.com/jrjohansson/scientific-python-lectures/master/images/ipython-notebook-screenshot.jpg\" width=\"800\">\n",
    "\n",
    "Los notebooks de IPython usualmente son ejecutados localmente (via Jupyter Notebook), desde el mismo ordenador en el que corre el navegador. Para comenzar una nueva sesión de IPython, ejecutar el comando siguiente:\n",
    "\n",
    "    $ jupyter notebook\n",
    "\n",
    "desde el directorio donde se quiere guardar el nuevo notebooks. Un nueva ventana (o solapa) del navegador será abierta con un índice de página donde otros notebooks existentes serán mostrados y donde otros nuevos podrán ser creados."
   ]
  },
  {
   "cell_type": "markdown",
   "metadata": {},
   "source": [
    "Spyder\n",
    "------\n",
    "\n",
    "[Spyder](http://code.google.com/p/spyderlib/) es un Entorno de Desarrollo Integrado (o IDE, de \"Integrated Develpment Environment\") de tipo MATLAB para el cálculo científico con Python. Tiene muchas ventajas en comparación con un IDE tradicional; por ejemplo que todo desde la edición del código, ejecución y depurado es llevado a cabo en un único entorno. Por otra parte, el trabajo y notebooks sobre diferentes cálculos puede organizarse como proyectos en dicho entorno IDE.\n",
    "\n",
    "<!-- <img src=\"files/images/spyder-screenshot.jpg\" width=\"800\"> -->\n",
    "<img src=\"https://raw.github.com/jrjohansson/scientific-python-lectures/master/images/spyder-screenshot.jpg\" width=\"800\">\n",
    "\n",
    "Algunas ventajas de Spyder:\n",
    "\n",
    "* Potente editor de código, con resaltado sintáctico, introspección dinámica de código e integración con el depurador (\"debugger\") de Python.\n",
    "* Explorador de variables y prompt comandos de IPython.\n",
    "* Documentación y Ayuda (\"help\") completamente integrada."
   ]
  },
  {
   "cell_type": "markdown",
   "metadata": {},
   "source": [
    "## Versiones de Python\n",
    "\n",
    "En este momento siguen coexistiendo dos versiones de Python: Python 2.7 y Python 3.X (X dependerá del momento en el que lea este Notebook). Python 3 eventualmente está llamado a suceder y sobrepasar a Python 2, pero debido a cambios sustanciales en su sintaxis no resulta ser compatible con Python 2. Sin embargo numerosos módulos y códigos ya existentes habían sido ya escritos y desarrollados para Python 2, por lo que aún resulta ser la  versión más expandida y usada en caso de necesitar de dichos módulos específicos. No obstante, para casi todo lo demás ambas versiones podrían ser válidas, con apenas pequeños cambios.\n",
    "\n",
    "Para ver que versión de Python se tiene instalada, simplemente ejecute\n",
    "    \n",
    "    $ python --version\n",
    "    Python 2.7.3\n",
    "    $ python3 --version\n",
    "    Python 3.2.3\n",
    "\n",
    "Nótese que se puede tener instaladas varias versiones de Python al mismo tiempo sin mayor problema, como se muestra en el caso anterior.\n"
   ]
  },
  {
   "cell_type": "markdown",
   "metadata": {},
   "source": [
    "## Instalación\n",
    "\n",
    "### Linux\n",
    "\n",
    "En Ubuntu Linux, para instalar python y todo lo requerido ejecute las siguientes órdenes en una terminal:\n",
    "\n",
    "    $ sudo apt-get install python ipython ipython-notebook\n",
    "    $ sudo apt-get install python-numpy python-scipy python-matplotlib python-sympy\n",
    "    $ sudo apt-get install spyder\n",
    "\n",
    "### MacOS X\n",
    "\n",
    "*Macports*\n",
    "\n",
    "Python está incluido por defecto en Mac OS X, pero para nuestro propósito también sería bastante útil instalar un nuevo entorno de python usando [Macports](http://www.macports.org/), ya que hace mucho más fácil instalar todos los paquetes y módulos adicionales requeridos. Usando Macports, podremos instalar todo lo que necesitemos con los siguientes comandos:\n",
    "\n",
    "    $ sudo port install py27-ipython +pyside+notebook+parallel+scientific\n",
    "    $ sudo port install py27-scipy py27-matplotlib py27-sympy\n",
    "    $ sudo port install py27-spyder\n",
    "\n",
    "Mientras que si queremos asociar los commandos `python` y `ipython` con las versiones instaladas via macports (en vez de con las que vienen incluidas con Mac OS X), deberemos de ejecutar los comandos siguientes en una terminal:\n",
    "\n",
    "    $ sudo port select python python27\n",
    "    $ sudo port select ipython ipython27\n",
    "\n",
    "*Fink*\n",
    "\n",
    "Alternativamente, también se podría usar el gestor de paquetes [Fink](http://www.finkproject.org/). Después de instalarlo, debería de usar los comandos siguientes para instalar python y los paquetes que necesitaremos:\n",
    "\n",
    "    $ sudo fink install python27 ipython-py27 numpy-py27 matplotlib-py27 scipy-py27 sympy-py27\n",
    "    $ sudo fink install spyder-mac-py27\n",
    "\n",
    "### Windows\n",
    "\n",
    "Windows adolece de la falta de un buen sistema de gestión de paquetes, así que la mejor forma de configurar un entorno adecuado de programación en Python es instalar una de las distribuciones pre-empaquetadas. Alguna de las mejores alternativas son:\n",
    "\n",
    " * [Enthought Python Distribution](http://www.enthought.com/products/epd.php). EPD es un producto comercial, pero también está disponible libremente para su uso academico.\n",
    " * [Anaconda CE](https://anaconda.org/). Anaconda Pro también es un producto comercial; sin embargo Anaconda Community Edition es totalmente libre.\n",
    " * [Python(x,y)](http://python-xy.github.io). Completamente de código abierto (\"open source\" en inglés).\n",
    " * [PyCharm](https://www.jetbrains.com/pycharm/) Pensado en un principio para programadores y desarrolladores profesionales de aplicaciones web, también puede descargarse una versión más limitada para uso personal.\n",
    "\n",
    "\n",
    "\n",
    "#### Nota\n",
    "\n",
    "EPD, Anaconda CE y PyCharm también están disponibles para Linux y Max OS X."
   ]
  },
  {
   "cell_type": "markdown",
   "metadata": {},
   "source": [
    "## Posibles lecturas adicionales\n",
    "\n",
    " * [Python](http://www.python.org). La web oficial sobre Python.\n",
    " * [Python tutorials](http://docs.python.org/2/tutorial/). Los tutoriales oficiales de Python.\n",
    " * [Think Python](http://www.greenteapress.com/thinkpython/). Un libro sobre Python completamente gratuito."
   ]
  }
 ],
 "metadata": {
  "anaconda-cloud": {},
  "kernelspec": {
   "display_name": "Python 3 (ipykernel)",
   "language": "python",
   "name": "python3"
  },
  "language_info": {
   "codemirror_mode": {
    "name": "ipython",
    "version": 3
   },
   "file_extension": ".py",
   "mimetype": "text/x-python",
   "name": "python",
   "nbconvert_exporter": "python",
   "pygments_lexer": "ipython3",
   "version": "3.9.7"
  }
 },
 "nbformat": 4,
 "nbformat_minor": 2
}

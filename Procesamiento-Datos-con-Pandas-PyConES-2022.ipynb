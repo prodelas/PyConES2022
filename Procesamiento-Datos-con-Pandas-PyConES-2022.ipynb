{
 "cells": [
  {
   "cell_type": "markdown",
   "metadata": {},
   "source": [
    "<img src=\"./images/piconesGR_horizontal.png\" alt=\"PyConES2022\" style=\"width: 300px;\"/>"
   ]
  },
  {
   "cell_type": "markdown",
   "metadata": {},
   "source": [
    "Este [notebook](https://ipython.org/notebook.html) forma parte de una serie de notebooks que serán usados en la [PyConES 2022](https://2022.es.pycon.org/) por:\n",
    "- [Pedro González Rodelas](https://www.ugr.es/~prodelas/) \n",
    "\n",
    "para un **Taller introductorio sobre los módulos fundamentales de Python para el cálculo científico**"
   ]
  },
  {
   "cell_type": "markdown",
   "metadata": {},
   "source": [
    "#  Procesamiento de datos y análisis con `pandas`"
   ]
  },
  {
   "cell_type": "markdown",
   "metadata": {},
   "source": [
    "El código fuente original de **Robert Johansson** en inglés  para [Numerical Python - A Practical Techniques Approach for Industry](http://www.apress.com/9781484205549) (ISBN 978-1-484205-54-9) puede descargarse de http://www.apress.com/9781484205549; traducción y material adicional por **Pedro Gzlez. Rodelas**."
   ]
  },
  {
   "cell_type": "code",
   "execution_count": 1,
   "metadata": {},
   "outputs": [],
   "source": [
    "%matplotlib inline\n",
    "import matplotlib.pyplot as plt"
   ]
  },
  {
   "cell_type": "code",
   "execution_count": 2,
   "metadata": {},
   "outputs": [],
   "source": [
    "import numpy as np"
   ]
  },
  {
   "cell_type": "code",
   "execution_count": 3,
   "metadata": {},
   "outputs": [],
   "source": [
    "import pandas as pd"
   ]
  },
  {
   "cell_type": "markdown",
   "metadata": {},
   "source": [
    "## Objeto Series"
   ]
  },
  {
   "cell_type": "code",
   "execution_count": 4,
   "metadata": {},
   "outputs": [],
   "source": [
    "s = pd.Series([909976, 8615246, 2872086, 2273305])\n",
    "# Empecemos considerando una simple serie de datos enteros"
   ]
  },
  {
   "cell_type": "code",
   "execution_count": 5,
   "metadata": {},
   "outputs": [
    {
     "data": {
      "text/plain": [
       "0     909976\n",
       "1    8615246\n",
       "2    2872086\n",
       "3    2273305\n",
       "dtype: int64"
      ]
     },
     "execution_count": 5,
     "metadata": {},
     "output_type": "execute_result"
    }
   ],
   "source": [
    "s"
   ]
  },
  {
   "cell_type": "code",
   "execution_count": 6,
   "metadata": {},
   "outputs": [
    {
     "data": {
      "text/plain": [
       "pandas.core.series.Series"
      ]
     },
     "execution_count": 6,
     "metadata": {},
     "output_type": "execute_result"
    }
   ],
   "source": [
    "type(s)\n",
    "# Comprobemos el tipo general de este nuevo objeto"
   ]
  },
  {
   "cell_type": "code",
   "execution_count": 7,
   "metadata": {},
   "outputs": [
    {
     "data": {
      "text/plain": [
       "dtype('int64')"
      ]
     },
     "execution_count": 7,
     "metadata": {},
     "output_type": "execute_result"
    }
   ],
   "source": [
    "s.dtype\n",
    "# del que siempre podremos también obtener el tipo de datos que contiene"
   ]
  },
  {
   "cell_type": "code",
   "execution_count": 8,
   "metadata": {},
   "outputs": [
    {
     "data": {
      "text/plain": [
       "RangeIndex(start=0, stop=4, step=1)"
      ]
     },
     "execution_count": 8,
     "metadata": {},
     "output_type": "execute_result"
    }
   ],
   "source": [
    "s.index\n",
    "# y los índices que tiene"
   ]
  },
  {
   "cell_type": "code",
   "execution_count": 9,
   "metadata": {},
   "outputs": [
    {
     "data": {
      "text/plain": [
       "array([ 909976, 8615246, 2872086, 2273305], dtype=int64)"
      ]
     },
     "execution_count": 9,
     "metadata": {},
     "output_type": "execute_result"
    }
   ],
   "source": [
    "s.values\n",
    "# así como los valores correspondientes a cada uno de estos índices"
   ]
  },
  {
   "cell_type": "code",
   "execution_count": 10,
   "metadata": {},
   "outputs": [],
   "source": [
    "s.index = [\"Estocolmo\", \"Londres\", \"Roma\", \"París\"]\n",
    "# Por otro lado, también podemos cambiar estos índices con \n",
    "# una denominación más descriptiva de los datos que contiene la serie "
   ]
  },
  {
   "cell_type": "code",
   "execution_count": 11,
   "metadata": {},
   "outputs": [],
   "source": [
    "s.name = \"Población\"\n",
    "# así como darle un nombre concreto a la propia serie completa"
   ]
  },
  {
   "cell_type": "code",
   "execution_count": 12,
   "metadata": {},
   "outputs": [
    {
     "data": {
      "text/plain": [
       "Estocolmo     909976\n",
       "Londres      8615246\n",
       "Roma         2872086\n",
       "París        2273305\n",
       "Name: Población, dtype: int64"
      ]
     },
     "execution_count": 12,
     "metadata": {},
     "output_type": "execute_result"
    }
   ],
   "source": [
    "# De manera que a partir de ahora se usarán estas nuevas denominaciones\n",
    "# cuando preguntemos por la serie\n",
    "s "
   ]
  },
  {
   "cell_type": "code",
   "execution_count": 13,
   "metadata": {},
   "outputs": [
    {
     "data": {
      "text/plain": [
       "8615246"
      ]
     },
     "execution_count": 13,
     "metadata": {},
     "output_type": "execute_result"
    }
   ],
   "source": [
    "# y podremos usar las nuevas denominaciones de los índices \n",
    "# para extraer el correspondiente valor \n",
    "s[\"Londres\"]"
   ]
  },
  {
   "cell_type": "markdown",
   "metadata": {},
   "source": [
    "Otra forma directa de haber realizado lo mismo de una sóla vez hubiera sido la siguiente:"
   ]
  },
  {
   "cell_type": "code",
   "execution_count": 14,
   "metadata": {},
   "outputs": [],
   "source": [
    "s = pd.Series([909976, 8615246, 2872086, 2273305], \n",
    "              index=[\"Estocolmo\", \"Londres\", \"Roma\", \"París\"], name=\"Población\")"
   ]
  },
  {
   "cell_type": "code",
   "execution_count": 15,
   "metadata": {},
   "outputs": [
    {
     "data": {
      "text/plain": [
       "(8615246, 8615246)"
      ]
     },
     "execution_count": 15,
     "metadata": {},
     "output_type": "execute_result"
    }
   ],
   "source": [
    "s[\"Londres\"], s.Londres\n",
    "# dos formas equivalentes de extraer el valor asociado a un índice descriptivo"
   ]
  },
  {
   "cell_type": "code",
   "execution_count": 16,
   "metadata": {},
   "outputs": [
    {
     "data": {
      "text/plain": [
       "909976"
      ]
     },
     "execution_count": 16,
     "metadata": {},
     "output_type": "execute_result"
    }
   ],
   "source": [
    "s.Estocolmo"
   ]
  },
  {
   "cell_type": "code",
   "execution_count": 17,
   "metadata": {},
   "outputs": [
    {
     "data": {
      "text/plain": [
       "París    2273305\n",
       "Roma     2872086\n",
       "Name: Población, dtype: int64"
      ]
     },
     "execution_count": 17,
     "metadata": {},
     "output_type": "execute_result"
    }
   ],
   "source": [
    "s[[\"París\", \"Roma\"]]\n",
    "# Ahora extraemos varios valores de la serie a la vez"
   ]
  },
  {
   "cell_type": "code",
   "execution_count": 18,
   "metadata": {},
   "outputs": [
    {
     "data": {
      "text/plain": [
       "(2572695.5, 3667653.25, 3399048.5005155364)"
      ]
     },
     "execution_count": 18,
     "metadata": {},
     "output_type": "execute_result"
    }
   ],
   "source": [
    "# y podemos calcular varios estadísticos de la serie completa\n",
    "s.median(), s.mean(), s.std()\n",
    "# como la mediana, la media, la desviación típica"
   ]
  },
  {
   "cell_type": "code",
   "execution_count": 19,
   "metadata": {},
   "outputs": [
    {
     "data": {
      "text/plain": [
       "(909976, 8615246)"
      ]
     },
     "execution_count": 19,
     "metadata": {},
     "output_type": "execute_result"
    }
   ],
   "source": [
    "s.min(), s.max()\n",
    "# así como muchos otros: el mínimo, máximo, etc."
   ]
  },
  {
   "cell_type": "code",
   "execution_count": 20,
   "metadata": {},
   "outputs": [
    {
     "data": {
      "text/plain": [
       "(1932472.75, 2572695.5, 4307876.0, 6892298.000000001)"
      ]
     },
     "execution_count": 20,
     "metadata": {},
     "output_type": "execute_result"
    }
   ],
   "source": [
    "s.quantile(q=0.25), s.quantile(q=0.5), s.quantile(q=0.75), s.quantile(q=0.90)\n",
    "# aquí estamos extrayendo los percentiles y cuartíles que deseemos \n",
    "# (nótese que el correspondiente a q=0.5 coincide con la mediana)."
   ]
  },
  {
   "cell_type": "code",
   "execution_count": 21,
   "metadata": {},
   "outputs": [
    {
     "data": {
      "text/plain": [
       "count    4.000000e+00\n",
       "mean     3.667653e+06\n",
       "std      3.399049e+06\n",
       "min      9.099760e+05\n",
       "25%      1.932473e+06\n",
       "50%      2.572696e+06\n",
       "75%      4.307876e+06\n",
       "max      8.615246e+06\n",
       "Name: Población, dtype: float64"
      ]
     },
     "execution_count": 21,
     "metadata": {},
     "output_type": "execute_result"
    }
   ],
   "source": [
    "# Por otro lado, se puede obtener un resumen casi todo esto con una sóla orden \n",
    "s.describe()"
   ]
  },
  {
   "cell_type": "code",
   "execution_count": 22,
   "metadata": {},
   "outputs": [
    {
     "data": {
      "image/png": "[encoded data removed]",
      "text/plain": [
       "<Figure size 864x216 with 4 Axes>"
      ]
     },
     "metadata": {
      "needs_background": "light"
     },
     "output_type": "display_data"
    }
   ],
   "source": [
    "# Por supuesto que esto también lo podemos expresar gráficamente\n",
    "# con distintas opciones y tipos de gráfico para ello.\n",
    "\n",
    "fig, axes = plt.subplots(1, 4, figsize=(12, 3))\n",
    "\n",
    "s.plot(ax=axes[0], kind='line', title=\"line\")\n",
    "s.plot(ax=axes[1], kind='bar', title=\"bar\")\n",
    "s.plot(ax=axes[2], kind='box', title=\"box\")\n",
    "s.plot(ax=axes[3], kind='pie', title=\"pie\")\n",
    "\n",
    "fig.tight_layout()\n",
    "fig.savefig(\"series-plot.pdf\")\n",
    "fig.savefig(\"series-plot.png\")"
   ]
  },
  {
   "cell_type": "markdown",
   "metadata": {},
   "source": [
    "## Objeto DataFrame"
   ]
  },
  {
   "cell_type": "markdown",
   "metadata": {},
   "source": [
    "Aparte del objeto de la clase Series (ideal para arrays unidimensionales), la otra clase dentro del paquete Pandas apropiada para representar cualquier tipo de array (fundamentalmente multidimensionales) es DataFrame; que a su vez puede ser vista como una colección de objetos de la clase Series, pero compartiendo un conjunto de índices común y un mismo título (o nombre)."
   ]
  },
  {
   "cell_type": "code",
   "execution_count": 23,
   "metadata": {},
   "outputs": [],
   "source": [
    "df = pd.DataFrame([[909976, 8615246, 2872086, 2273305],\n",
    "                   [\"Suecia\", \"Reino Unido\", \"Italia\", \"Francia\"]])"
   ]
  },
  {
   "cell_type": "code",
   "execution_count": 24,
   "metadata": {},
   "outputs": [
    {
     "data": {
      "text/html": [
       "<div>\n",
       "<style scoped>\n",
       "    .dataframe tbody tr th:only-of-type {\n",
       "        vertical-align: middle;\n",
       "    }\n",
       "\n",
       "    .dataframe tbody tr th {\n",
       "        vertical-align: top;\n",
       "    }\n",
       "\n",
       "    .dataframe thead th {\n",
       "        text-align: right;\n",
       "    }\n",
       "</style>\n",
       "<table border=\"1\" class=\"dataframe\">\n",
       "  <thead>\n",
       "    <tr style=\"text-align: right;\">\n",
       "      <th></th>\n",
       "      <th>0</th>\n",
       "      <th>1</th>\n",
       "      <th>2</th>\n",
       "      <th>3</th>\n",
       "    </tr>\n",
       "  </thead>\n",
       "  <tbody>\n",
       "    <tr>\n",
       "      <th>0</th>\n",
       "      <td>909976</td>\n",
       "      <td>8615246</td>\n",
       "      <td>2872086</td>\n",
       "      <td>2273305</td>\n",
       "    </tr>\n",
       "    <tr>\n",
       "      <th>1</th>\n",
       "      <td>Suecia</td>\n",
       "      <td>Reino Unido</td>\n",
       "      <td>Italia</td>\n",
       "      <td>Francia</td>\n",
       "    </tr>\n",
       "  </tbody>\n",
       "</table>\n",
       "</div>"
      ],
      "text/plain": [
       "        0            1        2        3\n",
       "0  909976      8615246  2872086  2273305\n",
       "1  Suecia  Reino Unido   Italia  Francia"
      ]
     },
     "execution_count": 24,
     "metadata": {},
     "output_type": "execute_result"
    }
   ],
   "source": [
    "df # Vemos que estas instancias de la clase Series dentro del DataFrame \n",
    "# pueden organizarse por filas"
   ]
  },
  {
   "cell_type": "code",
   "execution_count": 25,
   "metadata": {},
   "outputs": [],
   "source": [
    "df = pd.DataFrame([[909976, \"Suecia\"],\n",
    "                   [8615246, \"Reino Unido\"], \n",
    "                   [2872086, \"Italia\"],\n",
    "                   [2273305, \"Francia\"]])"
   ]
  },
  {
   "cell_type": "code",
   "execution_count": 26,
   "metadata": {},
   "outputs": [
    {
     "data": {
      "text/html": [
       "<div>\n",
       "<style scoped>\n",
       "    .dataframe tbody tr th:only-of-type {\n",
       "        vertical-align: middle;\n",
       "    }\n",
       "\n",
       "    .dataframe tbody tr th {\n",
       "        vertical-align: top;\n",
       "    }\n",
       "\n",
       "    .dataframe thead th {\n",
       "        text-align: right;\n",
       "    }\n",
       "</style>\n",
       "<table border=\"1\" class=\"dataframe\">\n",
       "  <thead>\n",
       "    <tr style=\"text-align: right;\">\n",
       "      <th></th>\n",
       "      <th>0</th>\n",
       "      <th>1</th>\n",
       "    </tr>\n",
       "  </thead>\n",
       "  <tbody>\n",
       "    <tr>\n",
       "      <th>0</th>\n",
       "      <td>909976</td>\n",
       "      <td>Suecia</td>\n",
       "    </tr>\n",
       "    <tr>\n",
       "      <th>1</th>\n",
       "      <td>8615246</td>\n",
       "      <td>Reino Unido</td>\n",
       "    </tr>\n",
       "    <tr>\n",
       "      <th>2</th>\n",
       "      <td>2872086</td>\n",
       "      <td>Italia</td>\n",
       "    </tr>\n",
       "    <tr>\n",
       "      <th>3</th>\n",
       "      <td>2273305</td>\n",
       "      <td>Francia</td>\n",
       "    </tr>\n",
       "  </tbody>\n",
       "</table>\n",
       "</div>"
      ],
      "text/plain": [
       "         0            1\n",
       "0   909976       Suecia\n",
       "1  8615246  Reino Unido\n",
       "2  2872086       Italia\n",
       "3  2273305      Francia"
      ]
     },
     "execution_count": 26,
     "metadata": {},
     "output_type": "execute_result"
    }
   ],
   "source": [
    "df     # pero también las podríamos haber dispuesto por columnas "
   ]
  },
  {
   "cell_type": "code",
   "execution_count": 27,
   "metadata": {},
   "outputs": [],
   "source": [
    "# antes de indicar los índices descriptivos oportunos\n",
    "df.index = [\"Estocolmo\", \"Londres\", \"Roma\", \"París\"]"
   ]
  },
  {
   "cell_type": "code",
   "execution_count": 28,
   "metadata": {},
   "outputs": [],
   "source": [
    "# y los nombres de cada una de las instancias del objeto Series dentro del DataFrame\n",
    "df.columns = [\"Poblacion\", \"Estado\"]"
   ]
  },
  {
   "cell_type": "code",
   "execution_count": 29,
   "metadata": {},
   "outputs": [
    {
     "data": {
      "text/html": [
       "<div>\n",
       "<style scoped>\n",
       "    .dataframe tbody tr th:only-of-type {\n",
       "        vertical-align: middle;\n",
       "    }\n",
       "\n",
       "    .dataframe tbody tr th {\n",
       "        vertical-align: top;\n",
       "    }\n",
       "\n",
       "    .dataframe thead th {\n",
       "        text-align: right;\n",
       "    }\n",
       "</style>\n",
       "<table border=\"1\" class=\"dataframe\">\n",
       "  <thead>\n",
       "    <tr style=\"text-align: right;\">\n",
       "      <th></th>\n",
       "      <th>Poblacion</th>\n",
       "      <th>Estado</th>\n",
       "    </tr>\n",
       "  </thead>\n",
       "  <tbody>\n",
       "    <tr>\n",
       "      <th>Estocolmo</th>\n",
       "      <td>909976</td>\n",
       "      <td>Suecia</td>\n",
       "    </tr>\n",
       "    <tr>\n",
       "      <th>Londres</th>\n",
       "      <td>8615246</td>\n",
       "      <td>Reino Unido</td>\n",
       "    </tr>\n",
       "    <tr>\n",
       "      <th>Roma</th>\n",
       "      <td>2872086</td>\n",
       "      <td>Italia</td>\n",
       "    </tr>\n",
       "    <tr>\n",
       "      <th>París</th>\n",
       "      <td>2273305</td>\n",
       "      <td>Francia</td>\n",
       "    </tr>\n",
       "  </tbody>\n",
       "</table>\n",
       "</div>"
      ],
      "text/plain": [
       "           Poblacion       Estado\n",
       "Estocolmo     909976       Suecia\n",
       "Londres      8615246  Reino Unido\n",
       "Roma         2872086       Italia\n",
       "París        2273305      Francia"
      ]
     },
     "execution_count": 29,
     "metadata": {},
     "output_type": "execute_result"
    }
   ],
   "source": [
    "df    # Veámos cómo quedaría el DataFrame ya completo"
   ]
  },
  {
   "cell_type": "markdown",
   "metadata": {},
   "source": [
    "Todo esto se podría haber hecho de una vez, de la siguiente manera:"
   ]
  },
  {
   "cell_type": "code",
   "execution_count": 30,
   "metadata": {},
   "outputs": [
    {
     "data": {
      "text/html": [
       "<div>\n",
       "<style scoped>\n",
       "    .dataframe tbody tr th:only-of-type {\n",
       "        vertical-align: middle;\n",
       "    }\n",
       "\n",
       "    .dataframe tbody tr th {\n",
       "        vertical-align: top;\n",
       "    }\n",
       "\n",
       "    .dataframe thead th {\n",
       "        text-align: right;\n",
       "    }\n",
       "</style>\n",
       "<table border=\"1\" class=\"dataframe\">\n",
       "  <thead>\n",
       "    <tr style=\"text-align: right;\">\n",
       "      <th></th>\n",
       "      <th>Poblacion</th>\n",
       "      <th>Estado</th>\n",
       "    </tr>\n",
       "  </thead>\n",
       "  <tbody>\n",
       "    <tr>\n",
       "      <th>Estocolmo</th>\n",
       "      <td>909976</td>\n",
       "      <td>Suecia</td>\n",
       "    </tr>\n",
       "    <tr>\n",
       "      <th>Londres</th>\n",
       "      <td>8615246</td>\n",
       "      <td>Reino Unido</td>\n",
       "    </tr>\n",
       "    <tr>\n",
       "      <th>Roma</th>\n",
       "      <td>2872086</td>\n",
       "      <td>Italia</td>\n",
       "    </tr>\n",
       "    <tr>\n",
       "      <th>París</th>\n",
       "      <td>2273305</td>\n",
       "      <td>Francia</td>\n",
       "    </tr>\n",
       "  </tbody>\n",
       "</table>\n",
       "</div>"
      ],
      "text/plain": [
       "           Poblacion       Estado\n",
       "Estocolmo     909976       Suecia\n",
       "Londres      8615246  Reino Unido\n",
       "Roma         2872086       Italia\n",
       "París        2273305      Francia"
      ]
     },
     "execution_count": 30,
     "metadata": {},
     "output_type": "execute_result"
    }
   ],
   "source": [
    "df = pd.DataFrame([[909976, \"Suecia\"],\n",
    "                   [8615246, \"Reino Unido\"], \n",
    "                   [2872086, \"Italia\"],\n",
    "                   [2273305, \"Francia\"]],\n",
    "                  index=[\"Estocolmo\", \"Londres\", \"Roma\", \"París\"],\n",
    "                  columns=[\"Poblacion\", \"Estado\"]);\n",
    "df"
   ]
  },
  {
   "cell_type": "markdown",
   "metadata": {},
   "source": [
    "O bien de esta otra (usando un diccionario, con una entrada para cada columna):"
   ]
  },
  {
   "cell_type": "code",
   "execution_count": 31,
   "metadata": {},
   "outputs": [
    {
     "data": {
      "text/html": [
       "<div>\n",
       "<style scoped>\n",
       "    .dataframe tbody tr th:only-of-type {\n",
       "        vertical-align: middle;\n",
       "    }\n",
       "\n",
       "    .dataframe tbody tr th {\n",
       "        vertical-align: top;\n",
       "    }\n",
       "\n",
       "    .dataframe thead th {\n",
       "        text-align: right;\n",
       "    }\n",
       "</style>\n",
       "<table border=\"1\" class=\"dataframe\">\n",
       "  <thead>\n",
       "    <tr style=\"text-align: right;\">\n",
       "      <th></th>\n",
       "      <th>Poblacion</th>\n",
       "      <th>Estado</th>\n",
       "    </tr>\n",
       "  </thead>\n",
       "  <tbody>\n",
       "    <tr>\n",
       "      <th>Estocolmo</th>\n",
       "      <td>909976</td>\n",
       "      <td>Suecia</td>\n",
       "    </tr>\n",
       "    <tr>\n",
       "      <th>Londres</th>\n",
       "      <td>8615246</td>\n",
       "      <td>Reino Unido</td>\n",
       "    </tr>\n",
       "    <tr>\n",
       "      <th>Roma</th>\n",
       "      <td>2872086</td>\n",
       "      <td>Italia</td>\n",
       "    </tr>\n",
       "    <tr>\n",
       "      <th>París</th>\n",
       "      <td>2273305</td>\n",
       "      <td>Francia</td>\n",
       "    </tr>\n",
       "  </tbody>\n",
       "</table>\n",
       "</div>"
      ],
      "text/plain": [
       "           Poblacion       Estado\n",
       "Estocolmo     909976       Suecia\n",
       "Londres      8615246  Reino Unido\n",
       "Roma         2872086       Italia\n",
       "París        2273305      Francia"
      ]
     },
     "execution_count": 31,
     "metadata": {},
     "output_type": "execute_result"
    }
   ],
   "source": [
    "df = pd.DataFrame({\"Poblacion\": [909976, 8615246, 2872086, 2273305],\n",
    "                   \"Estado\": [\"Suecia\", \"Reino Unido\", \"Italia\", \"Francia\"]},\n",
    "                  index=[\"Estocolmo\", \"Londres\", \"Roma\", \"París\"]);\n",
    "df  # Nótese que en este caso la ordenación de las columnas se hace automáticamente \n",
    "#     a partir de los nombres asignados a cada una de ellas."
   ]
  },
  {
   "cell_type": "code",
   "execution_count": 32,
   "metadata": {},
   "outputs": [
    {
     "data": {
      "text/plain": [
       "Index(['Estocolmo', 'Londres', 'Roma', 'París'], dtype='object')"
      ]
     },
     "execution_count": 32,
     "metadata": {},
     "output_type": "execute_result"
    }
   ],
   "source": [
    "df.index     # Nótese también que por defecto el mapa de caracteres empleado para los índices\n",
    "# es el UTF-8 o Unicode, lo cuál permite el uso de acentos y otros caracteres no ingleses."
   ]
  },
  {
   "cell_type": "code",
   "execution_count": 33,
   "metadata": {},
   "outputs": [
    {
     "data": {
      "text/plain": [
       "Index(['Poblacion', 'Estado'], dtype='object')"
      ]
     },
     "execution_count": 33,
     "metadata": {},
     "output_type": "execute_result"
    }
   ],
   "source": [
    "df.columns"
   ]
  },
  {
   "cell_type": "code",
   "execution_count": 34,
   "metadata": {},
   "outputs": [
    {
     "data": {
      "text/plain": [
       "array([[909976, 'Suecia'],\n",
       "       [8615246, 'Reino Unido'],\n",
       "       [2872086, 'Italia'],\n",
       "       [2273305, 'Francia']], dtype=object)"
      ]
     },
     "execution_count": 34,
     "metadata": {},
     "output_type": "execute_result"
    }
   ],
   "source": [
    "df.values"
   ]
  },
  {
   "cell_type": "code",
   "execution_count": 35,
   "metadata": {},
   "outputs": [
    {
     "data": {
      "text/plain": [
       "Estocolmo     909976\n",
       "Londres      8615246\n",
       "Roma         2872086\n",
       "París        2273305\n",
       "Name: Poblacion, dtype: int64"
      ]
     },
     "execution_count": 35,
     "metadata": {},
     "output_type": "execute_result"
    }
   ],
   "source": [
    "df[\"Poblacion\"]  \n",
    "# df[\"Población\"] también funcionaría con acento, pero no con \"df.Población\" "
   ]
  },
  {
   "cell_type": "code",
   "execution_count": 36,
   "metadata": {},
   "outputs": [
    {
     "data": {
      "text/plain": [
       "pandas.core.series.Series"
      ]
     },
     "execution_count": 36,
     "metadata": {},
     "output_type": "execute_result"
    }
   ],
   "source": [
    "type(_)    # Vemos que tipo general de estos objetos sigue siendo de la clase Series"
   ]
  },
  {
   "cell_type": "code",
   "execution_count": 37,
   "metadata": {},
   "outputs": [
    {
     "data": {
      "text/plain": [
       "pandas.core.series.Series"
      ]
     },
     "execution_count": 37,
     "metadata": {},
     "output_type": "execute_result"
    }
   ],
   "source": [
    "type(df[\"Poblacion\"]) \n",
    "# \"type(df.Población)\" daría el mismo resultado en caso de no tener acentos"
   ]
  },
  {
   "cell_type": "code",
   "execution_count": 38,
   "metadata": {},
   "outputs": [
    {
     "data": {
      "text/plain": [
       "909976"
      ]
     },
     "execution_count": 38,
     "metadata": {},
     "output_type": "execute_result"
    }
   ],
   "source": [
    "df[\"Poblacion\"].Estocolmo\n",
    "# \"df.Poblacion.Estocolmo\" también daría el mismo resultado"
   ]
  },
  {
   "cell_type": "code",
   "execution_count": 39,
   "metadata": {},
   "outputs": [
    {
     "data": {
      "text/plain": [
       "pandas.core.indexing._iLocIndexer"
      ]
     },
     "execution_count": 39,
     "metadata": {},
     "output_type": "execute_result"
    }
   ],
   "source": [
    "type(df.iloc) # Véase como el tipo utilizado es un objeto especial de la clase _IXIndexer"
   ]
  },
  {
   "cell_type": "code",
   "execution_count": 40,
   "metadata": {},
   "outputs": [
    {
     "data": {
      "text/plain": [
       "Poblacion    909976\n",
       "Estado       Suecia\n",
       "Name: Estocolmo, dtype: object"
      ]
     },
     "execution_count": 40,
     "metadata": {},
     "output_type": "execute_result"
    }
   ],
   "source": [
    "df.loc[\"Estocolmo\"]  # De esta manera obtenemos la serie completa asociada al índice \"Estocolmo\""
   ]
  },
  {
   "cell_type": "code",
   "execution_count": 41,
   "metadata": {},
   "outputs": [
    {
     "data": {
      "text/plain": [
       "pandas.core.series.Series"
      ]
     },
     "execution_count": 41,
     "metadata": {},
     "output_type": "execute_result"
    }
   ],
   "source": [
    "type(df.loc[\"Estocolmo\"])   # que por supuesto es una instancia de la clase Series de Pandas"
   ]
  },
  {
   "cell_type": "code",
   "execution_count": 42,
   "metadata": {},
   "outputs": [
    {
     "data": {
      "text/html": [
       "<div>\n",
       "<style scoped>\n",
       "    .dataframe tbody tr th:only-of-type {\n",
       "        vertical-align: middle;\n",
       "    }\n",
       "\n",
       "    .dataframe tbody tr th {\n",
       "        vertical-align: top;\n",
       "    }\n",
       "\n",
       "    .dataframe thead th {\n",
       "        text-align: right;\n",
       "    }\n",
       "</style>\n",
       "<table border=\"1\" class=\"dataframe\">\n",
       "  <thead>\n",
       "    <tr style=\"text-align: right;\">\n",
       "      <th></th>\n",
       "      <th>Poblacion</th>\n",
       "      <th>Estado</th>\n",
       "    </tr>\n",
       "  </thead>\n",
       "  <tbody>\n",
       "    <tr>\n",
       "      <th>París</th>\n",
       "      <td>2273305</td>\n",
       "      <td>Francia</td>\n",
       "    </tr>\n",
       "    <tr>\n",
       "      <th>Roma</th>\n",
       "      <td>2872086</td>\n",
       "      <td>Italia</td>\n",
       "    </tr>\n",
       "  </tbody>\n",
       "</table>\n",
       "</div>"
      ],
      "text/plain": [
       "       Poblacion   Estado\n",
       "París    2273305  Francia\n",
       "Roma     2872086   Italia"
      ]
     },
     "execution_count": 42,
     "metadata": {},
     "output_type": "execute_result"
    }
   ],
   "source": [
    "df.loc[[\"París\", \"Roma\"]]   # Aquí obtenemos a la vez las series indicadas"
   ]
  },
  {
   "cell_type": "code",
   "execution_count": 43,
   "metadata": {},
   "outputs": [
    {
     "data": {
      "text/plain": [
       "París    2273305\n",
       "Roma     2872086\n",
       "Name: Poblacion, dtype: int64"
      ]
     },
     "execution_count": 43,
     "metadata": {},
     "output_type": "execute_result"
    }
   ],
   "source": [
    "#  Y si sólo queremos obtener la \"Población\" de ambas series:\n",
    "df.loc[[\"París\", \"Roma\"], \"Poblacion\"]    "
   ]
  },
  {
   "cell_type": "code",
   "execution_count": 44,
   "metadata": {},
   "outputs": [
    {
     "data": {
      "text/plain": [
       "2273305"
      ]
     },
     "execution_count": 44,
     "metadata": {},
     "output_type": "execute_result"
    }
   ],
   "source": [
    "df.loc[\"París\", \"Poblacion\"]   # En este caso sólo le pedimos el valor de una de ellas"
   ]
  },
  {
   "cell_type": "code",
   "execution_count": 45,
   "metadata": {},
   "outputs": [
    {
     "name": "stderr",
     "output_type": "stream",
     "text": [
      "C:\\Users\\UX363\\AppData\\Local\\Temp/ipykernel_42556/80761705.py:1: FutureWarning: Dropping of nuisance columns in DataFrame reductions (with 'numeric_only=None') is deprecated; in a future version this will raise TypeError.  Select only valid columns before calling the reduction.\n",
      "  df.mean()    # Aquí lo que queremos obtener es la media de todas las columnas numéricas\n"
     ]
    },
    {
     "data": {
      "text/plain": [
       "Poblacion    3667653.25\n",
       "dtype: float64"
      ]
     },
     "execution_count": 45,
     "metadata": {},
     "output_type": "execute_result"
    }
   ],
   "source": [
    "df.mean()    # Aquí lo que queremos obtener es la media de todas las columnas numéricas"
   ]
  },
  {
   "cell_type": "code",
   "execution_count": 46,
   "metadata": {},
   "outputs": [
    {
     "name": "stdout",
     "output_type": "stream",
     "text": [
      "<class 'pandas.core.frame.DataFrame'>\n",
      "Index: 4 entries, Estocolmo to París\n",
      "Data columns (total 2 columns):\n",
      " #   Column     Non-Null Count  Dtype \n",
      "---  ------     --------------  ----- \n",
      " 0   Poblacion  4 non-null      int64 \n",
      " 1   Estado     4 non-null      object\n",
      "dtypes: int64(1), object(1)\n",
      "memory usage: 268.0+ bytes\n"
     ]
    }
   ],
   "source": [
    "df.info()    # Ahora le solicitamos información global del DataFrame"
   ]
  },
  {
   "cell_type": "code",
   "execution_count": 47,
   "metadata": {},
   "outputs": [
    {
     "data": {
      "text/plain": [
       "Poblacion     int64\n",
       "Estado       object\n",
       "dtype: object"
      ]
     },
     "execution_count": 47,
     "metadata": {},
     "output_type": "execute_result"
    }
   ],
   "source": [
    "df.dtypes    # los tipos de datos de las distintas Series que contiene"
   ]
  },
  {
   "cell_type": "code",
   "execution_count": 48,
   "metadata": {},
   "outputs": [
    {
     "data": {
      "text/html": [
       "<div>\n",
       "<style scoped>\n",
       "    .dataframe tbody tr th:only-of-type {\n",
       "        vertical-align: middle;\n",
       "    }\n",
       "\n",
       "    .dataframe tbody tr th {\n",
       "        vertical-align: top;\n",
       "    }\n",
       "\n",
       "    .dataframe thead th {\n",
       "        text-align: right;\n",
       "    }\n",
       "</style>\n",
       "<table border=\"1\" class=\"dataframe\">\n",
       "  <thead>\n",
       "    <tr style=\"text-align: right;\">\n",
       "      <th></th>\n",
       "      <th>Poblacion</th>\n",
       "      <th>Estado</th>\n",
       "    </tr>\n",
       "  </thead>\n",
       "  <tbody>\n",
       "    <tr>\n",
       "      <th>Estocolmo</th>\n",
       "      <td>909976</td>\n",
       "      <td>Suecia</td>\n",
       "    </tr>\n",
       "    <tr>\n",
       "      <th>Londres</th>\n",
       "      <td>8615246</td>\n",
       "      <td>Reino Unido</td>\n",
       "    </tr>\n",
       "    <tr>\n",
       "      <th>Roma</th>\n",
       "      <td>2872086</td>\n",
       "      <td>Italia</td>\n",
       "    </tr>\n",
       "    <tr>\n",
       "      <th>París</th>\n",
       "      <td>2273305</td>\n",
       "      <td>Francia</td>\n",
       "    </tr>\n",
       "  </tbody>\n",
       "</table>\n",
       "</div>"
      ],
      "text/plain": [
       "           Poblacion       Estado\n",
       "Estocolmo     909976       Suecia\n",
       "Londres      8615246  Reino Unido\n",
       "Roma         2872086       Italia\n",
       "París        2273305      Francia"
      ]
     },
     "execution_count": 48,
     "metadata": {},
     "output_type": "execute_result"
    }
   ],
   "source": [
    "df.head()    # Esta orden sería muy útil en caso de DataFrames con Series bastante grandes"
   ]
  },
  {
   "cell_type": "code",
   "execution_count": 49,
   "metadata": {},
   "outputs": [],
   "source": [
    "# !head -n5 ./european_cities.csv  \n",
    "# esto sólo funcionaría en sistema tipo Unix y nos\n",
    "# proporcionaría las cinco primeras líneas del fichero"
   ]
  },
  {
   "cell_type": "markdown",
   "metadata": {},
   "source": [
    "## Conjuntos de datos de mayor tamaño"
   ]
  },
  {
   "cell_type": "markdown",
   "metadata": {},
   "source": [
    "La ventaja fundamental de usar el paquete Pandas se hace más evidente cuando se trabaja con conjuntos de datos mucho más complejos que los ejemplos anteriores. De hecho Pandas proporciona varias formas de poder leer o extraer dichos datos a partir de ficheros con diferentes formatos. Uno de los más extendidos es el formato CSV (de \"Comma Separated Values\" en inglés) y el procedimiento \"read-csv\" de Pandas permite realizar la correspondiente lectura a partir de un fichero o URL con bastante flexibilidad y versatilidad (ejecutar \"help(pd.read_csv)\" para consultar alguna de sus muchas posibilidades)."
   ]
  },
  {
   "cell_type": "code",
   "execution_count": 50,
   "metadata": {},
   "outputs": [
    {
     "name": "stdout",
     "output_type": "stream",
     "text": [
      "Help on function read_csv in module pandas.io.parsers.readers:\n",
      "\n",
      "read_csv(filepath_or_buffer: 'FilePathOrBuffer', sep=<no_default>, delimiter=None, header='infer', names=<no_default>, index_col=None, usecols=None, squeeze=False, prefix=<no_default>, mangle_dupe_cols=True, dtype: 'DtypeArg | None' = None, engine=None, converters=None, true_values=None, false_values=None, skipinitialspace=False, skiprows=None, skipfooter=0, nrows=None, na_values=None, keep_default_na=True, na_filter=True, verbose=False, skip_blank_lines=True, parse_dates=False, infer_datetime_format=False, keep_date_col=False, date_parser=None, dayfirst=False, cache_dates=True, iterator=False, chunksize=None, compression='infer', thousands=None, decimal: 'str' = '.', lineterminator=None, quotechar='\"', quoting=0, doublequote=True, escapechar=None, comment=None, encoding=None, encoding_errors: 'str | None' = 'strict', dialect=None, error_bad_lines=None, warn_bad_lines=None, on_bad_lines=None, delim_whitespace=False, low_memory=True, memory_map=False, float_precision=None, storage_options: 'StorageOptions' = None)\n",
      "    Read a comma-separated values (csv) file into DataFrame.\n",
      "    \n",
      "    Also supports optionally iterating or breaking of the file\n",
      "    into chunks.\n",
      "    \n",
      "    Additional help can be found in the online docs for\n",
      "    `IO Tools <https://pandas.pydata.org/pandas-docs/stable/user_guide/io.html>`_.\n",
      "    \n",
      "    Parameters\n",
      "    ----------\n",
      "    filepath_or_buffer : str, path object or file-like object\n",
      "        Any valid string path is acceptable. The string could be a URL. Valid\n",
      "        URL schemes include http, ftp, s3, gs, and file. For file URLs, a host is\n",
      "        expected. A local file could be: file://localhost/path/to/table.csv.\n",
      "    \n",
      "        If you want to pass in a path object, pandas accepts any ``os.PathLike``.\n",
      "    \n",
      "        By file-like object, we refer to objects with a ``read()`` method, such as\n",
      "        a file handle (e.g. via builtin ``open`` function) or ``StringIO``.\n",
      "    sep : str, default ','\n",
      "        Delimiter to use. If sep is None, the C engine cannot automatically detect\n",
      "        the separator, but the Python parsing engine can, meaning the latter will\n",
      "        be used and automatically detect the separator by Python's builtin sniffer\n",
      "        tool, ``csv.Sniffer``. In addition, separators longer than 1 character and\n",
      "        different from ``'\\s+'`` will be interpreted as regular expressions and\n",
      "        will also force the use of the Python parsing engine. Note that regex\n",
      "        delimiters are prone to ignoring quoted data. Regex example: ``'\\r\\t'``.\n",
      "    delimiter : str, default ``None``\n",
      "        Alias for sep.\n",
      "    header : int, list of int, default 'infer'\n",
      "        Row number(s) to use as the column names, and the start of the\n",
      "        data.  Default behavior is to infer the column names: if no names\n",
      "        are passed the behavior is identical to ``header=0`` and column\n",
      "        names are inferred from the first line of the file, if column\n",
      "        names are passed explicitly then the behavior is identical to\n",
      "        ``header=None``. Explicitly pass ``header=0`` to be able to\n",
      "        replace existing names. The header can be a list of integers that\n",
      "        specify row locations for a multi-index on the columns\n",
      "        e.g. [0,1,3]. Intervening rows that are not specified will be\n",
      "        skipped (e.g. 2 in this example is skipped). Note that this\n",
      "        parameter ignores commented lines and empty lines if\n",
      "        ``skip_blank_lines=True``, so ``header=0`` denotes the first line of\n",
      "        data rather than the first line of the file.\n",
      "    names : array-like, optional\n",
      "        List of column names to use. If the file contains a header row,\n",
      "        then you should explicitly pass ``header=0`` to override the column names.\n",
      "        Duplicates in this list are not allowed.\n",
      "    index_col : int, str, sequence of int / str, or False, default ``None``\n",
      "      Column(s) to use as the row labels of the ``DataFrame``, either given as\n",
      "      string name or column index. If a sequence of int / str is given, a\n",
      "      MultiIndex is used.\n",
      "    \n",
      "      Note: ``index_col=False`` can be used to force pandas to *not* use the first\n",
      "      column as the index, e.g. when you have a malformed file with delimiters at\n",
      "      the end of each line.\n",
      "    usecols : list-like or callable, optional\n",
      "        Return a subset of the columns. If list-like, all elements must either\n",
      "        be positional (i.e. integer indices into the document columns) or strings\n",
      "        that correspond to column names provided either by the user in `names` or\n",
      "        inferred from the document header row(s). For example, a valid list-like\n",
      "        `usecols` parameter would be ``[0, 1, 2]`` or ``['foo', 'bar', 'baz']``.\n",
      "        Element order is ignored, so ``usecols=[0, 1]`` is the same as ``[1, 0]``.\n",
      "        To instantiate a DataFrame from ``data`` with element order preserved use\n",
      "        ``pd.read_csv(data, usecols=['foo', 'bar'])[['foo', 'bar']]`` for columns\n",
      "        in ``['foo', 'bar']`` order or\n",
      "        ``pd.read_csv(data, usecols=['foo', 'bar'])[['bar', 'foo']]``\n",
      "        for ``['bar', 'foo']`` order.\n",
      "    \n",
      "        If callable, the callable function will be evaluated against the column\n",
      "        names, returning names where the callable function evaluates to True. An\n",
      "        example of a valid callable argument would be ``lambda x: x.upper() in\n",
      "        ['AAA', 'BBB', 'DDD']``. Using this parameter results in much faster\n",
      "        parsing time and lower memory usage.\n",
      "    squeeze : bool, default False\n",
      "        If the parsed data only contains one column then return a Series.\n",
      "    prefix : str, optional\n",
      "        Prefix to add to column numbers when no header, e.g. 'X' for X0, X1, ...\n",
      "    mangle_dupe_cols : bool, default True\n",
      "        Duplicate columns will be specified as 'X', 'X.1', ...'X.N', rather than\n",
      "        'X'...'X'. Passing in False will cause data to be overwritten if there\n",
      "        are duplicate names in the columns.\n",
      "    dtype : Type name or dict of column -> type, optional\n",
      "        Data type for data or columns. E.g. {'a': np.float64, 'b': np.int32,\n",
      "        'c': 'Int64'}\n",
      "        Use `str` or `object` together with suitable `na_values` settings\n",
      "        to preserve and not interpret dtype.\n",
      "        If converters are specified, they will be applied INSTEAD\n",
      "        of dtype conversion.\n",
      "    engine : {'c', 'python'}, optional\n",
      "        Parser engine to use. The C engine is faster while the python engine is\n",
      "        currently more feature-complete.\n",
      "    converters : dict, optional\n",
      "        Dict of functions for converting values in certain columns. Keys can either\n",
      "        be integers or column labels.\n",
      "    true_values : list, optional\n",
      "        Values to consider as True.\n",
      "    false_values : list, optional\n",
      "        Values to consider as False.\n",
      "    skipinitialspace : bool, default False\n",
      "        Skip spaces after delimiter.\n",
      "    skiprows : list-like, int or callable, optional\n",
      "        Line numbers to skip (0-indexed) or number of lines to skip (int)\n",
      "        at the start of the file.\n",
      "    \n",
      "        If callable, the callable function will be evaluated against the row\n",
      "        indices, returning True if the row should be skipped and False otherwise.\n",
      "        An example of a valid callable argument would be ``lambda x: x in [0, 2]``.\n",
      "    skipfooter : int, default 0\n",
      "        Number of lines at bottom of file to skip (Unsupported with engine='c').\n",
      "    nrows : int, optional\n",
      "        Number of rows of file to read. Useful for reading pieces of large files.\n",
      "    na_values : scalar, str, list-like, or dict, optional\n",
      "        Additional strings to recognize as NA/NaN. If dict passed, specific\n",
      "        per-column NA values.  By default the following values are interpreted as\n",
      "        NaN: '', '#N/A', '#N/A N/A', '#NA', '-1.#IND', '-1.#QNAN', '-NaN', '-nan',\n",
      "        '1.#IND', '1.#QNAN', '<NA>', 'N/A', 'NA', 'NULL', 'NaN', 'n/a',\n",
      "        'nan', 'null'.\n",
      "    keep_default_na : bool, default True\n",
      "        Whether or not to include the default NaN values when parsing the data.\n",
      "        Depending on whether `na_values` is passed in, the behavior is as follows:\n",
      "    \n",
      "        * If `keep_default_na` is True, and `na_values` are specified, `na_values`\n",
      "          is appended to the default NaN values used for parsing.\n",
      "        * If `keep_default_na` is True, and `na_values` are not specified, only\n",
      "          the default NaN values are used for parsing.\n",
      "        * If `keep_default_na` is False, and `na_values` are specified, only\n",
      "          the NaN values specified `na_values` are used for parsing.\n",
      "        * If `keep_default_na` is False, and `na_values` are not specified, no\n",
      "          strings will be parsed as NaN.\n",
      "    \n",
      "        Note that if `na_filter` is passed in as False, the `keep_default_na` and\n",
      "        `na_values` parameters will be ignored.\n",
      "    na_filter : bool, default True\n",
      "        Detect missing value markers (empty strings and the value of na_values). In\n",
      "        data without any NAs, passing na_filter=False can improve the performance\n",
      "        of reading a large file.\n",
      "    verbose : bool, default False\n",
      "        Indicate number of NA values placed in non-numeric columns.\n",
      "    skip_blank_lines : bool, default True\n",
      "        If True, skip over blank lines rather than interpreting as NaN values.\n",
      "    parse_dates : bool or list of int or names or list of lists or dict, default False\n",
      "        The behavior is as follows:\n",
      "    \n",
      "        * boolean. If True -> try parsing the index.\n",
      "        * list of int or names. e.g. If [1, 2, 3] -> try parsing columns 1, 2, 3\n",
      "          each as a separate date column.\n",
      "        * list of lists. e.g.  If [[1, 3]] -> combine columns 1 and 3 and parse as\n",
      "          a single date column.\n",
      "        * dict, e.g. {'foo' : [1, 3]} -> parse columns 1, 3 as date and call\n",
      "          result 'foo'\n",
      "    \n",
      "        If a column or index cannot be represented as an array of datetimes,\n",
      "        say because of an unparsable value or a mixture of timezones, the column\n",
      "        or index will be returned unaltered as an object data type. For\n",
      "        non-standard datetime parsing, use ``pd.to_datetime`` after\n",
      "        ``pd.read_csv``. To parse an index or column with a mixture of timezones,\n",
      "        specify ``date_parser`` to be a partially-applied\n",
      "        :func:`pandas.to_datetime` with ``utc=True``. See\n",
      "        :ref:`io.csv.mixed_timezones` for more.\n",
      "    \n",
      "        Note: A fast-path exists for iso8601-formatted dates.\n",
      "    infer_datetime_format : bool, default False\n",
      "        If True and `parse_dates` is enabled, pandas will attempt to infer the\n",
      "        format of the datetime strings in the columns, and if it can be inferred,\n",
      "        switch to a faster method of parsing them. In some cases this can increase\n",
      "        the parsing speed by 5-10x.\n",
      "    keep_date_col : bool, default False\n",
      "        If True and `parse_dates` specifies combining multiple columns then\n",
      "        keep the original columns.\n",
      "    date_parser : function, optional\n",
      "        Function to use for converting a sequence of string columns to an array of\n",
      "        datetime instances. The default uses ``dateutil.parser.parser`` to do the\n",
      "        conversion. Pandas will try to call `date_parser` in three different ways,\n",
      "        advancing to the next if an exception occurs: 1) Pass one or more arrays\n",
      "        (as defined by `parse_dates`) as arguments; 2) concatenate (row-wise) the\n",
      "        string values from the columns defined by `parse_dates` into a single array\n",
      "        and pass that; and 3) call `date_parser` once for each row using one or\n",
      "        more strings (corresponding to the columns defined by `parse_dates`) as\n",
      "        arguments.\n",
      "    dayfirst : bool, default False\n",
      "        DD/MM format dates, international and European format.\n",
      "    cache_dates : bool, default True\n",
      "        If True, use a cache of unique, converted dates to apply the datetime\n",
      "        conversion. May produce significant speed-up when parsing duplicate\n",
      "        date strings, especially ones with timezone offsets.\n",
      "    \n",
      "        .. versionadded:: 0.25.0\n",
      "    iterator : bool, default False\n",
      "        Return TextFileReader object for iteration or getting chunks with\n",
      "        ``get_chunk()``.\n",
      "    \n",
      "        .. versionchanged:: 1.2\n",
      "    \n",
      "           ``TextFileReader`` is a context manager.\n",
      "    chunksize : int, optional\n",
      "        Return TextFileReader object for iteration.\n",
      "        See the `IO Tools docs\n",
      "        <https://pandas.pydata.org/pandas-docs/stable/io.html#io-chunking>`_\n",
      "        for more information on ``iterator`` and ``chunksize``.\n",
      "    \n",
      "        .. versionchanged:: 1.2\n",
      "    \n",
      "           ``TextFileReader`` is a context manager.\n",
      "    compression : {'infer', 'gzip', 'bz2', 'zip', 'xz', None}, default 'infer'\n",
      "        For on-the-fly decompression of on-disk data. If 'infer' and\n",
      "        `filepath_or_buffer` is path-like, then detect compression from the\n",
      "        following extensions: '.gz', '.bz2', '.zip', or '.xz' (otherwise no\n",
      "        decompression). If using 'zip', the ZIP file must contain only one data\n",
      "        file to be read in. Set to None for no decompression.\n",
      "    thousands : str, optional\n",
      "        Thousands separator.\n",
      "    decimal : str, default '.'\n",
      "        Character to recognize as decimal point (e.g. use ',' for European data).\n",
      "    lineterminator : str (length 1), optional\n",
      "        Character to break file into lines. Only valid with C parser.\n",
      "    quotechar : str (length 1), optional\n",
      "        The character used to denote the start and end of a quoted item. Quoted\n",
      "        items can include the delimiter and it will be ignored.\n",
      "    quoting : int or csv.QUOTE_* instance, default 0\n",
      "        Control field quoting behavior per ``csv.QUOTE_*`` constants. Use one of\n",
      "        QUOTE_MINIMAL (0), QUOTE_ALL (1), QUOTE_NONNUMERIC (2) or QUOTE_NONE (3).\n",
      "    doublequote : bool, default ``True``\n",
      "       When quotechar is specified and quoting is not ``QUOTE_NONE``, indicate\n",
      "       whether or not to interpret two consecutive quotechar elements INSIDE a\n",
      "       field as a single ``quotechar`` element.\n",
      "    escapechar : str (length 1), optional\n",
      "        One-character string used to escape other characters.\n",
      "    comment : str, optional\n",
      "        Indicates remainder of line should not be parsed. If found at the beginning\n",
      "        of a line, the line will be ignored altogether. This parameter must be a\n",
      "        single character. Like empty lines (as long as ``skip_blank_lines=True``),\n",
      "        fully commented lines are ignored by the parameter `header` but not by\n",
      "        `skiprows`. For example, if ``comment='#'``, parsing\n",
      "        ``#empty\\na,b,c\\n1,2,3`` with ``header=0`` will result in 'a,b,c' being\n",
      "        treated as the header.\n",
      "    encoding : str, optional\n",
      "        Encoding to use for UTF when reading/writing (ex. 'utf-8'). `List of Python\n",
      "        standard encodings\n",
      "        <https://docs.python.org/3/library/codecs.html#standard-encodings>`_ .\n",
      "    \n",
      "        .. versionchanged:: 1.2\n",
      "    \n",
      "           When ``encoding`` is ``None``, ``errors=\"replace\"`` is passed to\n",
      "           ``open()``. Otherwise, ``errors=\"strict\"`` is passed to ``open()``.\n",
      "           This behavior was previously only the case for ``engine=\"python\"``.\n",
      "    \n",
      "        .. versionchanged:: 1.3.0\n",
      "    \n",
      "           ``encoding_errors`` is a new argument. ``encoding`` has no longer an\n",
      "           influence on how encoding errors are handled.\n",
      "    \n",
      "    encoding_errors : str, optional, default \"strict\"\n",
      "        How encoding errors are treated. `List of possible values\n",
      "        <https://docs.python.org/3/library/codecs.html#error-handlers>`_ .\n",
      "    \n",
      "        .. versionadded:: 1.3.0\n",
      "    \n",
      "    dialect : str or csv.Dialect, optional\n",
      "        If provided, this parameter will override values (default or not) for the\n",
      "        following parameters: `delimiter`, `doublequote`, `escapechar`,\n",
      "        `skipinitialspace`, `quotechar`, and `quoting`. If it is necessary to\n",
      "        override values, a ParserWarning will be issued. See csv.Dialect\n",
      "        documentation for more details.\n",
      "    error_bad_lines : bool, default ``None``\n",
      "        Lines with too many fields (e.g. a csv line with too many commas) will by\n",
      "        default cause an exception to be raised, and no DataFrame will be returned.\n",
      "        If False, then these \"bad lines\" will be dropped from the DataFrame that is\n",
      "        returned.\n",
      "    \n",
      "        .. deprecated:: 1.3.0\n",
      "           The ``on_bad_lines`` parameter should be used instead to specify behavior upon\n",
      "           encountering a bad line instead.\n",
      "    warn_bad_lines : bool, default ``None``\n",
      "        If error_bad_lines is False, and warn_bad_lines is True, a warning for each\n",
      "        \"bad line\" will be output.\n",
      "    \n",
      "        .. deprecated:: 1.3.0\n",
      "           The ``on_bad_lines`` parameter should be used instead to specify behavior upon\n",
      "           encountering a bad line instead.\n",
      "    on_bad_lines : {'error', 'warn', 'skip'}, default 'error'\n",
      "        Specifies what to do upon encountering a bad line (a line with too many fields).\n",
      "        Allowed values are :\n",
      "    \n",
      "            - 'error', raise an Exception when a bad line is encountered.\n",
      "            - 'warn', raise a warning when a bad line is encountered and skip that line.\n",
      "            - 'skip', skip bad lines without raising or warning when they are encountered.\n",
      "    \n",
      "        .. versionadded:: 1.3.0\n",
      "    \n",
      "    delim_whitespace : bool, default False\n",
      "        Specifies whether or not whitespace (e.g. ``' '`` or ``'    '``) will be\n",
      "        used as the sep. Equivalent to setting ``sep='\\s+'``. If this option\n",
      "        is set to True, nothing should be passed in for the ``delimiter``\n",
      "        parameter.\n",
      "    low_memory : bool, default True\n",
      "        Internally process the file in chunks, resulting in lower memory use\n",
      "        while parsing, but possibly mixed type inference.  To ensure no mixed\n",
      "        types either set False, or specify the type with the `dtype` parameter.\n",
      "        Note that the entire file is read into a single DataFrame regardless,\n",
      "        use the `chunksize` or `iterator` parameter to return the data in chunks.\n",
      "        (Only valid with C parser).\n",
      "    memory_map : bool, default False\n",
      "        If a filepath is provided for `filepath_or_buffer`, map the file object\n",
      "        directly onto memory and access the data directly from there. Using this\n",
      "        option can improve performance because there is no longer any I/O overhead.\n",
      "    float_precision : str, optional\n",
      "        Specifies which converter the C engine should use for floating-point\n",
      "        values. The options are ``None`` or 'high' for the ordinary converter,\n",
      "        'legacy' for the original lower precision pandas converter, and\n",
      "        'round_trip' for the round-trip converter.\n",
      "    \n",
      "        .. versionchanged:: 1.2\n",
      "    \n",
      "    storage_options : dict, optional\n",
      "        Extra options that make sense for a particular storage connection, e.g.\n",
      "        host, port, username, password, etc. For HTTP(S) URLs the key-value pairs\n",
      "        are forwarded to ``urllib`` as header options. For other URLs (e.g.\n",
      "        starting with \"s3://\", and \"gcs://\") the key-value pairs are forwarded to\n",
      "        ``fsspec``. Please see ``fsspec`` and ``urllib`` for more details.\n",
      "    \n",
      "        .. versionadded:: 1.2\n",
      "    \n",
      "    Returns\n",
      "    -------\n",
      "    DataFrame or TextParser\n",
      "        A comma-separated values (csv) file is returned as two-dimensional\n",
      "        data structure with labeled axes.\n",
      "    \n",
      "    See Also\n",
      "    --------\n",
      "    DataFrame.to_csv : Write DataFrame to a comma-separated values (csv) file.\n",
      "    read_csv : Read a comma-separated values (csv) file into DataFrame.\n",
      "    read_fwf : Read a table of fixed-width formatted lines into DataFrame.\n",
      "    \n",
      "    Examples\n",
      "    --------\n",
      "    >>> pd.read_csv('data.csv')  # doctest: +SKIP\n",
      "\n"
     ]
    }
   ],
   "source": [
    "help(pd.read_csv)"
   ]
  },
  {
   "cell_type": "code",
   "execution_count": 51,
   "metadata": {},
   "outputs": [],
   "source": [
    "df_pop = pd.read_csv(\"european_cities.csv\", delimiter=\",\", encoding=\"utf-8\", header=0)\n",
    "#  En este caso hubiera valido con    \"df_pop = pd.read_csv(\"european_cities.csv\")\""
   ]
  },
  {
   "cell_type": "code",
   "execution_count": 52,
   "metadata": {},
   "outputs": [
    {
     "data": {
      "text/html": [
       "<div>\n",
       "<style scoped>\n",
       "    .dataframe tbody tr th:only-of-type {\n",
       "        vertical-align: middle;\n",
       "    }\n",
       "\n",
       "    .dataframe tbody tr th {\n",
       "        vertical-align: top;\n",
       "    }\n",
       "\n",
       "    .dataframe thead th {\n",
       "        text-align: right;\n",
       "    }\n",
       "</style>\n",
       "<table border=\"1\" class=\"dataframe\">\n",
       "  <thead>\n",
       "    <tr style=\"text-align: right;\">\n",
       "      <th></th>\n",
       "      <th>Rank</th>\n",
       "      <th>City</th>\n",
       "      <th>State</th>\n",
       "      <th>Population</th>\n",
       "      <th>Date of census/estimate</th>\n",
       "    </tr>\n",
       "  </thead>\n",
       "  <tbody>\n",
       "    <tr>\n",
       "      <th>0</th>\n",
       "      <td>1</td>\n",
       "      <td>London[2]</td>\n",
       "      <td>United Kingdom</td>\n",
       "      <td>8,615,246</td>\n",
       "      <td>1 June 2014</td>\n",
       "    </tr>\n",
       "    <tr>\n",
       "      <th>1</th>\n",
       "      <td>2</td>\n",
       "      <td>Berlin</td>\n",
       "      <td>Germany</td>\n",
       "      <td>3,437,916</td>\n",
       "      <td>31 May 2014</td>\n",
       "    </tr>\n",
       "    <tr>\n",
       "      <th>2</th>\n",
       "      <td>3</td>\n",
       "      <td>Madrid</td>\n",
       "      <td>Spain</td>\n",
       "      <td>3,165,235</td>\n",
       "      <td>1 January 2014</td>\n",
       "    </tr>\n",
       "    <tr>\n",
       "      <th>3</th>\n",
       "      <td>4</td>\n",
       "      <td>Rome</td>\n",
       "      <td>Italy</td>\n",
       "      <td>2,872,086</td>\n",
       "      <td>30 September 2014</td>\n",
       "    </tr>\n",
       "    <tr>\n",
       "      <th>4</th>\n",
       "      <td>5</td>\n",
       "      <td>Paris</td>\n",
       "      <td>France</td>\n",
       "      <td>2,273,305</td>\n",
       "      <td>1 January 2013</td>\n",
       "    </tr>\n",
       "  </tbody>\n",
       "</table>\n",
       "</div>"
      ],
      "text/plain": [
       "   Rank       City            State Population Date of census/estimate\n",
       "0     1  London[2]   United Kingdom  8,615,246             1 June 2014\n",
       "1     2     Berlin          Germany  3,437,916             31 May 2014\n",
       "2     3     Madrid            Spain  3,165,235          1 January 2014\n",
       "3     4       Rome            Italy  2,872,086       30 September 2014\n",
       "4     5      Paris           France  2,273,305          1 January 2013"
      ]
     },
     "execution_count": 52,
     "metadata": {},
     "output_type": "execute_result"
    }
   ],
   "source": [
    "df_pop.head()    # Evidentemente, mostrando una pequeña parte del DataFrame creado a partir\n",
    "# del fichero que acabamos de leer, nos hacemos una idea clara de lo que contiene, \n",
    "# antes de plantearnos cualquier análisis posterior."
   ]
  },
  {
   "cell_type": "code",
   "execution_count": 53,
   "metadata": {},
   "outputs": [
    {
     "name": "stdout",
     "output_type": "stream",
     "text": [
      "<class 'pandas.core.frame.DataFrame'>\n",
      "RangeIndex: 105 entries, 0 to 104\n",
      "Data columns (total 5 columns):\n",
      " #   Column                   Non-Null Count  Dtype \n",
      "---  ------                   --------------  ----- \n",
      " 0   Rank                     105 non-null    int64 \n",
      " 1   City                     105 non-null    object\n",
      " 2   State                    105 non-null    object\n",
      " 3   Population               105 non-null    object\n",
      " 4   Date of census/estimate  105 non-null    object\n",
      "dtypes: int64(1), object(4)\n",
      "memory usage: 4.2+ KB\n"
     ]
    }
   ],
   "source": [
    "df_pop.info()    # Aquí tenemos la información general del DataFrame leído a partir del fichero."
   ]
  },
  {
   "cell_type": "markdown",
   "metadata": {},
   "source": [
    "A partir de dicha información y de la muestra del DataFrame mostrado más arriba, podemos plantearnos ya cualquier transformación o reordenación de columnas que necesitemos para empezar nuestro pormenorizado análisis. A su vez, también podemos crear nuevas columnas, borrarlas (con el comando \"del\") o actualizar y recalcular otras de nuestro DataFrame, simplemente asignándole nuevas instancias u objetos de la clase Series."
   ]
  },
  {
   "cell_type": "code",
   "execution_count": 54,
   "metadata": {},
   "outputs": [
    {
     "data": {
      "text/plain": [
       "array([' United Kingdom', ' Germany', ' Spain', ' Italy', ' France'],\n",
       "      dtype=object)"
      ]
     },
     "execution_count": 54,
     "metadata": {},
     "output_type": "execute_result"
    }
   ],
   "source": [
    "# Veamos por ejemplo, cómo obtener los cinco primeros valores de la columna correspondiente al\n",
    "# estado (\"State\" en inglés):\n",
    "df_pop[\"State\"].values[:5]"
   ]
  },
  {
   "cell_type": "markdown",
   "metadata": {},
   "source": [
    "Vamos ahora a crear una nueva columna (o instancia de la clase Series) incluyendo el valor numérico entero de la población de las ciudades, a partir del correspondiente string, pero sin incluir ninguna coma o signo de puntuación adicional."
   ]
  },
  {
   "cell_type": "code",
   "execution_count": 55,
   "metadata": {},
   "outputs": [],
   "source": [
    "# Para ello aplicaremos una función sin nombre (de tipo lambda) a cada elemento de la columna\n",
    "# correspondiente, eliminando las comas que separan los millares y unidades de millón.\n",
    "df_pop[\"NumericPopulation\"] = df_pop.Population.apply(lambda x: int(x.replace(\",\", \"\")))"
   ]
  },
  {
   "cell_type": "code",
   "execution_count": 56,
   "metadata": {},
   "outputs": [],
   "source": [
    "# En cuanto a la columna correspondiente al Estado (\"State\" en inglés), \n",
    "# vamos a eliminar cualquier espacio extra, ya sea al principio o final del nombre,\n",
    "# mediante el método \"strip\", aplicable a strings.\n",
    "df_pop[\"State\"] = df_pop[\"State\"].apply(lambda x: x.strip())"
   ]
  },
  {
   "cell_type": "code",
   "execution_count": 57,
   "metadata": {},
   "outputs": [
    {
     "data": {
      "text/html": [
       "<div>\n",
       "<style scoped>\n",
       "    .dataframe tbody tr th:only-of-type {\n",
       "        vertical-align: middle;\n",
       "    }\n",
       "\n",
       "    .dataframe tbody tr th {\n",
       "        vertical-align: top;\n",
       "    }\n",
       "\n",
       "    .dataframe thead th {\n",
       "        text-align: right;\n",
       "    }\n",
       "</style>\n",
       "<table border=\"1\" class=\"dataframe\">\n",
       "  <thead>\n",
       "    <tr style=\"text-align: right;\">\n",
       "      <th></th>\n",
       "      <th>Rank</th>\n",
       "      <th>City</th>\n",
       "      <th>State</th>\n",
       "      <th>Population</th>\n",
       "      <th>Date of census/estimate</th>\n",
       "      <th>NumericPopulation</th>\n",
       "    </tr>\n",
       "  </thead>\n",
       "  <tbody>\n",
       "    <tr>\n",
       "      <th>0</th>\n",
       "      <td>1</td>\n",
       "      <td>London[2]</td>\n",
       "      <td>United Kingdom</td>\n",
       "      <td>8,615,246</td>\n",
       "      <td>1 June 2014</td>\n",
       "      <td>8615246</td>\n",
       "    </tr>\n",
       "    <tr>\n",
       "      <th>1</th>\n",
       "      <td>2</td>\n",
       "      <td>Berlin</td>\n",
       "      <td>Germany</td>\n",
       "      <td>3,437,916</td>\n",
       "      <td>31 May 2014</td>\n",
       "      <td>3437916</td>\n",
       "    </tr>\n",
       "    <tr>\n",
       "      <th>2</th>\n",
       "      <td>3</td>\n",
       "      <td>Madrid</td>\n",
       "      <td>Spain</td>\n",
       "      <td>3,165,235</td>\n",
       "      <td>1 January 2014</td>\n",
       "      <td>3165235</td>\n",
       "    </tr>\n",
       "    <tr>\n",
       "      <th>3</th>\n",
       "      <td>4</td>\n",
       "      <td>Rome</td>\n",
       "      <td>Italy</td>\n",
       "      <td>2,872,086</td>\n",
       "      <td>30 September 2014</td>\n",
       "      <td>2872086</td>\n",
       "    </tr>\n",
       "    <tr>\n",
       "      <th>4</th>\n",
       "      <td>5</td>\n",
       "      <td>Paris</td>\n",
       "      <td>France</td>\n",
       "      <td>2,273,305</td>\n",
       "      <td>1 January 2013</td>\n",
       "      <td>2273305</td>\n",
       "    </tr>\n",
       "  </tbody>\n",
       "</table>\n",
       "</div>"
      ],
      "text/plain": [
       "   Rank       City           State Population Date of census/estimate  \\\n",
       "0     1  London[2]  United Kingdom  8,615,246             1 June 2014   \n",
       "1     2     Berlin         Germany  3,437,916             31 May 2014   \n",
       "2     3     Madrid           Spain  3,165,235          1 January 2014   \n",
       "3     4       Rome           Italy  2,872,086       30 September 2014   \n",
       "4     5      Paris          France  2,273,305          1 January 2013   \n",
       "\n",
       "   NumericPopulation  \n",
       "0            8615246  \n",
       "1            3437916  \n",
       "2            3165235  \n",
       "3            2872086  \n",
       "4            2273305  "
      ]
     },
     "execution_count": 57,
     "metadata": {},
     "output_type": "execute_result"
    }
   ],
   "source": [
    "df_pop.head()"
   ]
  },
  {
   "cell_type": "code",
   "execution_count": 58,
   "metadata": {},
   "outputs": [
    {
     "data": {
      "text/plain": [
       "Rank                        int64\n",
       "City                       object\n",
       "State                      object\n",
       "Population                 object\n",
       "Date of census/estimate    object\n",
       "NumericPopulation           int64\n",
       "dtype: object"
      ]
     },
     "execution_count": 58,
     "metadata": {},
     "output_type": "execute_result"
    }
   ],
   "source": [
    "df_pop.dtypes\n",
    "# Inspeccionando los tipos de dato de cada una de las Series (o columnas), comprobamos que \n",
    "# la nueva columna creada \"NumericPopulation\" efectivamente es de tipo entero, mientras que\n",
    "# la otra Serie usada para su creación, \"Population\", permanece inalterada."
   ]
  },
  {
   "cell_type": "code",
   "execution_count": 59,
   "metadata": {},
   "outputs": [],
   "source": [
    "# Si ahora queremos cambiar el índice numérico (ordinal) por defecto que tiene el DataFrame\n",
    "# y queremos usar en su lugar el nombre de la ciudad, lo podemos indicar con el procedimiento\n",
    "# \"set_index\" como sigue:\n",
    "df_pop2 = df_pop.set_index(\"City\")"
   ]
  },
  {
   "cell_type": "code",
   "execution_count": 60,
   "metadata": {},
   "outputs": [],
   "source": [
    "# Y ahora podemos realizar una nueva ordenación, a partir de este nuevo índice\n",
    "df_pop2 = df_pop2.sort_index()"
   ]
  },
  {
   "cell_type": "code",
   "execution_count": 61,
   "metadata": {},
   "outputs": [
    {
     "data": {
      "text/html": [
       "<div>\n",
       "<style scoped>\n",
       "    .dataframe tbody tr th:only-of-type {\n",
       "        vertical-align: middle;\n",
       "    }\n",
       "\n",
       "    .dataframe tbody tr th {\n",
       "        vertical-align: top;\n",
       "    }\n",
       "\n",
       "    .dataframe thead th {\n",
       "        text-align: right;\n",
       "    }\n",
       "</style>\n",
       "<table border=\"1\" class=\"dataframe\">\n",
       "  <thead>\n",
       "    <tr style=\"text-align: right;\">\n",
       "      <th></th>\n",
       "      <th>Rank</th>\n",
       "      <th>State</th>\n",
       "      <th>Population</th>\n",
       "      <th>Date of census/estimate</th>\n",
       "      <th>NumericPopulation</th>\n",
       "    </tr>\n",
       "    <tr>\n",
       "      <th>City</th>\n",
       "      <th></th>\n",
       "      <th></th>\n",
       "      <th></th>\n",
       "      <th></th>\n",
       "      <th></th>\n",
       "    </tr>\n",
       "  </thead>\n",
       "  <tbody>\n",
       "    <tr>\n",
       "      <th>Aarhus</th>\n",
       "      <td>92</td>\n",
       "      <td>Denmark</td>\n",
       "      <td>326,676</td>\n",
       "      <td>1 October 2014</td>\n",
       "      <td>326676</td>\n",
       "    </tr>\n",
       "    <tr>\n",
       "      <th>Alicante</th>\n",
       "      <td>86</td>\n",
       "      <td>Spain</td>\n",
       "      <td>334,678</td>\n",
       "      <td>1 January 2012</td>\n",
       "      <td>334678</td>\n",
       "    </tr>\n",
       "    <tr>\n",
       "      <th>Amsterdam</th>\n",
       "      <td>23</td>\n",
       "      <td>Netherlands</td>\n",
       "      <td>813,562</td>\n",
       "      <td>31 May 2014</td>\n",
       "      <td>813562</td>\n",
       "    </tr>\n",
       "    <tr>\n",
       "      <th>Antwerp</th>\n",
       "      <td>59</td>\n",
       "      <td>Belgium</td>\n",
       "      <td>510,610</td>\n",
       "      <td>1 January 2014</td>\n",
       "      <td>510610</td>\n",
       "    </tr>\n",
       "    <tr>\n",
       "      <th>Athens</th>\n",
       "      <td>34</td>\n",
       "      <td>Greece</td>\n",
       "      <td>664,046</td>\n",
       "      <td>24 May 2011</td>\n",
       "      <td>664046</td>\n",
       "    </tr>\n",
       "  </tbody>\n",
       "</table>\n",
       "</div>"
      ],
      "text/plain": [
       "           Rank        State Population Date of census/estimate  \\\n",
       "City                                                              \n",
       "Aarhus       92      Denmark    326,676          1 October 2014   \n",
       "Alicante     86        Spain    334,678          1 January 2012   \n",
       "Amsterdam    23  Netherlands    813,562             31 May 2014   \n",
       "Antwerp      59      Belgium    510,610          1 January 2014   \n",
       "Athens       34       Greece    664,046             24 May 2011   \n",
       "\n",
       "           NumericPopulation  \n",
       "City                          \n",
       "Aarhus                326676  \n",
       "Alicante              334678  \n",
       "Amsterdam             813562  \n",
       "Antwerp               510610  \n",
       "Athens                664046  "
      ]
     },
     "execution_count": 61,
     "metadata": {},
     "output_type": "execute_result"
    }
   ],
   "source": [
    "df_pop2.head()    # Veámos aquí el resultado de esta nueva ordenación del DataFrame"
   ]
  },
  {
   "cell_type": "code",
   "execution_count": 62,
   "metadata": {
    "scrolled": false
   },
   "outputs": [],
   "source": [
    "# A continuación vamos a establecer otro índice jerárquico, con doble entrada, \n",
    "# el estado y la ciudad, indicando que la ordenación se haga teniendo en cuenta \n",
    "# el estado como índice principal \n",
    "df_pop3 = df_pop.set_index([\"State\", \"City\"])"
   ]
  },
  {
   "cell_type": "code",
   "execution_count": 63,
   "metadata": {},
   "outputs": [
    {
     "data": {
      "text/html": [
       "<div>\n",
       "<style scoped>\n",
       "    .dataframe tbody tr th:only-of-type {\n",
       "        vertical-align: middle;\n",
       "    }\n",
       "\n",
       "    .dataframe tbody tr th {\n",
       "        vertical-align: top;\n",
       "    }\n",
       "\n",
       "    .dataframe thead th {\n",
       "        text-align: right;\n",
       "    }\n",
       "</style>\n",
       "<table border=\"1\" class=\"dataframe\">\n",
       "  <thead>\n",
       "    <tr style=\"text-align: right;\">\n",
       "      <th></th>\n",
       "      <th></th>\n",
       "      <th>Rank</th>\n",
       "      <th>Population</th>\n",
       "      <th>Date of census/estimate</th>\n",
       "      <th>NumericPopulation</th>\n",
       "    </tr>\n",
       "    <tr>\n",
       "      <th>State</th>\n",
       "      <th>City</th>\n",
       "      <th></th>\n",
       "      <th></th>\n",
       "      <th></th>\n",
       "      <th></th>\n",
       "    </tr>\n",
       "  </thead>\n",
       "  <tbody>\n",
       "    <tr>\n",
       "      <th>United Kingdom</th>\n",
       "      <th>London[2]</th>\n",
       "      <td>1</td>\n",
       "      <td>8,615,246</td>\n",
       "      <td>1 June 2014</td>\n",
       "      <td>8615246</td>\n",
       "    </tr>\n",
       "    <tr>\n",
       "      <th>Germany</th>\n",
       "      <th>Berlin</th>\n",
       "      <td>2</td>\n",
       "      <td>3,437,916</td>\n",
       "      <td>31 May 2014</td>\n",
       "      <td>3437916</td>\n",
       "    </tr>\n",
       "    <tr>\n",
       "      <th>Spain</th>\n",
       "      <th>Madrid</th>\n",
       "      <td>3</td>\n",
       "      <td>3,165,235</td>\n",
       "      <td>1 January 2014</td>\n",
       "      <td>3165235</td>\n",
       "    </tr>\n",
       "    <tr>\n",
       "      <th>Italy</th>\n",
       "      <th>Rome</th>\n",
       "      <td>4</td>\n",
       "      <td>2,872,086</td>\n",
       "      <td>30 September 2014</td>\n",
       "      <td>2872086</td>\n",
       "    </tr>\n",
       "    <tr>\n",
       "      <th>France</th>\n",
       "      <th>Paris</th>\n",
       "      <td>5</td>\n",
       "      <td>2,273,305</td>\n",
       "      <td>1 January 2013</td>\n",
       "      <td>2273305</td>\n",
       "    </tr>\n",
       "    <tr>\n",
       "      <th>Romania</th>\n",
       "      <th>Bucharest</th>\n",
       "      <td>6</td>\n",
       "      <td>1,883,425</td>\n",
       "      <td>20 October 2011</td>\n",
       "      <td>1883425</td>\n",
       "    </tr>\n",
       "    <tr>\n",
       "      <th>Austria</th>\n",
       "      <th>Vienna</th>\n",
       "      <td>7</td>\n",
       "      <td>1,794,770</td>\n",
       "      <td>1 January 2015</td>\n",
       "      <td>1794770</td>\n",
       "    </tr>\n",
       "  </tbody>\n",
       "</table>\n",
       "</div>"
      ],
      "text/plain": [
       "                          Rank Population Date of census/estimate  \\\n",
       "State          City                                                 \n",
       "United Kingdom London[2]     1  8,615,246             1 June 2014   \n",
       "Germany        Berlin        2  3,437,916             31 May 2014   \n",
       "Spain          Madrid        3  3,165,235          1 January 2014   \n",
       "Italy          Rome          4  2,872,086       30 September 2014   \n",
       "France         Paris         5  2,273,305          1 January 2013   \n",
       "Romania        Bucharest     6  1,883,425         20 October 2011   \n",
       "Austria        Vienna        7  1,794,770          1 January 2015   \n",
       "\n",
       "                          NumericPopulation  \n",
       "State          City                          \n",
       "United Kingdom London[2]            8615246  \n",
       "Germany        Berlin               3437916  \n",
       "Spain          Madrid               3165235  \n",
       "Italy          Rome                 2872086  \n",
       "France         Paris                2273305  \n",
       "Romania        Bucharest            1883425  \n",
       "Austria        Vienna               1794770  "
      ]
     },
     "execution_count": 63,
     "metadata": {},
     "output_type": "execute_result"
    }
   ],
   "source": [
    "df_pop3.head(7)   # Veámos el efecto de esta nueva clasificación visualizando \n",
    "# los 7 primeros elementos"
   ]
  },
  {
   "cell_type": "code",
   "execution_count": 64,
   "metadata": {},
   "outputs": [
    {
     "data": {
      "text/html": [
       "<div>\n",
       "<style scoped>\n",
       "    .dataframe tbody tr th:only-of-type {\n",
       "        vertical-align: middle;\n",
       "    }\n",
       "\n",
       "    .dataframe tbody tr th {\n",
       "        vertical-align: top;\n",
       "    }\n",
       "\n",
       "    .dataframe thead th {\n",
       "        text-align: right;\n",
       "    }\n",
       "</style>\n",
       "<table border=\"1\" class=\"dataframe\">\n",
       "  <thead>\n",
       "    <tr style=\"text-align: right;\">\n",
       "      <th></th>\n",
       "      <th>Rank</th>\n",
       "      <th>Population</th>\n",
       "      <th>Date of census/estimate</th>\n",
       "      <th>NumericPopulation</th>\n",
       "    </tr>\n",
       "    <tr>\n",
       "      <th>City</th>\n",
       "      <th></th>\n",
       "      <th></th>\n",
       "      <th></th>\n",
       "      <th></th>\n",
       "    </tr>\n",
       "  </thead>\n",
       "  <tbody>\n",
       "    <tr>\n",
       "      <th>Stockholm</th>\n",
       "      <td>20</td>\n",
       "      <td>909,976</td>\n",
       "      <td>31 January 2014</td>\n",
       "      <td>909976</td>\n",
       "    </tr>\n",
       "    <tr>\n",
       "      <th>Gothenburg</th>\n",
       "      <td>53</td>\n",
       "      <td>528,014</td>\n",
       "      <td>31 March 2013</td>\n",
       "      <td>528014</td>\n",
       "    </tr>\n",
       "    <tr>\n",
       "      <th>Malmö</th>\n",
       "      <td>102</td>\n",
       "      <td>309,105</td>\n",
       "      <td>31 March 2013</td>\n",
       "      <td>309105</td>\n",
       "    </tr>\n",
       "  </tbody>\n",
       "</table>\n",
       "</div>"
      ],
      "text/plain": [
       "            Rank Population Date of census/estimate  NumericPopulation\n",
       "City                                                                  \n",
       "Stockholm     20    909,976         31 January 2014             909976\n",
       "Gothenburg    53    528,014           31 March 2013             528014\n",
       "Malmö        102    309,105           31 March 2013             309105"
      ]
     },
     "execution_count": 64,
     "metadata": {},
     "output_type": "execute_result"
    }
   ],
   "source": [
    "df_pop3.loc[\"Sweden\"]    # Extraemos ahora tan sólo los resultados correspondientes \n",
    "# a las ciudades del estado de Suecia"
   ]
  },
  {
   "cell_type": "code",
   "execution_count": 65,
   "metadata": {},
   "outputs": [
    {
     "data": {
      "text/plain": [
       "Rank                                  53\n",
       "Population                       528,014\n",
       "Date of census/estimate    31 March 2013\n",
       "NumericPopulation                 528014\n",
       "Name: (Sweden, Gothenburg), dtype: object"
      ]
     },
     "execution_count": 65,
     "metadata": {},
     "output_type": "execute_result"
    }
   ],
   "source": [
    "df_pop3.loc[(\"Sweden\", \"Gothenburg\")]    # Si por el contrario tan sólo estamos interesados \n",
    "# en una ciudad sueca en concreto, usaremos este índice doble para extraer sus valores. "
   ]
  },
  {
   "cell_type": "code",
   "execution_count": 66,
   "metadata": {},
   "outputs": [
    {
     "data": {
      "text/html": [
       "<div>\n",
       "<style scoped>\n",
       "    .dataframe tbody tr th:only-of-type {\n",
       "        vertical-align: middle;\n",
       "    }\n",
       "\n",
       "    .dataframe tbody tr th {\n",
       "        vertical-align: top;\n",
       "    }\n",
       "\n",
       "    .dataframe thead th {\n",
       "        text-align: right;\n",
       "    }\n",
       "</style>\n",
       "<table border=\"1\" class=\"dataframe\">\n",
       "  <thead>\n",
       "    <tr style=\"text-align: right;\">\n",
       "      <th></th>\n",
       "      <th>Rank</th>\n",
       "      <th>State</th>\n",
       "      <th>Population</th>\n",
       "      <th>Date of census/estimate</th>\n",
       "      <th>NumericPopulation</th>\n",
       "    </tr>\n",
       "    <tr>\n",
       "      <th>City</th>\n",
       "      <th></th>\n",
       "      <th></th>\n",
       "      <th></th>\n",
       "      <th></th>\n",
       "      <th></th>\n",
       "    </tr>\n",
       "  </thead>\n",
       "  <tbody>\n",
       "    <tr>\n",
       "      <th>Nottingham</th>\n",
       "      <td>103</td>\n",
       "      <td>United Kingdom</td>\n",
       "      <td>308,735</td>\n",
       "      <td>30 June 2012</td>\n",
       "      <td>308735</td>\n",
       "    </tr>\n",
       "    <tr>\n",
       "      <th>Wirral</th>\n",
       "      <td>97</td>\n",
       "      <td>United Kingdom</td>\n",
       "      <td>320,229</td>\n",
       "      <td>30 June 2012</td>\n",
       "      <td>320229</td>\n",
       "    </tr>\n",
       "    <tr>\n",
       "      <th>Coventry</th>\n",
       "      <td>94</td>\n",
       "      <td>United Kingdom</td>\n",
       "      <td>323,132</td>\n",
       "      <td>30 June 2012</td>\n",
       "      <td>323132</td>\n",
       "    </tr>\n",
       "    <tr>\n",
       "      <th>Wakefield</th>\n",
       "      <td>91</td>\n",
       "      <td>United Kingdom</td>\n",
       "      <td>327,627</td>\n",
       "      <td>30 June 2012</td>\n",
       "      <td>327627</td>\n",
       "    </tr>\n",
       "    <tr>\n",
       "      <th>Leicester</th>\n",
       "      <td>87</td>\n",
       "      <td>United Kingdom</td>\n",
       "      <td>331,606</td>\n",
       "      <td>30 June 2012</td>\n",
       "      <td>331606</td>\n",
       "    </tr>\n",
       "    <tr>\n",
       "      <th>Cardiff</th>\n",
       "      <td>80</td>\n",
       "      <td>United Kingdom</td>\n",
       "      <td>348,493</td>\n",
       "      <td>30 June 2012</td>\n",
       "      <td>348493</td>\n",
       "    </tr>\n",
       "    <tr>\n",
       "      <th>Bristol</th>\n",
       "      <td>69</td>\n",
       "      <td>United Kingdom</td>\n",
       "      <td>432,451</td>\n",
       "      <td>30 June 2012</td>\n",
       "      <td>432451</td>\n",
       "    </tr>\n",
       "    <tr>\n",
       "      <th>Liverpool</th>\n",
       "      <td>64</td>\n",
       "      <td>United Kingdom</td>\n",
       "      <td>469,690</td>\n",
       "      <td>30 June 2012</td>\n",
       "      <td>469690</td>\n",
       "    </tr>\n",
       "    <tr>\n",
       "      <th>Edinburgh</th>\n",
       "      <td>60</td>\n",
       "      <td>United Kingdom</td>\n",
       "      <td>495,360</td>\n",
       "      <td>30 June 2011</td>\n",
       "      <td>495360</td>\n",
       "    </tr>\n",
       "    <tr>\n",
       "      <th>Manchester</th>\n",
       "      <td>58</td>\n",
       "      <td>United Kingdom</td>\n",
       "      <td>510,772</td>\n",
       "      <td>30 June 2012</td>\n",
       "      <td>510772</td>\n",
       "    </tr>\n",
       "    <tr>\n",
       "      <th>Bradford</th>\n",
       "      <td>55</td>\n",
       "      <td>United Kingdom</td>\n",
       "      <td>524,619</td>\n",
       "      <td>30 June 2012</td>\n",
       "      <td>524619</td>\n",
       "    </tr>\n",
       "    <tr>\n",
       "      <th>Sheffield</th>\n",
       "      <td>46</td>\n",
       "      <td>United Kingdom</td>\n",
       "      <td>557,382</td>\n",
       "      <td>30 June 2012</td>\n",
       "      <td>557382</td>\n",
       "    </tr>\n",
       "    <tr>\n",
       "      <th>Glasgow</th>\n",
       "      <td>40</td>\n",
       "      <td>United Kingdom</td>\n",
       "      <td>596,550</td>\n",
       "      <td>31 December 2013</td>\n",
       "      <td>596550</td>\n",
       "    </tr>\n",
       "    <tr>\n",
       "      <th>Leeds</th>\n",
       "      <td>27</td>\n",
       "      <td>United Kingdom</td>\n",
       "      <td>757,655</td>\n",
       "      <td>30 June 2012</td>\n",
       "      <td>757655</td>\n",
       "    </tr>\n",
       "    <tr>\n",
       "      <th>Birmingham</th>\n",
       "      <td>17</td>\n",
       "      <td>United Kingdom</td>\n",
       "      <td>1,092,330</td>\n",
       "      <td>30 June 2013</td>\n",
       "      <td>1092330</td>\n",
       "    </tr>\n",
       "    <tr>\n",
       "      <th>London[2]</th>\n",
       "      <td>1</td>\n",
       "      <td>United Kingdom</td>\n",
       "      <td>8,615,246</td>\n",
       "      <td>1 June 2014</td>\n",
       "      <td>8615246</td>\n",
       "    </tr>\n",
       "    <tr>\n",
       "      <th>Malmö</th>\n",
       "      <td>102</td>\n",
       "      <td>Sweden</td>\n",
       "      <td>309,105</td>\n",
       "      <td>31 March 2013</td>\n",
       "      <td>309105</td>\n",
       "    </tr>\n",
       "    <tr>\n",
       "      <th>Gothenburg</th>\n",
       "      <td>53</td>\n",
       "      <td>Sweden</td>\n",
       "      <td>528,014</td>\n",
       "      <td>31 March 2013</td>\n",
       "      <td>528014</td>\n",
       "    </tr>\n",
       "    <tr>\n",
       "      <th>Stockholm</th>\n",
       "      <td>20</td>\n",
       "      <td>Sweden</td>\n",
       "      <td>909,976</td>\n",
       "      <td>31 January 2014</td>\n",
       "      <td>909976</td>\n",
       "    </tr>\n",
       "    <tr>\n",
       "      <th>Valladolid</th>\n",
       "      <td>100</td>\n",
       "      <td>Spain</td>\n",
       "      <td>311,501</td>\n",
       "      <td>1 January 2012</td>\n",
       "      <td>311501</td>\n",
       "    </tr>\n",
       "  </tbody>\n",
       "</table>\n",
       "</div>"
      ],
      "text/plain": [
       "            Rank           State Population Date of census/estimate  \\\n",
       "City                                                                  \n",
       "Nottingham   103  United Kingdom    308,735            30 June 2012   \n",
       "Wirral        97  United Kingdom    320,229            30 June 2012   \n",
       "Coventry      94  United Kingdom    323,132            30 June 2012   \n",
       "Wakefield     91  United Kingdom    327,627            30 June 2012   \n",
       "Leicester     87  United Kingdom    331,606            30 June 2012   \n",
       "Cardiff       80  United Kingdom    348,493            30 June 2012   \n",
       "Bristol       69  United Kingdom    432,451            30 June 2012   \n",
       "Liverpool     64  United Kingdom    469,690            30 June 2012   \n",
       "Edinburgh     60  United Kingdom    495,360            30 June 2011   \n",
       "Manchester    58  United Kingdom    510,772            30 June 2012   \n",
       "Bradford      55  United Kingdom    524,619            30 June 2012   \n",
       "Sheffield     46  United Kingdom    557,382            30 June 2012   \n",
       "Glasgow       40  United Kingdom    596,550        31 December 2013   \n",
       "Leeds         27  United Kingdom    757,655            30 June 2012   \n",
       "Birmingham    17  United Kingdom  1,092,330            30 June 2013   \n",
       "London[2]      1  United Kingdom  8,615,246             1 June 2014   \n",
       "Malmö        102          Sweden    309,105           31 March 2013   \n",
       "Gothenburg    53          Sweden    528,014           31 March 2013   \n",
       "Stockholm     20          Sweden    909,976         31 January 2014   \n",
       "Valladolid   100           Spain    311,501          1 January 2012   \n",
       "\n",
       "            NumericPopulation  \n",
       "City                           \n",
       "Nottingham             308735  \n",
       "Wirral                 320229  \n",
       "Coventry               323132  \n",
       "Wakefield              327627  \n",
       "Leicester              331606  \n",
       "Cardiff                348493  \n",
       "Bristol                432451  \n",
       "Liverpool              469690  \n",
       "Edinburgh              495360  \n",
       "Manchester             510772  \n",
       "Bradford               524619  \n",
       "Sheffield              557382  \n",
       "Glasgow                596550  \n",
       "Leeds                  757655  \n",
       "Birmingham            1092330  \n",
       "London[2]             8615246  \n",
       "Malmö                  309105  \n",
       "Gothenburg             528014  \n",
       "Stockholm              909976  \n",
       "Valladolid             311501  "
      ]
     },
     "execution_count": 66,
     "metadata": {},
     "output_type": "execute_result"
    }
   ],
   "source": [
    "# Mostremos ahora los 20 primeros elementos, indizados a partir de la ciudad, pero ordenados\n",
    "# a partir de un índice jerárquico compuesto del estado y la población (esta última de manera\n",
    "# creciente).\n",
    "# df_pop.set_index(\"City\").sort([\"State\", \"NumericPopulation\"], ascending=[False, True]).head(20) # Python 2\n",
    "df_pop.set_index(\"City\").sort_values([\"State\", \"NumericPopulation\"], ascending=[False, True]).head(20) # Python 3"
   ]
  },
  {
   "cell_type": "code",
   "execution_count": 67,
   "metadata": {},
   "outputs": [
    {
     "data": {
      "text/html": [
       "<div>\n",
       "<style scoped>\n",
       "    .dataframe tbody tr th:only-of-type {\n",
       "        vertical-align: middle;\n",
       "    }\n",
       "\n",
       "    .dataframe tbody tr th {\n",
       "        vertical-align: top;\n",
       "    }\n",
       "\n",
       "    .dataframe thead th {\n",
       "        text-align: right;\n",
       "    }\n",
       "</style>\n",
       "<table border=\"1\" class=\"dataframe\">\n",
       "  <thead>\n",
       "    <tr style=\"text-align: right;\">\n",
       "      <th></th>\n",
       "      <th>Rank</th>\n",
       "      <th>State</th>\n",
       "      <th>Population</th>\n",
       "      <th>Date of census/estimate</th>\n",
       "      <th>NumericPopulation</th>\n",
       "    </tr>\n",
       "    <tr>\n",
       "      <th>City</th>\n",
       "      <th></th>\n",
       "      <th></th>\n",
       "      <th></th>\n",
       "      <th></th>\n",
       "      <th></th>\n",
       "    </tr>\n",
       "  </thead>\n",
       "  <tbody>\n",
       "    <tr>\n",
       "      <th>Vienna</th>\n",
       "      <td>7</td>\n",
       "      <td>Austria</td>\n",
       "      <td>1,794,770</td>\n",
       "      <td>1 January 2015</td>\n",
       "      <td>1794770</td>\n",
       "    </tr>\n",
       "    <tr>\n",
       "      <th>Brussels[17]</th>\n",
       "      <td>16</td>\n",
       "      <td>Belgium</td>\n",
       "      <td>1,175,831</td>\n",
       "      <td>1 January 2014</td>\n",
       "      <td>1175831</td>\n",
       "    </tr>\n",
       "    <tr>\n",
       "      <th>Antwerp</th>\n",
       "      <td>59</td>\n",
       "      <td>Belgium</td>\n",
       "      <td>510,610</td>\n",
       "      <td>1 January 2014</td>\n",
       "      <td>510610</td>\n",
       "    </tr>\n",
       "    <tr>\n",
       "      <th>Sofia</th>\n",
       "      <td>14</td>\n",
       "      <td>Bulgaria</td>\n",
       "      <td>1,291,895</td>\n",
       "      <td>14 December 2014</td>\n",
       "      <td>1291895</td>\n",
       "    </tr>\n",
       "    <tr>\n",
       "      <th>Plovdiv</th>\n",
       "      <td>84</td>\n",
       "      <td>Bulgaria</td>\n",
       "      <td>341,041</td>\n",
       "      <td>31 December 2013</td>\n",
       "      <td>341041</td>\n",
       "    </tr>\n",
       "    <tr>\n",
       "      <th>Varna</th>\n",
       "      <td>85</td>\n",
       "      <td>Bulgaria</td>\n",
       "      <td>335,819</td>\n",
       "      <td>31 December 2013</td>\n",
       "      <td>335819</td>\n",
       "    </tr>\n",
       "    <tr>\n",
       "      <th>Zagreb</th>\n",
       "      <td>24</td>\n",
       "      <td>Croatia</td>\n",
       "      <td>790,017</td>\n",
       "      <td>31 March 2011</td>\n",
       "      <td>790017</td>\n",
       "    </tr>\n",
       "    <tr>\n",
       "      <th>Prague</th>\n",
       "      <td>15</td>\n",
       "      <td>Czech Republic</td>\n",
       "      <td>1,246,780</td>\n",
       "      <td>1 January 2013</td>\n",
       "      <td>1246780</td>\n",
       "    </tr>\n",
       "    <tr>\n",
       "      <th>Brno</th>\n",
       "      <td>76</td>\n",
       "      <td>Czech Republic</td>\n",
       "      <td>378,327</td>\n",
       "      <td>1 January 2013</td>\n",
       "      <td>378327</td>\n",
       "    </tr>\n",
       "    <tr>\n",
       "      <th>Copenhagen</th>\n",
       "      <td>45</td>\n",
       "      <td>Denmark</td>\n",
       "      <td>559,440</td>\n",
       "      <td>1 January 2013</td>\n",
       "      <td>559440</td>\n",
       "    </tr>\n",
       "    <tr>\n",
       "      <th>Aarhus</th>\n",
       "      <td>92</td>\n",
       "      <td>Denmark</td>\n",
       "      <td>326,676</td>\n",
       "      <td>1 October 2014</td>\n",
       "      <td>326676</td>\n",
       "    </tr>\n",
       "    <tr>\n",
       "      <th>Tallinn</th>\n",
       "      <td>68</td>\n",
       "      <td>Estonia</td>\n",
       "      <td>434,810</td>\n",
       "      <td>1 February 2015</td>\n",
       "      <td>434810</td>\n",
       "    </tr>\n",
       "    <tr>\n",
       "      <th>Helsinki</th>\n",
       "      <td>38</td>\n",
       "      <td>Finland</td>\n",
       "      <td>605,523</td>\n",
       "      <td>28 February 2013</td>\n",
       "      <td>605523</td>\n",
       "    </tr>\n",
       "    <tr>\n",
       "      <th>Paris</th>\n",
       "      <td>5</td>\n",
       "      <td>France</td>\n",
       "      <td>2,273,305</td>\n",
       "      <td>1 January 2013</td>\n",
       "      <td>2273305</td>\n",
       "    </tr>\n",
       "    <tr>\n",
       "      <th>Marseille</th>\n",
       "      <td>22</td>\n",
       "      <td>France</td>\n",
       "      <td>852,516</td>\n",
       "      <td>31 December 2012</td>\n",
       "      <td>852516</td>\n",
       "    </tr>\n",
       "    <tr>\n",
       "      <th>Lyon</th>\n",
       "      <td>63</td>\n",
       "      <td>France</td>\n",
       "      <td>484,344</td>\n",
       "      <td>31 December 2010</td>\n",
       "      <td>484344</td>\n",
       "    </tr>\n",
       "    <tr>\n",
       "      <th>Toulouse</th>\n",
       "      <td>66</td>\n",
       "      <td>France</td>\n",
       "      <td>441,802</td>\n",
       "      <td>31 December 2010</td>\n",
       "      <td>441802</td>\n",
       "    </tr>\n",
       "    <tr>\n",
       "      <th>Nice</th>\n",
       "      <td>82</td>\n",
       "      <td>France</td>\n",
       "      <td>343,304</td>\n",
       "      <td>31 December 2010</td>\n",
       "      <td>343304</td>\n",
       "    </tr>\n",
       "    <tr>\n",
       "      <th>Berlin</th>\n",
       "      <td>2</td>\n",
       "      <td>Germany</td>\n",
       "      <td>3,437,916</td>\n",
       "      <td>31 May 2014</td>\n",
       "      <td>3437916</td>\n",
       "    </tr>\n",
       "    <tr>\n",
       "      <th>Hamburg[10]</th>\n",
       "      <td>8</td>\n",
       "      <td>Germany</td>\n",
       "      <td>1,746,342</td>\n",
       "      <td>30 December 2013</td>\n",
       "      <td>1746342</td>\n",
       "    </tr>\n",
       "  </tbody>\n",
       "</table>\n",
       "</div>"
      ],
      "text/plain": [
       "              Rank           State Population Date of census/estimate  \\\n",
       "City                                                                    \n",
       "Vienna           7         Austria  1,794,770          1 January 2015   \n",
       "Brussels[17]    16         Belgium  1,175,831          1 January 2014   \n",
       "Antwerp         59         Belgium    510,610          1 January 2014   \n",
       "Sofia           14        Bulgaria  1,291,895        14 December 2014   \n",
       "Plovdiv         84        Bulgaria    341,041        31 December 2013   \n",
       "Varna           85        Bulgaria    335,819        31 December 2013   \n",
       "Zagreb          24         Croatia    790,017           31 March 2011   \n",
       "Prague          15  Czech Republic  1,246,780          1 January 2013   \n",
       "Brno            76  Czech Republic    378,327          1 January 2013   \n",
       "Copenhagen      45         Denmark    559,440          1 January 2013   \n",
       "Aarhus          92         Denmark    326,676          1 October 2014   \n",
       "Tallinn         68         Estonia    434,810         1 February 2015   \n",
       "Helsinki        38         Finland    605,523        28 February 2013   \n",
       "Paris            5          France  2,273,305          1 January 2013   \n",
       "Marseille       22          France    852,516        31 December 2012   \n",
       "Lyon            63          France    484,344        31 December 2010   \n",
       "Toulouse        66          France    441,802        31 December 2010   \n",
       "Nice            82          France    343,304        31 December 2010   \n",
       "Berlin           2         Germany  3,437,916             31 May 2014   \n",
       "Hamburg[10]      8         Germany  1,746,342        30 December 2013   \n",
       "\n",
       "              NumericPopulation  \n",
       "City                             \n",
       "Vienna                  1794770  \n",
       "Brussels[17]            1175831  \n",
       "Antwerp                  510610  \n",
       "Sofia                   1291895  \n",
       "Plovdiv                  341041  \n",
       "Varna                    335819  \n",
       "Zagreb                   790017  \n",
       "Prague                  1246780  \n",
       "Brno                     378327  \n",
       "Copenhagen               559440  \n",
       "Aarhus                   326676  \n",
       "Tallinn                  434810  \n",
       "Helsinki                 605523  \n",
       "Paris                   2273305  \n",
       "Marseille                852516  \n",
       "Lyon                     484344  \n",
       "Toulouse                 441802  \n",
       "Nice                     343304  \n",
       "Berlin                  3437916  \n",
       "Hamburg[10]             1746342  "
      ]
     },
     "execution_count": 67,
     "metadata": {},
     "output_type": "execute_result"
    }
   ],
   "source": [
    "# Comprueba cómo cambia radicalmente el resultado de indicar una ordenación distinta\n",
    "# ya sea en cuanto al nombre del estado o la población de la ciudad correspondiente\n",
    "# df_pop.set_index(\"City\").sort([\"State\", \"NumericPopulation\"], ascending=[True, False]).head(20) # Python 2\n",
    "df_pop.set_index(\"City\").sort_values([\"State\", \"NumericPopulation\"], ascending=[True, False]).head(20)"
   ]
  },
  {
   "cell_type": "code",
   "execution_count": 68,
   "metadata": {},
   "outputs": [
    {
     "data": {
      "text/plain": [
       "Germany                     19\n",
       "United Kingdom              16\n",
       "Spain                       13\n",
       "Poland                      10\n",
       "Italy                       10\n",
       "France                       5\n",
       "Netherlands                  4\n",
       "Bulgaria                     3\n",
       "Sweden                       3\n",
       "Romania                      3\n",
       "Czech Republic               2\n",
       "Belgium                      2\n",
       "Greece                       2\n",
       "Denmark                      2\n",
       "Lithuania                    2\n",
       "Hungary                      1\n",
       "Austria                      1\n",
       "Croatia                      1\n",
       "Latvia                       1\n",
       "Finland                      1\n",
       "Portugal                     1\n",
       "Ireland                      1\n",
       "Estonia                      1\n",
       "Slovakia Slovak Republic     1\n",
       "Name: State, dtype: int64"
      ]
     },
     "execution_count": 68,
     "metadata": {},
     "output_type": "execute_result"
    }
   ],
   "source": [
    "# Es frecuente tener interés en conocer cuantos valores aparecen asociados a cada una\n",
    "# de las categorias de cada columna, que pueden ser contabilizados mediante el procedimiento:\n",
    "# \"value_counts()\" \n",
    "city_counts = df_pop.State.value_counts();\n",
    "city_counts # Veámos en este caso las ciudades incluidas de cada uno de los paises considerados\n",
    "# Se trata de una nueva instancia de la clase Series"
   ]
  },
  {
   "cell_type": "code",
   "execution_count": 69,
   "metadata": {},
   "outputs": [],
   "source": [
    "# A la cuál podemos darle un nombre o título, como ya hemos hecho antes en otros casos\n",
    "city_counts.name = \"# cities in top 105\""
   ]
  },
  {
   "cell_type": "code",
   "execution_count": 70,
   "metadata": {},
   "outputs": [
    {
     "data": {
      "text/html": [
       "<div>\n",
       "<style scoped>\n",
       "    .dataframe tbody tr th:only-of-type {\n",
       "        vertical-align: middle;\n",
       "    }\n",
       "\n",
       "    .dataframe tbody tr th {\n",
       "        vertical-align: top;\n",
       "    }\n",
       "\n",
       "    .dataframe thead th {\n",
       "        text-align: right;\n",
       "    }\n",
       "</style>\n",
       "<table border=\"1\" class=\"dataframe\">\n",
       "  <thead>\n",
       "    <tr style=\"text-align: right;\">\n",
       "      <th></th>\n",
       "      <th></th>\n",
       "      <th>NumericPopulation</th>\n",
       "    </tr>\n",
       "    <tr>\n",
       "      <th>State</th>\n",
       "      <th>City</th>\n",
       "      <th></th>\n",
       "    </tr>\n",
       "  </thead>\n",
       "  <tbody>\n",
       "    <tr>\n",
       "      <th>United Kingdom</th>\n",
       "      <th>London[2]</th>\n",
       "      <td>8615246</td>\n",
       "    </tr>\n",
       "    <tr>\n",
       "      <th>Germany</th>\n",
       "      <th>Berlin</th>\n",
       "      <td>3437916</td>\n",
       "    </tr>\n",
       "    <tr>\n",
       "      <th>Spain</th>\n",
       "      <th>Madrid</th>\n",
       "      <td>3165235</td>\n",
       "    </tr>\n",
       "    <tr>\n",
       "      <th>Italy</th>\n",
       "      <th>Rome</th>\n",
       "      <td>2872086</td>\n",
       "    </tr>\n",
       "    <tr>\n",
       "      <th>France</th>\n",
       "      <th>Paris</th>\n",
       "      <td>2273305</td>\n",
       "    </tr>\n",
       "    <tr>\n",
       "      <th>Romania</th>\n",
       "      <th>Bucharest</th>\n",
       "      <td>1883425</td>\n",
       "    </tr>\n",
       "    <tr>\n",
       "      <th>Austria</th>\n",
       "      <th>Vienna</th>\n",
       "      <td>1794770</td>\n",
       "    </tr>\n",
       "    <tr>\n",
       "      <th>Germany</th>\n",
       "      <th>Hamburg[10]</th>\n",
       "      <td>1746342</td>\n",
       "    </tr>\n",
       "    <tr>\n",
       "      <th>Hungary</th>\n",
       "      <th>Budapest</th>\n",
       "      <td>1744665</td>\n",
       "    </tr>\n",
       "    <tr>\n",
       "      <th>Poland</th>\n",
       "      <th>Warsaw</th>\n",
       "      <td>1729119</td>\n",
       "    </tr>\n",
       "    <tr>\n",
       "      <th>Spain</th>\n",
       "      <th>Barcelona</th>\n",
       "      <td>1602386</td>\n",
       "    </tr>\n",
       "    <tr>\n",
       "      <th>Germany</th>\n",
       "      <th>Munich</th>\n",
       "      <td>1407836</td>\n",
       "    </tr>\n",
       "    <tr>\n",
       "      <th>Italy</th>\n",
       "      <th>Milan</th>\n",
       "      <td>1332516</td>\n",
       "    </tr>\n",
       "    <tr>\n",
       "      <th>Bulgaria</th>\n",
       "      <th>Sofia</th>\n",
       "      <td>1291895</td>\n",
       "    </tr>\n",
       "    <tr>\n",
       "      <th>Czech Republic</th>\n",
       "      <th>Prague</th>\n",
       "      <td>1246780</td>\n",
       "    </tr>\n",
       "    <tr>\n",
       "      <th>Belgium</th>\n",
       "      <th>Brussels[17]</th>\n",
       "      <td>1175831</td>\n",
       "    </tr>\n",
       "    <tr>\n",
       "      <th>United Kingdom</th>\n",
       "      <th>Birmingham</th>\n",
       "      <td>1092330</td>\n",
       "    </tr>\n",
       "    <tr>\n",
       "      <th>Germany</th>\n",
       "      <th>Cologne</th>\n",
       "      <td>1034175</td>\n",
       "    </tr>\n",
       "    <tr>\n",
       "      <th>Italy</th>\n",
       "      <th>Naples</th>\n",
       "      <td>989845</td>\n",
       "    </tr>\n",
       "    <tr>\n",
       "      <th>Sweden</th>\n",
       "      <th>Stockholm</th>\n",
       "      <td>909976</td>\n",
       "    </tr>\n",
       "  </tbody>\n",
       "</table>\n",
       "</div>"
      ],
      "text/plain": [
       "                             NumericPopulation\n",
       "State          City                           \n",
       "United Kingdom London[2]               8615246\n",
       "Germany        Berlin                  3437916\n",
       "Spain          Madrid                  3165235\n",
       "Italy          Rome                    2872086\n",
       "France         Paris                   2273305\n",
       "Romania        Bucharest               1883425\n",
       "Austria        Vienna                  1794770\n",
       "Germany        Hamburg[10]             1746342\n",
       "Hungary        Budapest                1744665\n",
       "Poland         Warsaw                  1729119\n",
       "Spain          Barcelona               1602386\n",
       "Germany        Munich                  1407836\n",
       "Italy          Milan                   1332516\n",
       "Bulgaria       Sofia                   1291895\n",
       "Czech Republic Prague                  1246780\n",
       "Belgium        Brussels[17]            1175831\n",
       "United Kingdom Birmingham              1092330\n",
       "Germany        Cologne                 1034175\n",
       "Italy          Naples                   989845\n",
       "Sweden         Stockholm                909976"
      ]
     },
     "execution_count": 70,
     "metadata": {},
     "output_type": "execute_result"
    }
   ],
   "source": [
    "# Ahora consideramos un nuevo DataFrame, generado a partir del general, con sólo 3 columnas o \n",
    "# instancias del objeto Series e indizado mediante el índice jerárquico anterior de dos entradas\n",
    "df_pop3 = df_pop[[\"State\", \"City\", \"NumericPopulation\"]].set_index([\"State\", \"City\"]);\n",
    "df_pop3.head(20)"
   ]
  },
  {
   "cell_type": "code",
   "execution_count": 71,
   "metadata": {},
   "outputs": [
    {
     "data": {
      "text/html": [
       "<div>\n",
       "<style scoped>\n",
       "    .dataframe tbody tr th:only-of-type {\n",
       "        vertical-align: middle;\n",
       "    }\n",
       "\n",
       "    .dataframe tbody tr th {\n",
       "        vertical-align: top;\n",
       "    }\n",
       "\n",
       "    .dataframe thead th {\n",
       "        text-align: right;\n",
       "    }\n",
       "</style>\n",
       "<table border=\"1\" class=\"dataframe\">\n",
       "  <thead>\n",
       "    <tr style=\"text-align: right;\">\n",
       "      <th></th>\n",
       "      <th></th>\n",
       "      <th>NumericPopulation</th>\n",
       "    </tr>\n",
       "    <tr>\n",
       "      <th>State</th>\n",
       "      <th>City</th>\n",
       "      <th></th>\n",
       "    </tr>\n",
       "  </thead>\n",
       "  <tbody>\n",
       "    <tr>\n",
       "      <th>United Kingdom</th>\n",
       "      <th>London[2]</th>\n",
       "      <td>8615246</td>\n",
       "    </tr>\n",
       "    <tr>\n",
       "      <th>Germany</th>\n",
       "      <th>Berlin</th>\n",
       "      <td>3437916</td>\n",
       "    </tr>\n",
       "    <tr>\n",
       "      <th>Spain</th>\n",
       "      <th>Madrid</th>\n",
       "      <td>3165235</td>\n",
       "    </tr>\n",
       "    <tr>\n",
       "      <th>Italy</th>\n",
       "      <th>Rome</th>\n",
       "      <td>2872086</td>\n",
       "    </tr>\n",
       "    <tr>\n",
       "      <th>France</th>\n",
       "      <th>Paris</th>\n",
       "      <td>2273305</td>\n",
       "    </tr>\n",
       "    <tr>\n",
       "      <th>Romania</th>\n",
       "      <th>Bucharest</th>\n",
       "      <td>1883425</td>\n",
       "    </tr>\n",
       "    <tr>\n",
       "      <th>Austria</th>\n",
       "      <th>Vienna</th>\n",
       "      <td>1794770</td>\n",
       "    </tr>\n",
       "    <tr>\n",
       "      <th>Germany</th>\n",
       "      <th>Hamburg[10]</th>\n",
       "      <td>1746342</td>\n",
       "    </tr>\n",
       "    <tr>\n",
       "      <th>Hungary</th>\n",
       "      <th>Budapest</th>\n",
       "      <td>1744665</td>\n",
       "    </tr>\n",
       "    <tr>\n",
       "      <th>Poland</th>\n",
       "      <th>Warsaw</th>\n",
       "      <td>1729119</td>\n",
       "    </tr>\n",
       "    <tr>\n",
       "      <th>Spain</th>\n",
       "      <th>Barcelona</th>\n",
       "      <td>1602386</td>\n",
       "    </tr>\n",
       "    <tr>\n",
       "      <th>Germany</th>\n",
       "      <th>Munich</th>\n",
       "      <td>1407836</td>\n",
       "    </tr>\n",
       "    <tr>\n",
       "      <th>Italy</th>\n",
       "      <th>Milan</th>\n",
       "      <td>1332516</td>\n",
       "    </tr>\n",
       "    <tr>\n",
       "      <th>Bulgaria</th>\n",
       "      <th>Sofia</th>\n",
       "      <td>1291895</td>\n",
       "    </tr>\n",
       "    <tr>\n",
       "      <th>Czech Republic</th>\n",
       "      <th>Prague</th>\n",
       "      <td>1246780</td>\n",
       "    </tr>\n",
       "    <tr>\n",
       "      <th>Belgium</th>\n",
       "      <th>Brussels[17]</th>\n",
       "      <td>1175831</td>\n",
       "    </tr>\n",
       "    <tr>\n",
       "      <th>United Kingdom</th>\n",
       "      <th>Birmingham</th>\n",
       "      <td>1092330</td>\n",
       "    </tr>\n",
       "    <tr>\n",
       "      <th>Germany</th>\n",
       "      <th>Cologne</th>\n",
       "      <td>1034175</td>\n",
       "    </tr>\n",
       "    <tr>\n",
       "      <th>Italy</th>\n",
       "      <th>Naples</th>\n",
       "      <td>989845</td>\n",
       "    </tr>\n",
       "    <tr>\n",
       "      <th>Sweden</th>\n",
       "      <th>Stockholm</th>\n",
       "      <td>909976</td>\n",
       "    </tr>\n",
       "  </tbody>\n",
       "</table>\n",
       "</div>"
      ],
      "text/plain": [
       "                             NumericPopulation\n",
       "State          City                           \n",
       "United Kingdom London[2]               8615246\n",
       "Germany        Berlin                  3437916\n",
       "Spain          Madrid                  3165235\n",
       "Italy          Rome                    2872086\n",
       "France         Paris                   2273305\n",
       "Romania        Bucharest               1883425\n",
       "Austria        Vienna                  1794770\n",
       "Germany        Hamburg[10]             1746342\n",
       "Hungary        Budapest                1744665\n",
       "Poland         Warsaw                  1729119\n",
       "Spain          Barcelona               1602386\n",
       "Germany        Munich                  1407836\n",
       "Italy          Milan                   1332516\n",
       "Bulgaria       Sofia                   1291895\n",
       "Czech Republic Prague                  1246780\n",
       "Belgium        Brussels[17]            1175831\n",
       "United Kingdom Birmingham              1092330\n",
       "Germany        Cologne                 1034175\n",
       "Italy          Naples                   989845\n",
       "Sweden         Stockholm                909976"
      ]
     },
     "execution_count": 71,
     "metadata": {},
     "output_type": "execute_result"
    }
   ],
   "source": [
    "# Esta nueva instancia de DataFrame es como la anterior, pero ordenada jerárquicamente\n",
    "# a partir de cada uno de los estados\n",
    "df_pop3bis = df_pop[[\"State\", \"City\", \"NumericPopulation\"]].set_index([\"State\", \"City\"]);\n",
    "df_pop3bis.head(20)"
   ]
  },
  {
   "cell_type": "code",
   "execution_count": 72,
   "metadata": {},
   "outputs": [
    {
     "data": {
      "text/html": [
       "<div>\n",
       "<style scoped>\n",
       "    .dataframe tbody tr th:only-of-type {\n",
       "        vertical-align: middle;\n",
       "    }\n",
       "\n",
       "    .dataframe tbody tr th {\n",
       "        vertical-align: top;\n",
       "    }\n",
       "\n",
       "    .dataframe thead th {\n",
       "        text-align: right;\n",
       "    }\n",
       "</style>\n",
       "<table border=\"1\" class=\"dataframe\">\n",
       "  <thead>\n",
       "    <tr style=\"text-align: right;\">\n",
       "      <th></th>\n",
       "      <th>NumericPopulation</th>\n",
       "    </tr>\n",
       "    <tr>\n",
       "      <th>State</th>\n",
       "      <th></th>\n",
       "    </tr>\n",
       "  </thead>\n",
       "  <tbody>\n",
       "    <tr>\n",
       "      <th>Slovakia Slovak Republic</th>\n",
       "      <td>417389</td>\n",
       "    </tr>\n",
       "    <tr>\n",
       "      <th>Estonia</th>\n",
       "      <td>434810</td>\n",
       "    </tr>\n",
       "    <tr>\n",
       "      <th>Ireland</th>\n",
       "      <td>527612</td>\n",
       "    </tr>\n",
       "    <tr>\n",
       "      <th>Portugal</th>\n",
       "      <td>547631</td>\n",
       "    </tr>\n",
       "    <tr>\n",
       "      <th>Finland</th>\n",
       "      <td>605523</td>\n",
       "    </tr>\n",
       "    <tr>\n",
       "      <th>Latvia</th>\n",
       "      <td>701185</td>\n",
       "    </tr>\n",
       "    <tr>\n",
       "      <th>Croatia</th>\n",
       "      <td>790017</td>\n",
       "    </tr>\n",
       "    <tr>\n",
       "      <th>Lithuania</th>\n",
       "      <td>844040</td>\n",
       "    </tr>\n",
       "    <tr>\n",
       "      <th>Denmark</th>\n",
       "      <td>886116</td>\n",
       "    </tr>\n",
       "    <tr>\n",
       "      <th>Greece</th>\n",
       "      <td>986286</td>\n",
       "    </tr>\n",
       "    <tr>\n",
       "      <th>Czech Republic</th>\n",
       "      <td>1625107</td>\n",
       "    </tr>\n",
       "    <tr>\n",
       "      <th>Belgium</th>\n",
       "      <td>1686441</td>\n",
       "    </tr>\n",
       "    <tr>\n",
       "      <th>Hungary</th>\n",
       "      <td>1744665</td>\n",
       "    </tr>\n",
       "    <tr>\n",
       "      <th>Sweden</th>\n",
       "      <td>1747095</td>\n",
       "    </tr>\n",
       "    <tr>\n",
       "      <th>Austria</th>\n",
       "      <td>1794770</td>\n",
       "    </tr>\n",
       "    <tr>\n",
       "      <th>Bulgaria</th>\n",
       "      <td>1968755</td>\n",
       "    </tr>\n",
       "    <tr>\n",
       "      <th>Netherlands</th>\n",
       "      <td>2271771</td>\n",
       "    </tr>\n",
       "    <tr>\n",
       "      <th>Romania</th>\n",
       "      <td>2527280</td>\n",
       "    </tr>\n",
       "    <tr>\n",
       "      <th>France</th>\n",
       "      <td>4395271</td>\n",
       "    </tr>\n",
       "    <tr>\n",
       "      <th>Poland</th>\n",
       "      <td>6267409</td>\n",
       "    </tr>\n",
       "    <tr>\n",
       "      <th>Italy</th>\n",
       "      <td>8764067</td>\n",
       "    </tr>\n",
       "    <tr>\n",
       "      <th>Spain</th>\n",
       "      <td>10041639</td>\n",
       "    </tr>\n",
       "    <tr>\n",
       "      <th>Germany</th>\n",
       "      <td>15119548</td>\n",
       "    </tr>\n",
       "    <tr>\n",
       "      <th>United Kingdom</th>\n",
       "      <td>16011877</td>\n",
       "    </tr>\n",
       "  </tbody>\n",
       "</table>\n",
       "</div>"
      ],
      "text/plain": [
       "                          NumericPopulation\n",
       "State                                      \n",
       "Slovakia Slovak Republic             417389\n",
       "Estonia                              434810\n",
       "Ireland                              527612\n",
       "Portugal                             547631\n",
       "Finland                              605523\n",
       "Latvia                               701185\n",
       "Croatia                              790017\n",
       "Lithuania                            844040\n",
       "Denmark                              886116\n",
       "Greece                               986286\n",
       "Czech Republic                      1625107\n",
       "Belgium                             1686441\n",
       "Hungary                             1744665\n",
       "Sweden                              1747095\n",
       "Austria                             1794770\n",
       "Bulgaria                            1968755\n",
       "Netherlands                         2271771\n",
       "Romania                             2527280\n",
       "France                              4395271\n",
       "Poland                              6267409\n",
       "Italy                               8764067\n",
       "Spain                              10041639\n",
       "Germany                            15119548\n",
       "United Kingdom                     16011877"
      ]
     },
     "execution_count": 72,
     "metadata": {},
     "output_type": "execute_result"
    }
   ],
   "source": [
    "# Si ahora lo que queremos es obtener por ejemplo la población total de todas las ciudades\n",
    "# consideradas en cada uno de los paises, podemos generar la siguiente instancia\n",
    "df_pop4 = df_pop3.groupby(level=\"State\").sum().sort_values(\"NumericPopulation\", ascending=True);\n",
    "df_pop4[:]"
   ]
  },
  {
   "cell_type": "code",
   "execution_count": 73,
   "metadata": {},
   "outputs": [
    {
     "data": {
      "text/html": [
       "<div>\n",
       "<style scoped>\n",
       "    .dataframe tbody tr th:only-of-type {\n",
       "        vertical-align: middle;\n",
       "    }\n",
       "\n",
       "    .dataframe tbody tr th {\n",
       "        vertical-align: top;\n",
       "    }\n",
       "\n",
       "    .dataframe thead th {\n",
       "        text-align: right;\n",
       "    }\n",
       "</style>\n",
       "<table border=\"1\" class=\"dataframe\">\n",
       "  <thead>\n",
       "    <tr style=\"text-align: right;\">\n",
       "      <th></th>\n",
       "      <th>NumericPopulation</th>\n",
       "    </tr>\n",
       "    <tr>\n",
       "      <th>State</th>\n",
       "      <th></th>\n",
       "    </tr>\n",
       "  </thead>\n",
       "  <tbody>\n",
       "    <tr>\n",
       "      <th>Slovakia Slovak Republic</th>\n",
       "      <td>417389</td>\n",
       "    </tr>\n",
       "    <tr>\n",
       "      <th>Estonia</th>\n",
       "      <td>434810</td>\n",
       "    </tr>\n",
       "    <tr>\n",
       "      <th>Ireland</th>\n",
       "      <td>527612</td>\n",
       "    </tr>\n",
       "    <tr>\n",
       "      <th>Portugal</th>\n",
       "      <td>547631</td>\n",
       "    </tr>\n",
       "    <tr>\n",
       "      <th>Finland</th>\n",
       "      <td>605523</td>\n",
       "    </tr>\n",
       "    <tr>\n",
       "      <th>Latvia</th>\n",
       "      <td>701185</td>\n",
       "    </tr>\n",
       "    <tr>\n",
       "      <th>Croatia</th>\n",
       "      <td>790017</td>\n",
       "    </tr>\n",
       "    <tr>\n",
       "      <th>Lithuania</th>\n",
       "      <td>844040</td>\n",
       "    </tr>\n",
       "    <tr>\n",
       "      <th>Denmark</th>\n",
       "      <td>886116</td>\n",
       "    </tr>\n",
       "    <tr>\n",
       "      <th>Greece</th>\n",
       "      <td>986286</td>\n",
       "    </tr>\n",
       "  </tbody>\n",
       "</table>\n",
       "</div>"
      ],
      "text/plain": [
       "                          NumericPopulation\n",
       "State                                      \n",
       "Slovakia Slovak Republic             417389\n",
       "Estonia                              434810\n",
       "Ireland                              527612\n",
       "Portugal                             547631\n",
       "Finland                              605523\n",
       "Latvia                               701185\n",
       "Croatia                              790017\n",
       "Lithuania                            844040\n",
       "Denmark                              886116\n",
       "Greece                               986286"
      ]
     },
     "execution_count": 73,
     "metadata": {},
     "output_type": "execute_result"
    }
   ],
   "source": [
    "# de la cual podríamos obtener ahora los diez primeros paises de la lista\n",
    "df_pop4[:10]"
   ]
  },
  {
   "cell_type": "code",
   "execution_count": 74,
   "metadata": {},
   "outputs": [
    {
     "data": {
      "text/html": [
       "<div>\n",
       "<style scoped>\n",
       "    .dataframe tbody tr th:only-of-type {\n",
       "        vertical-align: middle;\n",
       "    }\n",
       "\n",
       "    .dataframe tbody tr th {\n",
       "        vertical-align: top;\n",
       "    }\n",
       "\n",
       "    .dataframe thead th {\n",
       "        text-align: right;\n",
       "    }\n",
       "</style>\n",
       "<table border=\"1\" class=\"dataframe\">\n",
       "  <thead>\n",
       "    <tr style=\"text-align: right;\">\n",
       "      <th></th>\n",
       "      <th>NumericPopulation</th>\n",
       "    </tr>\n",
       "    <tr>\n",
       "      <th>State</th>\n",
       "      <th></th>\n",
       "    </tr>\n",
       "  </thead>\n",
       "  <tbody>\n",
       "    <tr>\n",
       "      <th>Austria</th>\n",
       "      <td>1794770</td>\n",
       "    </tr>\n",
       "    <tr>\n",
       "      <th>Bulgaria</th>\n",
       "      <td>1968755</td>\n",
       "    </tr>\n",
       "    <tr>\n",
       "      <th>Netherlands</th>\n",
       "      <td>2271771</td>\n",
       "    </tr>\n",
       "    <tr>\n",
       "      <th>Romania</th>\n",
       "      <td>2527280</td>\n",
       "    </tr>\n",
       "    <tr>\n",
       "      <th>France</th>\n",
       "      <td>4395271</td>\n",
       "    </tr>\n",
       "    <tr>\n",
       "      <th>Poland</th>\n",
       "      <td>6267409</td>\n",
       "    </tr>\n",
       "    <tr>\n",
       "      <th>Italy</th>\n",
       "      <td>8764067</td>\n",
       "    </tr>\n",
       "    <tr>\n",
       "      <th>Spain</th>\n",
       "      <td>10041639</td>\n",
       "    </tr>\n",
       "    <tr>\n",
       "      <th>Germany</th>\n",
       "      <td>15119548</td>\n",
       "    </tr>\n",
       "    <tr>\n",
       "      <th>United Kingdom</th>\n",
       "      <td>16011877</td>\n",
       "    </tr>\n",
       "  </tbody>\n",
       "</table>\n",
       "</div>"
      ],
      "text/plain": [
       "                NumericPopulation\n",
       "State                            \n",
       "Austria                   1794770\n",
       "Bulgaria                  1968755\n",
       "Netherlands               2271771\n",
       "Romania                   2527280\n",
       "France                    4395271\n",
       "Poland                    6267409\n",
       "Italy                     8764067\n",
       "Spain                    10041639\n",
       "Germany                  15119548\n",
       "United Kingdom           16011877"
      ]
     },
     "execution_count": 74,
     "metadata": {},
     "output_type": "execute_result"
    }
   ],
   "source": [
    "# o los diez últimos paises de la lista \n",
    "# (recuerde que estaban ordenados de menor a mayor población de las ciudades consideradas)\n",
    "df_pop4[-10:]"
   ]
  },
  {
   "cell_type": "code",
   "execution_count": 75,
   "metadata": {},
   "outputs": [
    {
     "data": {
      "text/html": [
       "<div>\n",
       "<style scoped>\n",
       "    .dataframe tbody tr th:only-of-type {\n",
       "        vertical-align: middle;\n",
       "    }\n",
       "\n",
       "    .dataframe tbody tr th {\n",
       "        vertical-align: top;\n",
       "    }\n",
       "\n",
       "    .dataframe thead th {\n",
       "        text-align: right;\n",
       "    }\n",
       "</style>\n",
       "<table border=\"1\" class=\"dataframe\">\n",
       "  <thead>\n",
       "    <tr style=\"text-align: right;\">\n",
       "      <th></th>\n",
       "      <th>NumericPopulation</th>\n",
       "    </tr>\n",
       "    <tr>\n",
       "      <th>State</th>\n",
       "      <th></th>\n",
       "    </tr>\n",
       "  </thead>\n",
       "  <tbody>\n",
       "    <tr>\n",
       "      <th>Slovakia Slovak Republic</th>\n",
       "      <td>417389</td>\n",
       "    </tr>\n",
       "    <tr>\n",
       "      <th>Estonia</th>\n",
       "      <td>434810</td>\n",
       "    </tr>\n",
       "    <tr>\n",
       "      <th>Ireland</th>\n",
       "      <td>527612</td>\n",
       "    </tr>\n",
       "    <tr>\n",
       "      <th>Portugal</th>\n",
       "      <td>547631</td>\n",
       "    </tr>\n",
       "    <tr>\n",
       "      <th>Finland</th>\n",
       "      <td>605523</td>\n",
       "    </tr>\n",
       "    <tr>\n",
       "      <th>Latvia</th>\n",
       "      <td>701185</td>\n",
       "    </tr>\n",
       "    <tr>\n",
       "      <th>Croatia</th>\n",
       "      <td>790017</td>\n",
       "    </tr>\n",
       "    <tr>\n",
       "      <th>Lithuania</th>\n",
       "      <td>844040</td>\n",
       "    </tr>\n",
       "    <tr>\n",
       "      <th>Denmark</th>\n",
       "      <td>886116</td>\n",
       "    </tr>\n",
       "    <tr>\n",
       "      <th>Greece</th>\n",
       "      <td>986286</td>\n",
       "    </tr>\n",
       "    <tr>\n",
       "      <th>Czech Republic</th>\n",
       "      <td>1625107</td>\n",
       "    </tr>\n",
       "    <tr>\n",
       "      <th>Belgium</th>\n",
       "      <td>1686441</td>\n",
       "    </tr>\n",
       "    <tr>\n",
       "      <th>Hungary</th>\n",
       "      <td>1744665</td>\n",
       "    </tr>\n",
       "    <tr>\n",
       "      <th>Sweden</th>\n",
       "      <td>1747095</td>\n",
       "    </tr>\n",
       "    <tr>\n",
       "      <th>Austria</th>\n",
       "      <td>1794770</td>\n",
       "    </tr>\n",
       "    <tr>\n",
       "      <th>Bulgaria</th>\n",
       "      <td>1968755</td>\n",
       "    </tr>\n",
       "    <tr>\n",
       "      <th>Netherlands</th>\n",
       "      <td>2271771</td>\n",
       "    </tr>\n",
       "    <tr>\n",
       "      <th>Romania</th>\n",
       "      <td>2527280</td>\n",
       "    </tr>\n",
       "    <tr>\n",
       "      <th>France</th>\n",
       "      <td>4395271</td>\n",
       "    </tr>\n",
       "    <tr>\n",
       "      <th>Poland</th>\n",
       "      <td>6267409</td>\n",
       "    </tr>\n",
       "    <tr>\n",
       "      <th>Italy</th>\n",
       "      <td>8764067</td>\n",
       "    </tr>\n",
       "    <tr>\n",
       "      <th>Spain</th>\n",
       "      <td>10041639</td>\n",
       "    </tr>\n",
       "    <tr>\n",
       "      <th>Germany</th>\n",
       "      <td>15119548</td>\n",
       "    </tr>\n",
       "    <tr>\n",
       "      <th>United Kingdom</th>\n",
       "      <td>16011877</td>\n",
       "    </tr>\n",
       "  </tbody>\n",
       "</table>\n",
       "</div>"
      ],
      "text/plain": [
       "                          NumericPopulation\n",
       "State                                      \n",
       "Slovakia Slovak Republic             417389\n",
       "Estonia                              434810\n",
       "Ireland                              527612\n",
       "Portugal                             547631\n",
       "Finland                              605523\n",
       "Latvia                               701185\n",
       "Croatia                              790017\n",
       "Lithuania                            844040\n",
       "Denmark                              886116\n",
       "Greece                               986286\n",
       "Czech Republic                      1625107\n",
       "Belgium                             1686441\n",
       "Hungary                             1744665\n",
       "Sweden                              1747095\n",
       "Austria                             1794770\n",
       "Bulgaria                            1968755\n",
       "Netherlands                         2271771\n",
       "Romania                             2527280\n",
       "France                              4395271\n",
       "Poland                              6267409\n",
       "Italy                               8764067\n",
       "Spain                              10041639\n",
       "Germany                            15119548\n",
       "United Kingdom                     16011877"
      ]
     },
     "execution_count": 75,
     "metadata": {},
     "output_type": "execute_result"
    }
   ],
   "source": [
    "# Podríamos haber obtenido exactamente el mismo resultado de la siguiente manera:\n",
    "df_pop5 = (df_pop.drop(\"Rank\", axis=1)\n",
    "                 .groupby(\"State\").sum()\n",
    "                 .sort_values(\"NumericPopulation\", ascending=True));\n",
    "df_pop5[:]"
   ]
  },
  {
   "cell_type": "code",
   "execution_count": 76,
   "metadata": {},
   "outputs": [
    {
     "data": {
      "text/html": [
       "<div>\n",
       "<style scoped>\n",
       "    .dataframe tbody tr th:only-of-type {\n",
       "        vertical-align: middle;\n",
       "    }\n",
       "\n",
       "    .dataframe tbody tr th {\n",
       "        vertical-align: top;\n",
       "    }\n",
       "\n",
       "    .dataframe thead th {\n",
       "        text-align: right;\n",
       "    }\n",
       "</style>\n",
       "<table border=\"1\" class=\"dataframe\">\n",
       "  <thead>\n",
       "    <tr style=\"text-align: right;\">\n",
       "      <th></th>\n",
       "      <th>NumericPopulation</th>\n",
       "    </tr>\n",
       "    <tr>\n",
       "      <th>State</th>\n",
       "      <th></th>\n",
       "    </tr>\n",
       "  </thead>\n",
       "  <tbody>\n",
       "    <tr>\n",
       "      <th>United Kingdom</th>\n",
       "      <td>16011877</td>\n",
       "    </tr>\n",
       "    <tr>\n",
       "      <th>Germany</th>\n",
       "      <td>15119548</td>\n",
       "    </tr>\n",
       "    <tr>\n",
       "      <th>Spain</th>\n",
       "      <td>10041639</td>\n",
       "    </tr>\n",
       "    <tr>\n",
       "      <th>Italy</th>\n",
       "      <td>8764067</td>\n",
       "    </tr>\n",
       "    <tr>\n",
       "      <th>Poland</th>\n",
       "      <td>6267409</td>\n",
       "    </tr>\n",
       "    <tr>\n",
       "      <th>France</th>\n",
       "      <td>4395271</td>\n",
       "    </tr>\n",
       "    <tr>\n",
       "      <th>Romania</th>\n",
       "      <td>2527280</td>\n",
       "    </tr>\n",
       "    <tr>\n",
       "      <th>Netherlands</th>\n",
       "      <td>2271771</td>\n",
       "    </tr>\n",
       "    <tr>\n",
       "      <th>Bulgaria</th>\n",
       "      <td>1968755</td>\n",
       "    </tr>\n",
       "    <tr>\n",
       "      <th>Austria</th>\n",
       "      <td>1794770</td>\n",
       "    </tr>\n",
       "    <tr>\n",
       "      <th>Sweden</th>\n",
       "      <td>1747095</td>\n",
       "    </tr>\n",
       "    <tr>\n",
       "      <th>Hungary</th>\n",
       "      <td>1744665</td>\n",
       "    </tr>\n",
       "    <tr>\n",
       "      <th>Belgium</th>\n",
       "      <td>1686441</td>\n",
       "    </tr>\n",
       "    <tr>\n",
       "      <th>Czech Republic</th>\n",
       "      <td>1625107</td>\n",
       "    </tr>\n",
       "    <tr>\n",
       "      <th>Greece</th>\n",
       "      <td>986286</td>\n",
       "    </tr>\n",
       "    <tr>\n",
       "      <th>Denmark</th>\n",
       "      <td>886116</td>\n",
       "    </tr>\n",
       "    <tr>\n",
       "      <th>Lithuania</th>\n",
       "      <td>844040</td>\n",
       "    </tr>\n",
       "    <tr>\n",
       "      <th>Croatia</th>\n",
       "      <td>790017</td>\n",
       "    </tr>\n",
       "    <tr>\n",
       "      <th>Latvia</th>\n",
       "      <td>701185</td>\n",
       "    </tr>\n",
       "    <tr>\n",
       "      <th>Finland</th>\n",
       "      <td>605523</td>\n",
       "    </tr>\n",
       "    <tr>\n",
       "      <th>Portugal</th>\n",
       "      <td>547631</td>\n",
       "    </tr>\n",
       "    <tr>\n",
       "      <th>Ireland</th>\n",
       "      <td>527612</td>\n",
       "    </tr>\n",
       "    <tr>\n",
       "      <th>Estonia</th>\n",
       "      <td>434810</td>\n",
       "    </tr>\n",
       "    <tr>\n",
       "      <th>Slovakia Slovak Republic</th>\n",
       "      <td>417389</td>\n",
       "    </tr>\n",
       "  </tbody>\n",
       "</table>\n",
       "</div>"
      ],
      "text/plain": [
       "                          NumericPopulation\n",
       "State                                      \n",
       "United Kingdom                     16011877\n",
       "Germany                            15119548\n",
       "Spain                              10041639\n",
       "Italy                               8764067\n",
       "Poland                              6267409\n",
       "France                              4395271\n",
       "Romania                             2527280\n",
       "Netherlands                         2271771\n",
       "Bulgaria                            1968755\n",
       "Austria                             1794770\n",
       "Sweden                              1747095\n",
       "Hungary                             1744665\n",
       "Belgium                             1686441\n",
       "Czech Republic                      1625107\n",
       "Greece                               986286\n",
       "Denmark                              886116\n",
       "Lithuania                            844040\n",
       "Croatia                              790017\n",
       "Latvia                               701185\n",
       "Finland                              605523\n",
       "Portugal                             547631\n",
       "Ireland                              527612\n",
       "Estonia                              434810\n",
       "Slovakia Slovak Republic             417389"
      ]
     },
     "execution_count": 76,
     "metadata": {},
     "output_type": "execute_result"
    }
   ],
   "source": [
    "df_pop5bis=df_pop5[::-1];  # En caso de querer invertir el orden\n",
    "df_pop5bis"
   ]
  },
  {
   "cell_type": "code",
   "execution_count": 77,
   "metadata": {},
   "outputs": [
    {
     "data": {
      "image/png": "[encoded data removed]",
      "text/plain": [
       "<Figure size 864x288 with 2 Axes>"
      ]
     },
     "metadata": {
      "needs_background": "light"
     },
     "output_type": "display_data"
    }
   ],
   "source": [
    "fig, (ax1, ax2) = plt.subplots(1, 2, figsize=(12, 4))\n",
    "\n",
    "city_counts.plot(kind='barh', ax=ax1)\n",
    "ax1.set_xlabel(u\"# de ciudades con mayor población\")\n",
    "df_pop5bis.NumericPopulation.plot(kind='barh', ax=ax2)\n",
    "ax2.set_xlabel(\"Pobl. total en las ciudades\")\n",
    "\n",
    "fig.tight_layout()\n",
    "fig.savefig(\"ciudades-mas-pobladas-por-paises.pdf\")"
   ]
  },
  {
   "cell_type": "markdown",
   "metadata": {},
   "source": [
    "## Series temporales"
   ]
  },
  {
   "cell_type": "markdown",
   "metadata": {},
   "source": [
    "Las series temporales son una forma habitual de datos organizados en periodos regulares o irregulares de tiempo. Con Pandas podemos representarlos fácilmente usando instancias de las clases `Series` o `DataFrame`, donde una de las columnas se indiza usando este tipo de periodos de tiempo, que se puede gestionar adecuadamente gracias al conjunto de índices `DatetimeIndex` o `PeriodIndex`. Así podremos facilmente realizar operaciones y gestionar dichos datos, seleccionando rangos de tiempo, agrupando ciertos periodos o bien muestreando ciertos datos de la serie temporal."
   ]
  },
  {
   "cell_type": "markdown",
   "metadata": {},
   "source": [
    "### Teoría básica"
   ]
  },
  {
   "cell_type": "code",
   "execution_count": 78,
   "metadata": {},
   "outputs": [],
   "source": [
    "import datetime # este módulo contiene distintas clases de objetos y procedimientos\n",
    "# como ´date_range´ para tratar y manipular datos que dependan de fechas temporales"
   ]
  },
  {
   "cell_type": "code",
   "execution_count": 79,
   "metadata": {},
   "outputs": [
    {
     "data": {
      "text/plain": [
       "DatetimeIndex(['2015-01-01', '2015-01-02', '2015-01-03', '2015-01-04',\n",
       "               '2015-01-05', '2015-01-06', '2015-01-07', '2015-01-08',\n",
       "               '2015-01-09', '2015-01-10', '2015-01-11', '2015-01-12',\n",
       "               '2015-01-13', '2015-01-14', '2015-01-15', '2015-01-16',\n",
       "               '2015-01-17', '2015-01-18', '2015-01-19', '2015-01-20',\n",
       "               '2015-01-21', '2015-01-22', '2015-01-23', '2015-01-24',\n",
       "               '2015-01-25', '2015-01-26', '2015-01-27', '2015-01-28',\n",
       "               '2015-01-29', '2015-01-30', '2015-01-31'],\n",
       "              dtype='datetime64[ns]', freq='D')"
      ]
     },
     "execution_count": 79,
     "metadata": {},
     "output_type": "execute_result"
    }
   ],
   "source": [
    "pd.date_range(\"2015-1-1\", periods=31)  # he aquí un ejemplo que no requiere explicación"
   ]
  },
  {
   "cell_type": "code",
   "execution_count": 80,
   "metadata": {},
   "outputs": [
    {
     "data": {
      "text/plain": [
       "DatetimeIndex(['2015-01-01', '2015-01-02', '2015-01-03', '2015-01-04',\n",
       "               '2015-01-05', '2015-01-06', '2015-01-07', '2015-01-08',\n",
       "               '2015-01-09', '2015-01-10', '2015-01-11', '2015-01-12',\n",
       "               '2015-01-13', '2015-01-14', '2015-01-15', '2015-01-16',\n",
       "               '2015-01-17', '2015-01-18', '2015-01-19', '2015-01-20',\n",
       "               '2015-01-21', '2015-01-22', '2015-01-23', '2015-01-24',\n",
       "               '2015-01-25', '2015-01-26', '2015-01-27', '2015-01-28',\n",
       "               '2015-01-29', '2015-01-30', '2015-01-31'],\n",
       "              dtype='datetime64[ns]', freq='D')"
      ]
     },
     "execution_count": 80,
     "metadata": {},
     "output_type": "execute_result"
    }
   ],
   "source": [
    "pd.date_range(datetime.datetime(2015, 1, 1), periods=31)  # exactamente el mismo resultado"
   ]
  },
  {
   "cell_type": "code",
   "execution_count": 81,
   "metadata": {},
   "outputs": [
    {
     "data": {
      "text/plain": [
       "DatetimeIndex(['2015-01-01 00:00:00', '2015-01-01 01:00:00',\n",
       "               '2015-01-01 02:00:00', '2015-01-01 03:00:00',\n",
       "               '2015-01-01 04:00:00', '2015-01-01 05:00:00',\n",
       "               '2015-01-01 06:00:00', '2015-01-01 07:00:00',\n",
       "               '2015-01-01 08:00:00', '2015-01-01 09:00:00',\n",
       "               '2015-01-01 10:00:00', '2015-01-01 11:00:00',\n",
       "               '2015-01-01 12:00:00'],\n",
       "              dtype='datetime64[ns]', freq='H')"
      ]
     },
     "execution_count": 81,
     "metadata": {},
     "output_type": "execute_result"
    }
   ],
   "source": [
    "pd.date_range(\"2015-1-1 00:00\", \"2015-1-1 12:00\", freq=\"H\")  # ahora con una frecuencia horaria"
   ]
  },
  {
   "cell_type": "code",
   "execution_count": 82,
   "metadata": {},
   "outputs": [],
   "source": [
    "ts1 = pd.Series(np.arange(31), index=pd.date_range(\"2015-1-1\", periods=31))\n",
    "# Ahora con esta sentencia generamos una instancia de la clase Series conteniendo estos items\n",
    "# con fechas diarias como índices, correspondiéndole a cada uno de ellos un número natural\n",
    "# (empezando eso sí con el 0)."
   ]
  },
  {
   "cell_type": "code",
   "execution_count": 83,
   "metadata": {},
   "outputs": [
    {
     "data": {
      "text/plain": [
       "2015-01-01    0\n",
       "2015-01-02    1\n",
       "2015-01-03    2\n",
       "2015-01-04    3\n",
       "2015-01-05    4\n",
       "Freq: D, dtype: int32"
      ]
     },
     "execution_count": 83,
     "metadata": {},
     "output_type": "execute_result"
    }
   ],
   "source": [
    "ts1.head()  # veámos por ejemplo los primeros elementos de la serie temporal"
   ]
  },
  {
   "cell_type": "code",
   "execution_count": 84,
   "metadata": {},
   "outputs": [
    {
     "data": {
      "text/plain": [
       "2"
      ]
     },
     "execution_count": 84,
     "metadata": {},
     "output_type": "execute_result"
    }
   ],
   "source": [
    "ts1[\"2015-1-3\"]  # de esta manera vemos qué número le corresponde a una fecha concreta"
   ]
  },
  {
   "cell_type": "code",
   "execution_count": 85,
   "metadata": {},
   "outputs": [
    {
     "data": {
      "text/plain": [
       "Timestamp('2015-01-03 00:00:00', freq='D')"
      ]
     },
     "execution_count": 85,
     "metadata": {},
     "output_type": "execute_result"
    }
   ],
   "source": [
    "ts1.index[2]  \n",
    "# y así, la fecha asociada al número natural en cuestión dentro de la serie temporal"
   ]
  },
  {
   "cell_type": "code",
   "execution_count": 86,
   "metadata": {},
   "outputs": [
    {
     "data": {
      "text/plain": [
       "(2015, 1, 3)"
      ]
     },
     "execution_count": 86,
     "metadata": {},
     "output_type": "execute_result"
    }
   ],
   "source": [
    "ts1.index[2].year, ts1.index[2].month, ts1.index[2].day\n",
    "# de la cuál podríamos extraer, año, mes y día, a nuestra conveniencia"
   ]
  },
  {
   "cell_type": "code",
   "execution_count": 87,
   "metadata": {},
   "outputs": [
    {
     "data": {
      "text/plain": [
       "0"
      ]
     },
     "execution_count": 87,
     "metadata": {},
     "output_type": "execute_result"
    }
   ],
   "source": [
    "ts1.index[2].nanosecond  # si además tuviéramos tiempo almacenado para dicha fecha\n",
    "# este se podría llegar a medir en nanosegundos \n",
    "# (a diferencia de una instancia de `datetime` que sólo trabajaría con micro-segundos)."
   ]
  },
  {
   "cell_type": "code",
   "execution_count": 88,
   "metadata": {},
   "outputs": [
    {
     "data": {
      "text/plain": [
       "datetime.datetime(2015, 1, 3, 0, 0)"
      ]
     },
     "execution_count": 88,
     "metadata": {},
     "output_type": "execute_result"
    }
   ],
   "source": [
    "ts1.index[2].to_pydatetime()  # no obstante, si tuvieramos que convertir una instancia de \n",
    "# `Timestamp` en otra de `datetime` el procedimiento `to_pydatetime()` nos sería muy útil."
   ]
  },
  {
   "cell_type": "code",
   "execution_count": 89,
   "metadata": {},
   "outputs": [],
   "source": [
    "# Por otro lado, siempre podríamos usar una lista de objetos de tipo `datetime` para\n",
    "# generar una serie temporal (de la clase `Series` de Pandas).\n",
    "ts2 = pd.Series(np.random.rand(2), \n",
    "                index=[datetime.datetime(2015, 1, 1), datetime.datetime(2015, 2, 1)])"
   ]
  },
  {
   "cell_type": "code",
   "execution_count": 90,
   "metadata": {},
   "outputs": [
    {
     "data": {
      "text/plain": [
       "2015-01-01    0.927204\n",
       "2015-02-01    0.563691\n",
       "dtype: float64"
      ]
     },
     "execution_count": 90,
     "metadata": {},
     "output_type": "execute_result"
    }
   ],
   "source": [
    "ts2"
   ]
  },
  {
   "cell_type": "code",
   "execution_count": 91,
   "metadata": {},
   "outputs": [],
   "source": [
    "periods = pd.PeriodIndex([pd.Period('2015-01'), pd.Period('2015-02'), pd.Period('2015-03')])\n",
    "# aquí vemos otra manera equivalente para generar ahora tres de esos periodos temporales"
   ]
  },
  {
   "cell_type": "code",
   "execution_count": 92,
   "metadata": {},
   "outputs": [],
   "source": [
    "ts3 = pd.Series(np.random.rand(3), periods)  \n",
    "# y usarlos para generar otra serie temporal con valores aleatorios"
   ]
  },
  {
   "cell_type": "code",
   "execution_count": 93,
   "metadata": {},
   "outputs": [
    {
     "data": {
      "text/plain": [
       "2015-01    0.872648\n",
       "2015-02    0.185810\n",
       "2015-03    0.020293\n",
       "Freq: M, dtype: float64"
      ]
     },
     "execution_count": 93,
     "metadata": {},
     "output_type": "execute_result"
    }
   ],
   "source": [
    "ts3"
   ]
  },
  {
   "cell_type": "code",
   "execution_count": 94,
   "metadata": {},
   "outputs": [
    {
     "data": {
      "text/plain": [
       "PeriodIndex(['2015-01', '2015-02', '2015-03'], dtype='period[M]')"
      ]
     },
     "execution_count": 94,
     "metadata": {},
     "output_type": "execute_result"
    }
   ],
   "source": [
    "ts3.index  # una manera de obtener los índices temporales considerados"
   ]
  },
  {
   "cell_type": "code",
   "execution_count": 95,
   "metadata": {},
   "outputs": [
    {
     "data": {
      "text/plain": [
       "2015-01    0.927204\n",
       "2015-02    0.563691\n",
       "Freq: M, dtype: float64"
      ]
     },
     "execution_count": 95,
     "metadata": {},
     "output_type": "execute_result"
    }
   ],
   "source": [
    "ts2.to_period('M') # aquí vemos  una manera de obtener periodos mensuales"
   ]
  },
  {
   "cell_type": "code",
   "execution_count": 96,
   "metadata": {},
   "outputs": [
    {
     "data": {
      "text/plain": [
       "PeriodIndex(['2015-01', '2015-02', '2015-03', '2015-04', '2015-05', '2015-06',\n",
       "             '2015-07', '2015-08', '2015-09', '2015-10', '2015-11', '2015-12'],\n",
       "            dtype='period[M]')"
      ]
     },
     "execution_count": 96,
     "metadata": {},
     "output_type": "execute_result"
    }
   ],
   "source": [
    "pd.date_range(\"2015-1-1\", periods=12, freq=\"M\").to_period() # cubriendo todos los meses del año"
   ]
  },
  {
   "cell_type": "markdown",
   "metadata": {},
   "source": [
    "### Ejemplo de serie temporal de temperaturas"
   ]
  },
  {
   "cell_type": "code",
   "execution_count": 97,
   "metadata": {},
   "outputs": [],
   "source": [
    "# !head -n 5 temperature_outdoor_2014.tsv \n",
    "#(sólo válido en sistemas tipo Unix)"
   ]
  },
  {
   "cell_type": "code",
   "execution_count": 98,
   "metadata": {},
   "outputs": [],
   "source": [
    "df1 = pd.read_csv('temperature_outdoor_2014.tsv', delimiter=\"\\t\", names=[\"tiempo\", \"exterior\"])\n",
    "# en este caso estamos leyendo los datos desde un fichero .tsv (donde los delimitadores son \n",
    "# tabuladores, TAB) "
   ]
  },
  {
   "cell_type": "code",
   "execution_count": 99,
   "metadata": {},
   "outputs": [],
   "source": [
    "df2 = pd.read_csv('temperature_indoor_2014.tsv', delimiter=\"\\t\", names=[\"tiempo\", \"interior\"])\n",
    "# aquí estaríamos leyendo otro fichero como el anterior. Nótese que en ambos casos \n",
    "# estamos especificando explícitamente los nombre de las columnas correspondientes."
   ]
  },
  {
   "cell_type": "code",
   "execution_count": 100,
   "metadata": {},
   "outputs": [
    {
     "data": {
      "text/html": [
       "<div>\n",
       "<style scoped>\n",
       "    .dataframe tbody tr th:only-of-type {\n",
       "        vertical-align: middle;\n",
       "    }\n",
       "\n",
       "    .dataframe tbody tr th {\n",
       "        vertical-align: top;\n",
       "    }\n",
       "\n",
       "    .dataframe thead th {\n",
       "        text-align: right;\n",
       "    }\n",
       "</style>\n",
       "<table border=\"1\" class=\"dataframe\">\n",
       "  <thead>\n",
       "    <tr style=\"text-align: right;\">\n",
       "      <th></th>\n",
       "      <th>tiempo</th>\n",
       "      <th>exterior</th>\n",
       "    </tr>\n",
       "  </thead>\n",
       "  <tbody>\n",
       "    <tr>\n",
       "      <th>0</th>\n",
       "      <td>1388530986</td>\n",
       "      <td>4.38</td>\n",
       "    </tr>\n",
       "    <tr>\n",
       "      <th>1</th>\n",
       "      <td>1388531586</td>\n",
       "      <td>4.25</td>\n",
       "    </tr>\n",
       "    <tr>\n",
       "      <th>2</th>\n",
       "      <td>1388532187</td>\n",
       "      <td>4.19</td>\n",
       "    </tr>\n",
       "    <tr>\n",
       "      <th>3</th>\n",
       "      <td>1388532787</td>\n",
       "      <td>4.06</td>\n",
       "    </tr>\n",
       "    <tr>\n",
       "      <th>4</th>\n",
       "      <td>1388533388</td>\n",
       "      <td>4.06</td>\n",
       "    </tr>\n",
       "  </tbody>\n",
       "</table>\n",
       "</div>"
      ],
      "text/plain": [
       "       tiempo  exterior\n",
       "0  1388530986      4.38\n",
       "1  1388531586      4.25\n",
       "2  1388532187      4.19\n",
       "3  1388532787      4.06\n",
       "4  1388533388      4.06"
      ]
     },
     "execution_count": 100,
     "metadata": {},
     "output_type": "execute_result"
    }
   ],
   "source": [
    "df1.head()  # Aquí podemos visualizar las primeras líneas leidas en el primer caso"
   ]
  },
  {
   "cell_type": "code",
   "execution_count": 101,
   "metadata": {},
   "outputs": [
    {
     "data": {
      "text/html": [
       "<div>\n",
       "<style scoped>\n",
       "    .dataframe tbody tr th:only-of-type {\n",
       "        vertical-align: middle;\n",
       "    }\n",
       "\n",
       "    .dataframe tbody tr th {\n",
       "        vertical-align: top;\n",
       "    }\n",
       "\n",
       "    .dataframe thead th {\n",
       "        text-align: right;\n",
       "    }\n",
       "</style>\n",
       "<table border=\"1\" class=\"dataframe\">\n",
       "  <thead>\n",
       "    <tr style=\"text-align: right;\">\n",
       "      <th></th>\n",
       "      <th>tiempo</th>\n",
       "      <th>interior</th>\n",
       "    </tr>\n",
       "  </thead>\n",
       "  <tbody>\n",
       "    <tr>\n",
       "      <th>0</th>\n",
       "      <td>1388530986</td>\n",
       "      <td>21.94</td>\n",
       "    </tr>\n",
       "    <tr>\n",
       "      <th>1</th>\n",
       "      <td>1388531586</td>\n",
       "      <td>22.00</td>\n",
       "    </tr>\n",
       "    <tr>\n",
       "      <th>2</th>\n",
       "      <td>1388532187</td>\n",
       "      <td>22.00</td>\n",
       "    </tr>\n",
       "    <tr>\n",
       "      <th>3</th>\n",
       "      <td>1388532787</td>\n",
       "      <td>22.00</td>\n",
       "    </tr>\n",
       "    <tr>\n",
       "      <th>4</th>\n",
       "      <td>1388533388</td>\n",
       "      <td>22.00</td>\n",
       "    </tr>\n",
       "  </tbody>\n",
       "</table>\n",
       "</div>"
      ],
      "text/plain": [
       "       tiempo  interior\n",
       "0  1388530986     21.94\n",
       "1  1388531586     22.00\n",
       "2  1388532187     22.00\n",
       "3  1388532787     22.00\n",
       "4  1388533388     22.00"
      ]
     },
     "execution_count": 101,
     "metadata": {},
     "output_type": "execute_result"
    }
   ],
   "source": [
    "df2.head()  # y ahora las primeras líneas leidas en el segundo caso"
   ]
  },
  {
   "cell_type": "code",
   "execution_count": 102,
   "metadata": {},
   "outputs": [],
   "source": [
    "# El siguiente paso para una fructífera representación de la serie temporal requiere\n",
    "# convertir las indicaciones de tiempo proporcionadas por el sistema UNIX en el archivo leído\n",
    "# en objetos de tipo tiempo que Python pueda gestionar, usando el procedimiento `to_datetime`\n",
    "# También podemos \"localizar\" (asignando una zona temporal) mediante `tz_localize` \n",
    "# y convirtiendo el correspondiente atributo a la zona deseada.\n",
    "df1.tiempo = (pd.to_datetime(df1.tiempo.values, unit=\"s\")\n",
    "              .tz_localize('UTC').tz_convert('Europe/Stockholm'))"
   ]
  },
  {
   "cell_type": "code",
   "execution_count": 103,
   "metadata": {},
   "outputs": [],
   "source": [
    "df1 = df1.set_index(\"tiempo\")  # aquí indicamos que la columna que queremos usar como índice\n",
    "# correspondería a la que nos proporciona el tiempo"
   ]
  },
  {
   "cell_type": "code",
   "execution_count": 104,
   "metadata": {},
   "outputs": [],
   "source": [
    "df2.tiempo = (pd.to_datetime(df2.tiempo.values, unit=\"s\")\n",
    "              .tz_localize('UTC').tz_convert('Europe/Stockholm'))"
   ]
  },
  {
   "cell_type": "code",
   "execution_count": 105,
   "metadata": {},
   "outputs": [],
   "source": [
    "df2 = df2.set_index(\"tiempo\")  # usaremos el tiempo como índice en la serie"
   ]
  },
  {
   "cell_type": "code",
   "execution_count": 106,
   "metadata": {},
   "outputs": [
    {
     "data": {
      "text/html": [
       "<div>\n",
       "<style scoped>\n",
       "    .dataframe tbody tr th:only-of-type {\n",
       "        vertical-align: middle;\n",
       "    }\n",
       "\n",
       "    .dataframe tbody tr th {\n",
       "        vertical-align: top;\n",
       "    }\n",
       "\n",
       "    .dataframe thead th {\n",
       "        text-align: right;\n",
       "    }\n",
       "</style>\n",
       "<table border=\"1\" class=\"dataframe\">\n",
       "  <thead>\n",
       "    <tr style=\"text-align: right;\">\n",
       "      <th></th>\n",
       "      <th>exterior</th>\n",
       "    </tr>\n",
       "    <tr>\n",
       "      <th>tiempo</th>\n",
       "      <th></th>\n",
       "    </tr>\n",
       "  </thead>\n",
       "  <tbody>\n",
       "    <tr>\n",
       "      <th>2014-01-01 00:03:06+01:00</th>\n",
       "      <td>4.38</td>\n",
       "    </tr>\n",
       "    <tr>\n",
       "      <th>2014-01-01 00:13:06+01:00</th>\n",
       "      <td>4.25</td>\n",
       "    </tr>\n",
       "    <tr>\n",
       "      <th>2014-01-01 00:23:07+01:00</th>\n",
       "      <td>4.19</td>\n",
       "    </tr>\n",
       "    <tr>\n",
       "      <th>2014-01-01 00:33:07+01:00</th>\n",
       "      <td>4.06</td>\n",
       "    </tr>\n",
       "    <tr>\n",
       "      <th>2014-01-01 00:43:08+01:00</th>\n",
       "      <td>4.06</td>\n",
       "    </tr>\n",
       "  </tbody>\n",
       "</table>\n",
       "</div>"
      ],
      "text/plain": [
       "                           exterior\n",
       "tiempo                             \n",
       "2014-01-01 00:03:06+01:00      4.38\n",
       "2014-01-01 00:13:06+01:00      4.25\n",
       "2014-01-01 00:23:07+01:00      4.19\n",
       "2014-01-01 00:33:07+01:00      4.06\n",
       "2014-01-01 00:43:08+01:00      4.06"
      ]
     },
     "execution_count": 106,
     "metadata": {},
     "output_type": "execute_result"
    }
   ],
   "source": [
    "df1.head()"
   ]
  },
  {
   "cell_type": "code",
   "execution_count": 107,
   "metadata": {},
   "outputs": [
    {
     "data": {
      "text/plain": [
       "Timestamp('2014-01-01 00:03:06+0100', tz='Europe/Stockholm')"
      ]
     },
     "execution_count": 107,
     "metadata": {},
     "output_type": "execute_result"
    }
   ],
   "source": [
    "df1.index[0]"
   ]
  },
  {
   "cell_type": "code",
   "execution_count": 108,
   "metadata": {},
   "outputs": [
    {
     "data": {
      "image/png": "[encoded data removed]",
      "text/plain": [
       "<Figure size 864x288 with 1 Axes>"
      ]
     },
     "metadata": {
      "needs_background": "light"
     },
     "output_type": "display_data"
    }
   ],
   "source": [
    "fig, ax = plt.subplots(1, 1, figsize=(12, 4))\n",
    "df1.plot(ax=ax)\n",
    "df2.plot(ax=ax)\n",
    "\n",
    "fig.tight_layout()\n",
    "fig.savefig(\"serietemporal-temperaturas-2014.pdf\")"
   ]
  },
  {
   "cell_type": "code",
   "execution_count": 109,
   "metadata": {},
   "outputs": [
    {
     "name": "stdout",
     "output_type": "stream",
     "text": [
      "<class 'pandas.core.frame.DataFrame'>\n",
      "DatetimeIndex: 49548 entries, 2014-01-01 00:03:06+01:00 to 2014-12-30 23:56:35+01:00\n",
      "Data columns (total 1 columns):\n",
      " #   Column    Non-Null Count  Dtype  \n",
      "---  ------    --------------  -----  \n",
      " 0   exterior  49548 non-null  float64\n",
      "dtypes: float64(1)\n",
      "memory usage: 774.2 KB\n"
     ]
    }
   ],
   "source": [
    "df1.info()"
   ]
  },
  {
   "cell_type": "code",
   "execution_count": 110,
   "metadata": {},
   "outputs": [],
   "source": [
    "# seleccionaremos ahora datos del mes de Enero\n",
    "df1_enero = df1[(df1.index > \"2014-1-1\") & (df1.index < \"2014-2-1\")]"
   ]
  },
  {
   "cell_type": "code",
   "execution_count": 111,
   "metadata": {},
   "outputs": [
    {
     "data": {
      "text/plain": [
       "array([ True,  True,  True, ..., False, False, False])"
      ]
     },
     "execution_count": 111,
     "metadata": {},
     "output_type": "execute_result"
    }
   ],
   "source": [
    "df1.index < \"2014-2-1\""
   ]
  },
  {
   "cell_type": "code",
   "execution_count": 112,
   "metadata": {},
   "outputs": [
    {
     "name": "stdout",
     "output_type": "stream",
     "text": [
      "<class 'pandas.core.frame.DataFrame'>\n",
      "DatetimeIndex: 4452 entries, 2014-01-01 00:03:06+01:00 to 2014-01-31 23:56:58+01:00\n",
      "Data columns (total 1 columns):\n",
      " #   Column    Non-Null Count  Dtype  \n",
      "---  ------    --------------  -----  \n",
      " 0   exterior  4452 non-null   float64\n",
      "dtypes: float64(1)\n",
      "memory usage: 69.6 KB\n"
     ]
    }
   ],
   "source": [
    "df1_enero.info()"
   ]
  },
  {
   "cell_type": "code",
   "execution_count": 113,
   "metadata": {},
   "outputs": [],
   "source": [
    "df2_enero = df2[\"2014-1-1\":\"2014-1-31\"]"
   ]
  },
  {
   "cell_type": "code",
   "execution_count": 114,
   "metadata": {},
   "outputs": [
    {
     "data": {
      "image/png": "[encoded data removed]",
      "text/plain": [
       "<Figure size 864x288 with 1 Axes>"
      ]
     },
     "metadata": {
      "needs_background": "light"
     },
     "output_type": "display_data"
    }
   ],
   "source": [
    "fig, ax = plt.subplots(1, 1, figsize=(12, 4))\n",
    "\n",
    "df1_enero.plot(ax=ax)\n",
    "df2_enero.plot(ax=ax)\n",
    "\n",
    "fig.tight_layout()\n",
    "fig.savefig(\"serietemporal-mes-seleccionado.pdf\")"
   ]
  },
  {
   "cell_type": "code",
   "execution_count": 115,
   "metadata": {},
   "outputs": [],
   "source": [
    "# agrupando por meses"
   ]
  },
  {
   "cell_type": "code",
   "execution_count": 116,
   "metadata": {},
   "outputs": [],
   "source": [
    "df1_mes = df1.reset_index()"
   ]
  },
  {
   "cell_type": "code",
   "execution_count": 117,
   "metadata": {},
   "outputs": [],
   "source": [
    "df1_mes[\"mes\"] = df1_mes.tiempo.apply(lambda x: x.month)"
   ]
  },
  {
   "cell_type": "code",
   "execution_count": 118,
   "metadata": {},
   "outputs": [
    {
     "data": {
      "text/html": [
       "<div>\n",
       "<style scoped>\n",
       "    .dataframe tbody tr th:only-of-type {\n",
       "        vertical-align: middle;\n",
       "    }\n",
       "\n",
       "    .dataframe tbody tr th {\n",
       "        vertical-align: top;\n",
       "    }\n",
       "\n",
       "    .dataframe thead th {\n",
       "        text-align: right;\n",
       "    }\n",
       "</style>\n",
       "<table border=\"1\" class=\"dataframe\">\n",
       "  <thead>\n",
       "    <tr style=\"text-align: right;\">\n",
       "      <th></th>\n",
       "      <th>tiempo</th>\n",
       "      <th>exterior</th>\n",
       "      <th>mes</th>\n",
       "    </tr>\n",
       "  </thead>\n",
       "  <tbody>\n",
       "    <tr>\n",
       "      <th>0</th>\n",
       "      <td>2014-01-01 00:03:06+01:00</td>\n",
       "      <td>4.38</td>\n",
       "      <td>1</td>\n",
       "    </tr>\n",
       "    <tr>\n",
       "      <th>1</th>\n",
       "      <td>2014-01-01 00:13:06+01:00</td>\n",
       "      <td>4.25</td>\n",
       "      <td>1</td>\n",
       "    </tr>\n",
       "    <tr>\n",
       "      <th>2</th>\n",
       "      <td>2014-01-01 00:23:07+01:00</td>\n",
       "      <td>4.19</td>\n",
       "      <td>1</td>\n",
       "    </tr>\n",
       "    <tr>\n",
       "      <th>3</th>\n",
       "      <td>2014-01-01 00:33:07+01:00</td>\n",
       "      <td>4.06</td>\n",
       "      <td>1</td>\n",
       "    </tr>\n",
       "    <tr>\n",
       "      <th>4</th>\n",
       "      <td>2014-01-01 00:43:08+01:00</td>\n",
       "      <td>4.06</td>\n",
       "      <td>1</td>\n",
       "    </tr>\n",
       "  </tbody>\n",
       "</table>\n",
       "</div>"
      ],
      "text/plain": [
       "                     tiempo  exterior  mes\n",
       "0 2014-01-01 00:03:06+01:00      4.38    1\n",
       "1 2014-01-01 00:13:06+01:00      4.25    1\n",
       "2 2014-01-01 00:23:07+01:00      4.19    1\n",
       "3 2014-01-01 00:33:07+01:00      4.06    1\n",
       "4 2014-01-01 00:43:08+01:00      4.06    1"
      ]
     },
     "execution_count": 118,
     "metadata": {},
     "output_type": "execute_result"
    }
   ],
   "source": [
    "df1_mes.head()"
   ]
  },
  {
   "cell_type": "code",
   "execution_count": 119,
   "metadata": {},
   "outputs": [],
   "source": [
    "df1_mes = df1_mes.groupby(\"mes\").aggregate(np.mean)"
   ]
  },
  {
   "cell_type": "code",
   "execution_count": 120,
   "metadata": {},
   "outputs": [],
   "source": [
    "df2_mes = df2.reset_index()"
   ]
  },
  {
   "cell_type": "code",
   "execution_count": 121,
   "metadata": {},
   "outputs": [],
   "source": [
    "df2_mes[\"mes\"] = df2_mes.tiempo.apply(lambda x: x.month)"
   ]
  },
  {
   "cell_type": "code",
   "execution_count": 122,
   "metadata": {},
   "outputs": [],
   "source": [
    "df2_mes = df2_mes.groupby(\"mes\").aggregate(np.mean)"
   ]
  },
  {
   "cell_type": "code",
   "execution_count": 123,
   "metadata": {},
   "outputs": [],
   "source": [
    "df_mes = df1_mes.join(df2_mes)"
   ]
  },
  {
   "cell_type": "code",
   "execution_count": 124,
   "metadata": {},
   "outputs": [
    {
     "data": {
      "text/html": [
       "<div>\n",
       "<style scoped>\n",
       "    .dataframe tbody tr th:only-of-type {\n",
       "        vertical-align: middle;\n",
       "    }\n",
       "\n",
       "    .dataframe tbody tr th {\n",
       "        vertical-align: top;\n",
       "    }\n",
       "\n",
       "    .dataframe thead th {\n",
       "        text-align: right;\n",
       "    }\n",
       "</style>\n",
       "<table border=\"1\" class=\"dataframe\">\n",
       "  <thead>\n",
       "    <tr style=\"text-align: right;\">\n",
       "      <th></th>\n",
       "      <th>exterior</th>\n",
       "      <th>interior</th>\n",
       "    </tr>\n",
       "    <tr>\n",
       "      <th>mes</th>\n",
       "      <th></th>\n",
       "      <th></th>\n",
       "    </tr>\n",
       "  </thead>\n",
       "  <tbody>\n",
       "    <tr>\n",
       "      <th>1</th>\n",
       "      <td>-1.776646</td>\n",
       "      <td>19.862590</td>\n",
       "    </tr>\n",
       "    <tr>\n",
       "      <th>2</th>\n",
       "      <td>2.231613</td>\n",
       "      <td>20.231507</td>\n",
       "    </tr>\n",
       "    <tr>\n",
       "      <th>3</th>\n",
       "      <td>4.615437</td>\n",
       "      <td>19.597748</td>\n",
       "    </tr>\n",
       "  </tbody>\n",
       "</table>\n",
       "</div>"
      ],
      "text/plain": [
       "     exterior   interior\n",
       "mes                     \n",
       "1   -1.776646  19.862590\n",
       "2    2.231613  20.231507\n",
       "3    4.615437  19.597748"
      ]
     },
     "execution_count": 124,
     "metadata": {},
     "output_type": "execute_result"
    }
   ],
   "source": [
    "df_mes.head(3)"
   ]
  },
  {
   "cell_type": "code",
   "execution_count": 125,
   "metadata": {},
   "outputs": [
    {
     "name": "stderr",
     "output_type": "stream",
     "text": [
      "C:\\Users\\UX363\\anaconda3\\lib\\site-packages\\pandas\\core\\arrays\\datetimes.py:1143: UserWarning: Converting to PeriodArray/Index representation will drop timezone information.\n",
      "  warnings.warn(\n"
     ]
    }
   ],
   "source": [
    "df_mes = pd.concat([df.to_period(\"M\").groupby(level=0).mean() for df in [df1, df2]], axis=1)"
   ]
  },
  {
   "cell_type": "code",
   "execution_count": 126,
   "metadata": {},
   "outputs": [
    {
     "data": {
      "text/html": [
       "<div>\n",
       "<style scoped>\n",
       "    .dataframe tbody tr th:only-of-type {\n",
       "        vertical-align: middle;\n",
       "    }\n",
       "\n",
       "    .dataframe tbody tr th {\n",
       "        vertical-align: top;\n",
       "    }\n",
       "\n",
       "    .dataframe thead th {\n",
       "        text-align: right;\n",
       "    }\n",
       "</style>\n",
       "<table border=\"1\" class=\"dataframe\">\n",
       "  <thead>\n",
       "    <tr style=\"text-align: right;\">\n",
       "      <th></th>\n",
       "      <th>exterior</th>\n",
       "      <th>interior</th>\n",
       "    </tr>\n",
       "    <tr>\n",
       "      <th>tiempo</th>\n",
       "      <th></th>\n",
       "      <th></th>\n",
       "    </tr>\n",
       "  </thead>\n",
       "  <tbody>\n",
       "    <tr>\n",
       "      <th>2014-01</th>\n",
       "      <td>-1.776646</td>\n",
       "      <td>19.862590</td>\n",
       "    </tr>\n",
       "    <tr>\n",
       "      <th>2014-02</th>\n",
       "      <td>2.231613</td>\n",
       "      <td>20.231507</td>\n",
       "    </tr>\n",
       "    <tr>\n",
       "      <th>2014-03</th>\n",
       "      <td>4.615437</td>\n",
       "      <td>19.597748</td>\n",
       "    </tr>\n",
       "  </tbody>\n",
       "</table>\n",
       "</div>"
      ],
      "text/plain": [
       "         exterior   interior\n",
       "tiempo                      \n",
       "2014-01 -1.776646  19.862590\n",
       "2014-02  2.231613  20.231507\n",
       "2014-03  4.615437  19.597748"
      ]
     },
     "execution_count": 126,
     "metadata": {},
     "output_type": "execute_result"
    }
   ],
   "source": [
    "df_mes.head(3)"
   ]
  },
  {
   "cell_type": "code",
   "execution_count": 127,
   "metadata": {},
   "outputs": [
    {
     "data": {
      "image/png": "[encoded data removed]",
      "text/plain": [
       "<Figure size 864x288 with 2 Axes>"
      ]
     },
     "metadata": {
      "needs_background": "light"
     },
     "output_type": "display_data"
    }
   ],
   "source": [
    "fig, axes = plt.subplots(1, 2, figsize=(12, 4))\n",
    "\n",
    "df_mes.plot(kind='bar', ax=axes[0])\n",
    "df_mes.plot(kind='box', ax=axes[1])\n",
    "\n",
    "fig.tight_layout()\n",
    "fig.savefig(\"datos-agrupados-por-meses.pdf\")"
   ]
  },
  {
   "cell_type": "code",
   "execution_count": 128,
   "metadata": {},
   "outputs": [
    {
     "data": {
      "text/html": [
       "<div>\n",
       "<style scoped>\n",
       "    .dataframe tbody tr th:only-of-type {\n",
       "        vertical-align: middle;\n",
       "    }\n",
       "\n",
       "    .dataframe tbody tr th {\n",
       "        vertical-align: top;\n",
       "    }\n",
       "\n",
       "    .dataframe thead th {\n",
       "        text-align: right;\n",
       "    }\n",
       "</style>\n",
       "<table border=\"1\" class=\"dataframe\">\n",
       "  <thead>\n",
       "    <tr style=\"text-align: right;\">\n",
       "      <th></th>\n",
       "      <th>exterior</th>\n",
       "      <th>interior</th>\n",
       "    </tr>\n",
       "    <tr>\n",
       "      <th>tiempo</th>\n",
       "      <th></th>\n",
       "      <th></th>\n",
       "    </tr>\n",
       "  </thead>\n",
       "  <tbody>\n",
       "    <tr>\n",
       "      <th>2014-01</th>\n",
       "      <td>-1.776646</td>\n",
       "      <td>19.862590</td>\n",
       "    </tr>\n",
       "    <tr>\n",
       "      <th>2014-02</th>\n",
       "      <td>2.231613</td>\n",
       "      <td>20.231507</td>\n",
       "    </tr>\n",
       "    <tr>\n",
       "      <th>2014-03</th>\n",
       "      <td>4.615437</td>\n",
       "      <td>19.597748</td>\n",
       "    </tr>\n",
       "    <tr>\n",
       "      <th>2014-04</th>\n",
       "      <td>8.105193</td>\n",
       "      <td>22.149754</td>\n",
       "    </tr>\n",
       "    <tr>\n",
       "      <th>2014-05</th>\n",
       "      <td>12.261396</td>\n",
       "      <td>26.332160</td>\n",
       "    </tr>\n",
       "    <tr>\n",
       "      <th>2014-06</th>\n",
       "      <td>15.586955</td>\n",
       "      <td>28.687491</td>\n",
       "    </tr>\n",
       "    <tr>\n",
       "      <th>2014-07</th>\n",
       "      <td>20.780314</td>\n",
       "      <td>30.605333</td>\n",
       "    </tr>\n",
       "    <tr>\n",
       "      <th>2014-08</th>\n",
       "      <td>16.494823</td>\n",
       "      <td>28.099068</td>\n",
       "    </tr>\n",
       "    <tr>\n",
       "      <th>2014-09</th>\n",
       "      <td>12.823905</td>\n",
       "      <td>26.950366</td>\n",
       "    </tr>\n",
       "    <tr>\n",
       "      <th>2014-10</th>\n",
       "      <td>9.352000</td>\n",
       "      <td>23.379460</td>\n",
       "    </tr>\n",
       "    <tr>\n",
       "      <th>2014-11</th>\n",
       "      <td>4.992142</td>\n",
       "      <td>20.610365</td>\n",
       "    </tr>\n",
       "    <tr>\n",
       "      <th>2014-12</th>\n",
       "      <td>-0.058940</td>\n",
       "      <td>16.465674</td>\n",
       "    </tr>\n",
       "  </tbody>\n",
       "</table>\n",
       "</div>"
      ],
      "text/plain": [
       "          exterior   interior\n",
       "tiempo                       \n",
       "2014-01  -1.776646  19.862590\n",
       "2014-02   2.231613  20.231507\n",
       "2014-03   4.615437  19.597748\n",
       "2014-04   8.105193  22.149754\n",
       "2014-05  12.261396  26.332160\n",
       "2014-06  15.586955  28.687491\n",
       "2014-07  20.780314  30.605333\n",
       "2014-08  16.494823  28.099068\n",
       "2014-09  12.823905  26.950366\n",
       "2014-10   9.352000  23.379460\n",
       "2014-11   4.992142  20.610365\n",
       "2014-12  -0.058940  16.465674"
      ]
     },
     "execution_count": 128,
     "metadata": {},
     "output_type": "execute_result"
    }
   ],
   "source": [
    "df_mes"
   ]
  },
  {
   "cell_type": "code",
   "execution_count": 129,
   "metadata": {},
   "outputs": [],
   "source": [
    "# remuestreo\n",
    "# df1_hora = df1.resample(\"H\")    # Python 2\n",
    "df1_hora = df1.resample(\"H\") .mean()"
   ]
  },
  {
   "cell_type": "code",
   "execution_count": 130,
   "metadata": {},
   "outputs": [],
   "source": [
    "df1_hora.columns = [\"fuera (promediado por horas)\"]"
   ]
  },
  {
   "cell_type": "code",
   "execution_count": 131,
   "metadata": {},
   "outputs": [],
   "source": [
    "# df1_dia = df1.resample(\"D\")    # Python 2\n",
    "df1_dia = df1.resample(\"D\").mean()"
   ]
  },
  {
   "cell_type": "code",
   "execution_count": 132,
   "metadata": {},
   "outputs": [],
   "source": [
    "df1_dia.columns = [\"fuera (promed. por dias)\"]"
   ]
  },
  {
   "cell_type": "code",
   "execution_count": 133,
   "metadata": {},
   "outputs": [],
   "source": [
    "# df1_semana = df1.resample(\"7D\")    # Python 2\n",
    "df1_semana = df1.resample(\"7D\").mean()    "
   ]
  },
  {
   "cell_type": "code",
   "execution_count": 134,
   "metadata": {},
   "outputs": [],
   "source": [
    "df1_semana.columns = [\"fuera (promed. por semanas)\"]"
   ]
  },
  {
   "cell_type": "code",
   "execution_count": 135,
   "metadata": {},
   "outputs": [],
   "source": [
    "# df1_mes = df1.resample(\"M\")    # Python 2\n",
    "df1_mes = df1.resample(\"M\").mean()"
   ]
  },
  {
   "cell_type": "code",
   "execution_count": 136,
   "metadata": {},
   "outputs": [],
   "source": [
    "df1_mes.columns = [\"fuera (promed. por meses)\"]"
   ]
  },
  {
   "cell_type": "code",
   "execution_count": 137,
   "metadata": {},
   "outputs": [],
   "source": [
    "# df_diferencia = (df1.resample(\"D\").exterior - df2.resample(\"D\").interior)    # Python 2\n",
    "df_diferencia = (df1.resample(\"D\").mean().exterior - df2.resample(\"D\").mean().interior)"
   ]
  },
  {
   "cell_type": "code",
   "execution_count": 138,
   "metadata": {},
   "outputs": [
    {
     "data": {
      "image/png": "[encoded data removed]",
      "text/plain": [
       "<Figure size 864x432 with 2 Axes>"
      ]
     },
     "metadata": {
      "needs_background": "light"
     },
     "output_type": "display_data"
    }
   ],
   "source": [
    "fig, (ax1, ax2) = plt.subplots(2, 1, figsize=(12, 6))\n",
    "\n",
    "df1_hora.plot(ax=ax1, alpha=0.25)\n",
    "df1_dia.plot(ax=ax1)\n",
    "df1_semana.plot(ax=ax1)\n",
    "df1_mes.plot(ax=ax1)\n",
    "\n",
    "df_diferencia.plot(ax=ax2)\n",
    "ax2.set_title(\"diferencias de temperatura entre el exterior y el interior\")\n",
    "\n",
    "fig.tight_layout()\n",
    "fig.savefig(\"serietemporal-remuestreada.pdf\")"
   ]
  },
  {
   "cell_type": "code",
   "execution_count": 139,
   "metadata": {},
   "outputs": [],
   "source": [
    "fill_methods = [None, 'ffill', 'bfill']  # distintas posibilidades para rellenar datos ausentes"
   ]
  },
  {
   "cell_type": "markdown",
   "metadata": {},
   "source": [
    "## Día seleccionado"
   ]
  },
  {
   "cell_type": "code",
   "execution_count": 140,
   "metadata": {},
   "outputs": [],
   "source": [
    "df1_dic25 = df1[(df1.index < \"2014-9-1\") & (df1.index >= \"2014-8-1\")].resample(\"D\")"
   ]
  },
  {
   "cell_type": "code",
   "execution_count": 141,
   "metadata": {},
   "outputs": [],
   "source": [
    "df1_dic25 = df1.loc[\"2014-12-25\"]"
   ]
  },
  {
   "cell_type": "code",
   "execution_count": 142,
   "metadata": {},
   "outputs": [
    {
     "data": {
      "text/html": [
       "<div>\n",
       "<style scoped>\n",
       "    .dataframe tbody tr th:only-of-type {\n",
       "        vertical-align: middle;\n",
       "    }\n",
       "\n",
       "    .dataframe tbody tr th {\n",
       "        vertical-align: top;\n",
       "    }\n",
       "\n",
       "    .dataframe thead th {\n",
       "        text-align: right;\n",
       "    }\n",
       "</style>\n",
       "<table border=\"1\" class=\"dataframe\">\n",
       "  <thead>\n",
       "    <tr style=\"text-align: right;\">\n",
       "      <th></th>\n",
       "      <th>exterior</th>\n",
       "    </tr>\n",
       "    <tr>\n",
       "      <th>tiempo</th>\n",
       "      <th></th>\n",
       "    </tr>\n",
       "  </thead>\n",
       "  <tbody>\n",
       "    <tr>\n",
       "      <th>2014-12-25 00:01:45+01:00</th>\n",
       "      <td>-4.88</td>\n",
       "    </tr>\n",
       "    <tr>\n",
       "      <th>2014-12-25 00:11:45+01:00</th>\n",
       "      <td>-4.94</td>\n",
       "    </tr>\n",
       "    <tr>\n",
       "      <th>2014-12-25 00:21:46+01:00</th>\n",
       "      <td>-5.06</td>\n",
       "    </tr>\n",
       "    <tr>\n",
       "      <th>2014-12-25 00:31:47+01:00</th>\n",
       "      <td>-5.06</td>\n",
       "    </tr>\n",
       "    <tr>\n",
       "      <th>2014-12-25 00:41:47+01:00</th>\n",
       "      <td>-5.12</td>\n",
       "    </tr>\n",
       "  </tbody>\n",
       "</table>\n",
       "</div>"
      ],
      "text/plain": [
       "                           exterior\n",
       "tiempo                             \n",
       "2014-12-25 00:01:45+01:00     -4.88\n",
       "2014-12-25 00:11:45+01:00     -4.94\n",
       "2014-12-25 00:21:46+01:00     -5.06\n",
       "2014-12-25 00:31:47+01:00     -5.06\n",
       "2014-12-25 00:41:47+01:00     -5.12"
      ]
     },
     "execution_count": 142,
     "metadata": {},
     "output_type": "execute_result"
    }
   ],
   "source": [
    "df1_dic25.head(5)"
   ]
  },
  {
   "cell_type": "code",
   "execution_count": 143,
   "metadata": {},
   "outputs": [],
   "source": [
    "df2_dic25 = df2.loc[\"2014-12-25\"]"
   ]
  },
  {
   "cell_type": "code",
   "execution_count": 144,
   "metadata": {},
   "outputs": [
    {
     "data": {
      "text/html": [
       "<div>\n",
       "<style scoped>\n",
       "    .dataframe tbody tr th:only-of-type {\n",
       "        vertical-align: middle;\n",
       "    }\n",
       "\n",
       "    .dataframe tbody tr th {\n",
       "        vertical-align: top;\n",
       "    }\n",
       "\n",
       "    .dataframe thead th {\n",
       "        text-align: right;\n",
       "    }\n",
       "</style>\n",
       "<table border=\"1\" class=\"dataframe\">\n",
       "  <thead>\n",
       "    <tr style=\"text-align: right;\">\n",
       "      <th></th>\n",
       "      <th>interior</th>\n",
       "    </tr>\n",
       "    <tr>\n",
       "      <th>tiempo</th>\n",
       "      <th></th>\n",
       "    </tr>\n",
       "  </thead>\n",
       "  <tbody>\n",
       "    <tr>\n",
       "      <th>2014-12-25 00:01:45+01:00</th>\n",
       "      <td>16.31</td>\n",
       "    </tr>\n",
       "    <tr>\n",
       "      <th>2014-12-25 00:11:45+01:00</th>\n",
       "      <td>16.25</td>\n",
       "    </tr>\n",
       "    <tr>\n",
       "      <th>2014-12-25 00:21:46+01:00</th>\n",
       "      <td>16.31</td>\n",
       "    </tr>\n",
       "    <tr>\n",
       "      <th>2014-12-25 00:31:47+01:00</th>\n",
       "      <td>16.31</td>\n",
       "    </tr>\n",
       "    <tr>\n",
       "      <th>2014-12-25 00:41:47+01:00</th>\n",
       "      <td>16.25</td>\n",
       "    </tr>\n",
       "  </tbody>\n",
       "</table>\n",
       "</div>"
      ],
      "text/plain": [
       "                           interior\n",
       "tiempo                             \n",
       "2014-12-25 00:01:45+01:00     16.31\n",
       "2014-12-25 00:11:45+01:00     16.25\n",
       "2014-12-25 00:21:46+01:00     16.31\n",
       "2014-12-25 00:31:47+01:00     16.31\n",
       "2014-12-25 00:41:47+01:00     16.25"
      ]
     },
     "execution_count": 144,
     "metadata": {},
     "output_type": "execute_result"
    }
   ],
   "source": [
    "df2_dic25.head(5)"
   ]
  },
  {
   "cell_type": "code",
   "execution_count": 145,
   "metadata": {},
   "outputs": [
    {
     "data": {
      "text/html": [
       "<div>\n",
       "<style scoped>\n",
       "    .dataframe tbody tr th:only-of-type {\n",
       "        vertical-align: middle;\n",
       "    }\n",
       "\n",
       "    .dataframe tbody tr th {\n",
       "        vertical-align: top;\n",
       "    }\n",
       "\n",
       "    .dataframe thead th {\n",
       "        text-align: right;\n",
       "    }\n",
       "</style>\n",
       "<table border=\"1\" class=\"dataframe\">\n",
       "  <thead>\n",
       "    <tr style=\"text-align: right;\">\n",
       "      <th></th>\n",
       "      <th>count</th>\n",
       "      <th>mean</th>\n",
       "      <th>std</th>\n",
       "      <th>min</th>\n",
       "      <th>25%</th>\n",
       "      <th>50%</th>\n",
       "      <th>75%</th>\n",
       "      <th>max</th>\n",
       "    </tr>\n",
       "  </thead>\n",
       "  <tbody>\n",
       "    <tr>\n",
       "      <th>exterior</th>\n",
       "      <td>144.0</td>\n",
       "      <td>-7.788819</td>\n",
       "      <td>1.456085</td>\n",
       "      <td>-10.06</td>\n",
       "      <td>-9.075</td>\n",
       "      <td>-7.75</td>\n",
       "      <td>-6.8625</td>\n",
       "      <td>-4.88</td>\n",
       "    </tr>\n",
       "  </tbody>\n",
       "</table>\n",
       "</div>"
      ],
      "text/plain": [
       "          count      mean       std    min    25%   50%     75%   max\n",
       "exterior  144.0 -7.788819  1.456085 -10.06 -9.075 -7.75 -6.8625 -4.88"
      ]
     },
     "execution_count": 145,
     "metadata": {},
     "output_type": "execute_result"
    }
   ],
   "source": [
    "df1_dic25.describe().T"
   ]
  },
  {
   "cell_type": "code",
   "execution_count": 146,
   "metadata": {},
   "outputs": [
    {
     "data": {
      "image/png": "[encoded data removed]",
      "text/plain": [
       "<Figure size 864x288 with 1 Axes>"
      ]
     },
     "metadata": {
      "needs_background": "light"
     },
     "output_type": "display_data"
    }
   ],
   "source": [
    "fig, ax = plt.subplots(1, 1, figsize=(12, 4))\n",
    "\n",
    "df1_dic25.plot(ax=ax)\n",
    "\n",
    "fig.savefig(\"cap12-serietemporal-mesydia-seleccionado.pdf\")"
   ]
  },
  {
   "cell_type": "code",
   "execution_count": 147,
   "metadata": {},
   "outputs": [
    {
     "data": {
      "text/plain": [
       "DatetimeIndex(['2014-01-01 00:03:06+01:00', '2014-01-01 00:13:06+01:00',\n",
       "               '2014-01-01 00:23:07+01:00', '2014-01-01 00:33:07+01:00',\n",
       "               '2014-01-01 00:43:08+01:00', '2014-01-01 00:53:08+01:00',\n",
       "               '2014-01-01 01:03:09+01:00', '2014-01-01 01:13:09+01:00',\n",
       "               '2014-01-01 01:23:10+01:00', '2014-01-01 01:33:26+01:00',\n",
       "               ...\n",
       "               '2014-12-30 22:26:30+01:00', '2014-12-30 22:36:31+01:00',\n",
       "               '2014-12-30 22:46:31+01:00', '2014-12-30 22:56:32+01:00',\n",
       "               '2014-12-30 23:06:32+01:00', '2014-12-30 23:16:33+01:00',\n",
       "               '2014-12-30 23:26:33+01:00', '2014-12-30 23:36:34+01:00',\n",
       "               '2014-12-30 23:46:35+01:00', '2014-12-30 23:56:35+01:00'],\n",
       "              dtype='datetime64[ns, Europe/Stockholm]', name='tiempo', length=49548, freq=None)"
      ]
     },
     "execution_count": 147,
     "metadata": {},
     "output_type": "execute_result"
    }
   ],
   "source": [
    "df1.index"
   ]
  },
  {
   "cell_type": "markdown",
   "metadata": {},
   "source": [
    "# Biblioteca de visualización estadística Seaborn"
   ]
  },
  {
   "cell_type": "code",
   "execution_count": 148,
   "metadata": {},
   "outputs": [],
   "source": [
    "import seaborn as sns"
   ]
  },
  {
   "cell_type": "code",
   "execution_count": 149,
   "metadata": {},
   "outputs": [],
   "source": [
    "sns.set(style=\"darkgrid\")"
   ]
  },
  {
   "cell_type": "code",
   "execution_count": 150,
   "metadata": {},
   "outputs": [],
   "source": [
    "#sns.set(style=\"whitegrid\")"
   ]
  },
  {
   "cell_type": "code",
   "execution_count": 151,
   "metadata": {},
   "outputs": [],
   "source": [
    "df1 = pd.read_csv('temperature_outdoor_2014.tsv', delimiter=\"\\t\", names=[\"time\", \"outdoor\"])\n",
    "df1.time = pd.to_datetime(df1.time.values, unit=\"s\").tz_localize('UTC').tz_convert('Europe/Stockholm')\n",
    "df1 = df1.set_index(\"time\").resample(\"10min\").mean()\n",
    "df2 = pd.read_csv('temperature_indoor_2014.tsv', delimiter=\"\\t\", names=[\"time\", \"indoor\"])\n",
    "df2.time = pd.to_datetime(df2.time.values, unit=\"s\").tz_localize('UTC').tz_convert('Europe/Stockholm')\n",
    "df2 = df2.set_index(\"time\").resample(\"10min\").mean()\n",
    "df_temp = pd.concat([df1, df2], axis=1)"
   ]
  },
  {
   "cell_type": "code",
   "execution_count": 152,
   "metadata": {},
   "outputs": [
    {
     "data": {
      "image/png": "[encoded data removed]",
      "text/plain": [
       "<Figure size 576x288 with 1 Axes>"
      ]
     },
     "metadata": {},
     "output_type": "display_data"
    }
   ],
   "source": [
    "fig, ax = plt.subplots(1, 1, figsize=(8, 4))\n",
    "df_temp.resample(\"D\").mean().plot(y=[\"outdoor\", \"indoor\"], ax=ax)\n",
    "fig.tight_layout()\n",
    "fig.savefig(\"seaborn-plot.pdf\")"
   ]
  },
  {
   "cell_type": "code",
   "execution_count": 153,
   "metadata": {},
   "outputs": [],
   "source": [
    "#sns.kdeplot(df_temp[\"outdoor\"].dropna().values, shade=True, cumulative=True);"
   ]
  },
  {
   "cell_type": "code",
   "execution_count": 154,
   "metadata": {},
   "outputs": [
    {
     "name": "stderr",
     "output_type": "stream",
     "text": [
      "C:\\Users\\UX363\\anaconda3\\lib\\site-packages\\pandas\\core\\arrays\\datetimes.py:1143: UserWarning: Converting to PeriodArray/Index representation will drop timezone information.\n",
      "  warnings.warn(\n",
      "C:\\Users\\UX363\\anaconda3\\lib\\site-packages\\pandas\\core\\arrays\\datetimes.py:1143: UserWarning: Converting to PeriodArray/Index representation will drop timezone information.\n",
      "  warnings.warn(\n"
     ]
    },
    {
     "data": {
      "image/png": "[encoded data removed]",
      "text/plain": [
       "<Figure size 360x360 with 1 Axes>"
      ]
     },
     "metadata": {},
     "output_type": "display_data"
    },
    {
     "data": {
      "image/png": "[encoded data removed]",
      "text/plain": [
       "<Figure size 360x360 with 1 Axes>"
      ]
     },
     "metadata": {},
     "output_type": "display_data"
    }
   ],
   "source": [
    "sns.displot(df_temp.to_period(\"M\")[\"outdoor\"][\"2014-04\"].dropna().values, bins=50);\n",
    "sns.displot(df_temp.to_period(\"M\")[\"indoor\"][\"2014-04\"].dropna().values, bins=50);\n",
    "\n",
    "plt.savefig(\"seaborn-distplot.pdf\")"
   ]
  },
  {
   "cell_type": "code",
   "execution_count": 155,
   "metadata": {},
   "outputs": [
    {
     "name": "stderr",
     "output_type": "stream",
     "text": [
      "C:\\Users\\UX363\\anaconda3\\lib\\site-packages\\seaborn\\_decorators.py:36: FutureWarning: Pass the following variables as keyword args: x, y. From version 0.12, the only valid positional argument will be `data`, and passing other arguments without an explicit keyword will result in an error or misinterpretation.\n",
      "  warnings.warn(\n"
     ]
    },
    {
     "data": {
      "image/png": "[encoded data removed]",
      "text/plain": [
       "<Figure size 432x432 with 3 Axes>"
      ]
     },
     "metadata": {},
     "output_type": "display_data"
    }
   ],
   "source": [
    "with sns.axes_style(\"white\"):\n",
    "    sns.jointplot(df_temp.resample(\"H\").mean()[\"outdoor\"].values,\n",
    "                  df_temp.resample(\"H\").mean()[\"indoor\"].values, kind=\"hex\");\n",
    "    \n",
    "plt.savefig(\"seaborn-jointplot.pdf\")"
   ]
  },
  {
   "cell_type": "code",
   "execution_count": 156,
   "metadata": {},
   "outputs": [
    {
     "name": "stderr",
     "output_type": "stream",
     "text": [
      "C:\\Users\\UX363\\anaconda3\\lib\\site-packages\\seaborn\\_decorators.py:36: FutureWarning: Pass the following variable as a keyword arg: y. From version 0.12, the only valid positional argument will be `data`, and passing other arguments without an explicit keyword will result in an error or misinterpretation.\n",
      "  warnings.warn(\n"
     ]
    },
    {
     "data": {
      "image/png": "[encoded data removed]",
      "text/plain": [
       "<Figure size 432x288 with 1 Axes>"
      ]
     },
     "metadata": {},
     "output_type": "display_data"
    }
   ],
   "source": [
    "sns.kdeplot(df_temp.resample(\"H\").mean()[\"outdoor\"].dropna().values,\n",
    "            df_temp.resample(\"H\").mean()[\"indoor\"].dropna().values, shade=False);\n",
    "\n",
    "plt.savefig(\"seaborn-kdeplot.pdf\")"
   ]
  },
  {
   "cell_type": "code",
   "execution_count": 157,
   "metadata": {},
   "outputs": [
    {
     "data": {
      "image/png": "[encoded data removed]",
      "text/plain": [
       "<Figure size 432x288 with 1 Axes>"
      ]
     },
     "metadata": {},
     "output_type": "display_data"
    }
   ],
   "source": [
    "sns.violinplot(x=df_temp.dropna().index.month, y=df_temp.dropna().outdoor, color=\"skyblue\");\n",
    "\n",
    "plt.savefig(\"seaborn-violinplot.pdf\")"
   ]
  },
  {
   "cell_type": "code",
   "execution_count": 158,
   "metadata": {},
   "outputs": [],
   "source": [
    "df_temp[\"month\"] = df_temp.index.month\n",
    "df_temp[\"hour\"] = df_temp.index.hour"
   ]
  },
  {
   "cell_type": "code",
   "execution_count": 159,
   "metadata": {},
   "outputs": [
    {
     "data": {
      "text/html": [
       "<div>\n",
       "<style scoped>\n",
       "    .dataframe tbody tr th:only-of-type {\n",
       "        vertical-align: middle;\n",
       "    }\n",
       "\n",
       "    .dataframe tbody tr th {\n",
       "        vertical-align: top;\n",
       "    }\n",
       "\n",
       "    .dataframe thead th {\n",
       "        text-align: right;\n",
       "    }\n",
       "</style>\n",
       "<table border=\"1\" class=\"dataframe\">\n",
       "  <thead>\n",
       "    <tr style=\"text-align: right;\">\n",
       "      <th></th>\n",
       "      <th>outdoor</th>\n",
       "      <th>indoor</th>\n",
       "      <th>month</th>\n",
       "      <th>hour</th>\n",
       "    </tr>\n",
       "    <tr>\n",
       "      <th>time</th>\n",
       "      <th></th>\n",
       "      <th></th>\n",
       "      <th></th>\n",
       "      <th></th>\n",
       "    </tr>\n",
       "  </thead>\n",
       "  <tbody>\n",
       "    <tr>\n",
       "      <th>2014-01-01 00:00:00+01:00</th>\n",
       "      <td>4.38</td>\n",
       "      <td>21.94</td>\n",
       "      <td>1</td>\n",
       "      <td>0</td>\n",
       "    </tr>\n",
       "    <tr>\n",
       "      <th>2014-01-01 00:10:00+01:00</th>\n",
       "      <td>4.25</td>\n",
       "      <td>22.00</td>\n",
       "      <td>1</td>\n",
       "      <td>0</td>\n",
       "    </tr>\n",
       "    <tr>\n",
       "      <th>2014-01-01 00:20:00+01:00</th>\n",
       "      <td>4.19</td>\n",
       "      <td>22.00</td>\n",
       "      <td>1</td>\n",
       "      <td>0</td>\n",
       "    </tr>\n",
       "    <tr>\n",
       "      <th>2014-01-01 00:30:00+01:00</th>\n",
       "      <td>4.06</td>\n",
       "      <td>22.00</td>\n",
       "      <td>1</td>\n",
       "      <td>0</td>\n",
       "    </tr>\n",
       "    <tr>\n",
       "      <th>2014-01-01 00:40:00+01:00</th>\n",
       "      <td>4.06</td>\n",
       "      <td>22.00</td>\n",
       "      <td>1</td>\n",
       "      <td>0</td>\n",
       "    </tr>\n",
       "  </tbody>\n",
       "</table>\n",
       "</div>"
      ],
      "text/plain": [
       "                           outdoor  indoor  month  hour\n",
       "time                                                   \n",
       "2014-01-01 00:00:00+01:00     4.38   21.94      1     0\n",
       "2014-01-01 00:10:00+01:00     4.25   22.00      1     0\n",
       "2014-01-01 00:20:00+01:00     4.19   22.00      1     0\n",
       "2014-01-01 00:30:00+01:00     4.06   22.00      1     0\n",
       "2014-01-01 00:40:00+01:00     4.06   22.00      1     0"
      ]
     },
     "execution_count": 159,
     "metadata": {},
     "output_type": "execute_result"
    }
   ],
   "source": [
    "df_temp.head()"
   ]
  },
  {
   "cell_type": "code",
   "execution_count": 160,
   "metadata": {},
   "outputs": [],
   "source": [
    "table = pd.pivot_table(df_temp, values='outdoor', index=['month'], columns=['hour'], aggfunc=np.mean)"
   ]
  },
  {
   "cell_type": "code",
   "execution_count": 161,
   "metadata": {},
   "outputs": [
    {
     "data": {
      "text/html": [
       "<div>\n",
       "<style scoped>\n",
       "    .dataframe tbody tr th:only-of-type {\n",
       "        vertical-align: middle;\n",
       "    }\n",
       "\n",
       "    .dataframe tbody tr th {\n",
       "        vertical-align: top;\n",
       "    }\n",
       "\n",
       "    .dataframe thead th {\n",
       "        text-align: right;\n",
       "    }\n",
       "</style>\n",
       "<table border=\"1\" class=\"dataframe\">\n",
       "  <thead>\n",
       "    <tr style=\"text-align: right;\">\n",
       "      <th>hour</th>\n",
       "      <th>0</th>\n",
       "      <th>1</th>\n",
       "      <th>2</th>\n",
       "      <th>3</th>\n",
       "      <th>4</th>\n",
       "      <th>5</th>\n",
       "      <th>6</th>\n",
       "      <th>7</th>\n",
       "      <th>8</th>\n",
       "      <th>9</th>\n",
       "      <th>...</th>\n",
       "      <th>14</th>\n",
       "      <th>15</th>\n",
       "      <th>16</th>\n",
       "      <th>17</th>\n",
       "      <th>18</th>\n",
       "      <th>19</th>\n",
       "      <th>20</th>\n",
       "      <th>21</th>\n",
       "      <th>22</th>\n",
       "      <th>23</th>\n",
       "    </tr>\n",
       "    <tr>\n",
       "      <th>month</th>\n",
       "      <th></th>\n",
       "      <th></th>\n",
       "      <th></th>\n",
       "      <th></th>\n",
       "      <th></th>\n",
       "      <th></th>\n",
       "      <th></th>\n",
       "      <th></th>\n",
       "      <th></th>\n",
       "      <th></th>\n",
       "      <th></th>\n",
       "      <th></th>\n",
       "      <th></th>\n",
       "      <th></th>\n",
       "      <th></th>\n",
       "      <th></th>\n",
       "      <th></th>\n",
       "      <th></th>\n",
       "      <th></th>\n",
       "      <th></th>\n",
       "      <th></th>\n",
       "    </tr>\n",
       "  </thead>\n",
       "  <tbody>\n",
       "    <tr>\n",
       "      <th>1</th>\n",
       "      <td>-1.692312</td>\n",
       "      <td>-1.750162</td>\n",
       "      <td>-1.826649</td>\n",
       "      <td>-1.879086</td>\n",
       "      <td>-1.922527</td>\n",
       "      <td>-1.968065</td>\n",
       "      <td>-2.020914</td>\n",
       "      <td>-2.035806</td>\n",
       "      <td>-2.101774</td>\n",
       "      <td>-2.001022</td>\n",
       "      <td>...</td>\n",
       "      <td>-1.457849</td>\n",
       "      <td>-1.696935</td>\n",
       "      <td>-1.814194</td>\n",
       "      <td>-1.812258</td>\n",
       "      <td>-1.853297</td>\n",
       "      <td>-1.898432</td>\n",
       "      <td>-1.839730</td>\n",
       "      <td>-1.806486</td>\n",
       "      <td>-1.854462</td>\n",
       "      <td>-1.890811</td>\n",
       "    </tr>\n",
       "    <tr>\n",
       "      <th>2</th>\n",
       "      <td>1.613690</td>\n",
       "      <td>1.521190</td>\n",
       "      <td>1.479405</td>\n",
       "      <td>1.464371</td>\n",
       "      <td>1.506407</td>\n",
       "      <td>1.485595</td>\n",
       "      <td>1.499167</td>\n",
       "      <td>1.516946</td>\n",
       "      <td>1.669226</td>\n",
       "      <td>2.067725</td>\n",
       "      <td>...</td>\n",
       "      <td>3.573593</td>\n",
       "      <td>3.360741</td>\n",
       "      <td>2.939390</td>\n",
       "      <td>2.501607</td>\n",
       "      <td>2.357425</td>\n",
       "      <td>2.236190</td>\n",
       "      <td>2.204458</td>\n",
       "      <td>2.137619</td>\n",
       "      <td>2.024671</td>\n",
       "      <td>1.896190</td>\n",
       "    </tr>\n",
       "    <tr>\n",
       "      <th>3</th>\n",
       "      <td>3.192366</td>\n",
       "      <td>2.866774</td>\n",
       "      <td>2.628000</td>\n",
       "      <td>2.524140</td>\n",
       "      <td>2.384140</td>\n",
       "      <td>2.235538</td>\n",
       "      <td>2.243387</td>\n",
       "      <td>2.622258</td>\n",
       "      <td>3.419301</td>\n",
       "      <td>4.466290</td>\n",
       "      <td>...</td>\n",
       "      <td>7.790323</td>\n",
       "      <td>7.930914</td>\n",
       "      <td>7.595892</td>\n",
       "      <td>6.770914</td>\n",
       "      <td>5.731508</td>\n",
       "      <td>4.983784</td>\n",
       "      <td>4.437419</td>\n",
       "      <td>4.022312</td>\n",
       "      <td>3.657903</td>\n",
       "      <td>3.407258</td>\n",
       "    </tr>\n",
       "    <tr>\n",
       "      <th>4</th>\n",
       "      <td>5.832738</td>\n",
       "      <td>5.336012</td>\n",
       "      <td>4.926667</td>\n",
       "      <td>4.597059</td>\n",
       "      <td>4.380000</td>\n",
       "      <td>4.109769</td>\n",
       "      <td>4.123699</td>\n",
       "      <td>4.741437</td>\n",
       "      <td>5.878035</td>\n",
       "      <td>7.272299</td>\n",
       "      <td>...</td>\n",
       "      <td>12.175556</td>\n",
       "      <td>12.500059</td>\n",
       "      <td>12.494483</td>\n",
       "      <td>12.361156</td>\n",
       "      <td>11.989240</td>\n",
       "      <td>10.454881</td>\n",
       "      <td>8.857619</td>\n",
       "      <td>7.712619</td>\n",
       "      <td>6.974762</td>\n",
       "      <td>6.293512</td>\n",
       "    </tr>\n",
       "    <tr>\n",
       "      <th>5</th>\n",
       "      <td>9.792204</td>\n",
       "      <td>9.369351</td>\n",
       "      <td>9.009839</td>\n",
       "      <td>8.670914</td>\n",
       "      <td>8.463387</td>\n",
       "      <td>8.446919</td>\n",
       "      <td>8.772324</td>\n",
       "      <td>9.562742</td>\n",
       "      <td>10.723622</td>\n",
       "      <td>12.047717</td>\n",
       "      <td>...</td>\n",
       "      <td>15.542581</td>\n",
       "      <td>15.744624</td>\n",
       "      <td>15.784839</td>\n",
       "      <td>15.799570</td>\n",
       "      <td>17.009892</td>\n",
       "      <td>15.685161</td>\n",
       "      <td>13.632796</td>\n",
       "      <td>12.216290</td>\n",
       "      <td>11.291237</td>\n",
       "      <td>10.622849</td>\n",
       "    </tr>\n",
       "    <tr>\n",
       "      <th>6</th>\n",
       "      <td>13.209556</td>\n",
       "      <td>12.792889</td>\n",
       "      <td>12.382889</td>\n",
       "      <td>11.967889</td>\n",
       "      <td>11.735778</td>\n",
       "      <td>11.886667</td>\n",
       "      <td>12.503778</td>\n",
       "      <td>13.338167</td>\n",
       "      <td>14.343444</td>\n",
       "      <td>15.665475</td>\n",
       "      <td>...</td>\n",
       "      <td>18.630556</td>\n",
       "      <td>18.866292</td>\n",
       "      <td>18.680611</td>\n",
       "      <td>18.529832</td>\n",
       "      <td>20.057877</td>\n",
       "      <td>18.853389</td>\n",
       "      <td>16.969777</td>\n",
       "      <td>15.675111</td>\n",
       "      <td>14.658778</td>\n",
       "      <td>13.898167</td>\n",
       "    </tr>\n",
       "    <tr>\n",
       "      <th>7</th>\n",
       "      <td>17.956344</td>\n",
       "      <td>17.348641</td>\n",
       "      <td>16.793152</td>\n",
       "      <td>16.309892</td>\n",
       "      <td>16.001559</td>\n",
       "      <td>15.986774</td>\n",
       "      <td>16.506613</td>\n",
       "      <td>17.478226</td>\n",
       "      <td>18.850054</td>\n",
       "      <td>20.533763</td>\n",
       "      <td>...</td>\n",
       "      <td>24.598441</td>\n",
       "      <td>25.030000</td>\n",
       "      <td>24.869194</td>\n",
       "      <td>24.764409</td>\n",
       "      <td>26.155161</td>\n",
       "      <td>24.896505</td>\n",
       "      <td>22.550269</td>\n",
       "      <td>20.882649</td>\n",
       "      <td>19.699022</td>\n",
       "      <td>18.822634</td>\n",
       "    </tr>\n",
       "    <tr>\n",
       "      <th>8</th>\n",
       "      <td>14.498205</td>\n",
       "      <td>13.960128</td>\n",
       "      <td>13.555128</td>\n",
       "      <td>12.995641</td>\n",
       "      <td>12.651410</td>\n",
       "      <td>12.485974</td>\n",
       "      <td>12.680130</td>\n",
       "      <td>13.403506</td>\n",
       "      <td>14.578780</td>\n",
       "      <td>16.170833</td>\n",
       "      <td>...</td>\n",
       "      <td>20.473810</td>\n",
       "      <td>20.292381</td>\n",
       "      <td>20.328795</td>\n",
       "      <td>19.642436</td>\n",
       "      <td>19.373846</td>\n",
       "      <td>18.713462</td>\n",
       "      <td>17.034872</td>\n",
       "      <td>15.843590</td>\n",
       "      <td>15.146154</td>\n",
       "      <td>14.596667</td>\n",
       "    </tr>\n",
       "    <tr>\n",
       "      <th>9</th>\n",
       "      <td>11.133000</td>\n",
       "      <td>10.725667</td>\n",
       "      <td>10.362444</td>\n",
       "      <td>9.976833</td>\n",
       "      <td>9.729333</td>\n",
       "      <td>9.503944</td>\n",
       "      <td>9.357500</td>\n",
       "      <td>9.689778</td>\n",
       "      <td>10.600778</td>\n",
       "      <td>11.829106</td>\n",
       "      <td>...</td>\n",
       "      <td>16.336983</td>\n",
       "      <td>16.828268</td>\n",
       "      <td>17.031056</td>\n",
       "      <td>16.786983</td>\n",
       "      <td>15.853556</td>\n",
       "      <td>14.534637</td>\n",
       "      <td>13.350444</td>\n",
       "      <td>12.545278</td>\n",
       "      <td>11.954190</td>\n",
       "      <td>11.399056</td>\n",
       "    </tr>\n",
       "    <tr>\n",
       "      <th>10</th>\n",
       "      <td>8.602011</td>\n",
       "      <td>8.490598</td>\n",
       "      <td>8.382486</td>\n",
       "      <td>8.257097</td>\n",
       "      <td>8.166774</td>\n",
       "      <td>8.140054</td>\n",
       "      <td>8.140161</td>\n",
       "      <td>8.148333</td>\n",
       "      <td>8.410914</td>\n",
       "      <td>9.054946</td>\n",
       "      <td>...</td>\n",
       "      <td>11.330323</td>\n",
       "      <td>11.189194</td>\n",
       "      <td>10.836865</td>\n",
       "      <td>10.361568</td>\n",
       "      <td>9.781022</td>\n",
       "      <td>9.373441</td>\n",
       "      <td>9.134570</td>\n",
       "      <td>8.956505</td>\n",
       "      <td>8.820270</td>\n",
       "      <td>8.623297</td>\n",
       "    </tr>\n",
       "    <tr>\n",
       "      <th>11</th>\n",
       "      <td>4.847111</td>\n",
       "      <td>4.765922</td>\n",
       "      <td>4.815642</td>\n",
       "      <td>4.773240</td>\n",
       "      <td>4.809611</td>\n",
       "      <td>4.785833</td>\n",
       "      <td>4.741222</td>\n",
       "      <td>4.739778</td>\n",
       "      <td>4.794500</td>\n",
       "      <td>4.965389</td>\n",
       "      <td>...</td>\n",
       "      <td>5.526034</td>\n",
       "      <td>5.342753</td>\n",
       "      <td>5.081250</td>\n",
       "      <td>5.056629</td>\n",
       "      <td>4.959106</td>\n",
       "      <td>4.868111</td>\n",
       "      <td>4.833333</td>\n",
       "      <td>4.774389</td>\n",
       "      <td>4.720722</td>\n",
       "      <td>4.699722</td>\n",
       "    </tr>\n",
       "    <tr>\n",
       "      <th>12</th>\n",
       "      <td>-0.366369</td>\n",
       "      <td>-0.390556</td>\n",
       "      <td>-0.447374</td>\n",
       "      <td>-0.370111</td>\n",
       "      <td>-0.353128</td>\n",
       "      <td>-0.319832</td>\n",
       "      <td>-0.358667</td>\n",
       "      <td>-0.410278</td>\n",
       "      <td>-0.483167</td>\n",
       "      <td>-0.344667</td>\n",
       "      <td>...</td>\n",
       "      <td>0.738944</td>\n",
       "      <td>0.367056</td>\n",
       "      <td>0.152167</td>\n",
       "      <td>-0.106111</td>\n",
       "      <td>-0.182500</td>\n",
       "      <td>-0.244167</td>\n",
       "      <td>-0.290000</td>\n",
       "      <td>-0.305333</td>\n",
       "      <td>-0.302778</td>\n",
       "      <td>-0.325642</td>\n",
       "    </tr>\n",
       "  </tbody>\n",
       "</table>\n",
       "<p>12 rows × 24 columns</p>\n",
       "</div>"
      ],
      "text/plain": [
       "hour          0          1          2          3          4          5   \\\n",
       "month                                                                     \n",
       "1      -1.692312  -1.750162  -1.826649  -1.879086  -1.922527  -1.968065   \n",
       "2       1.613690   1.521190   1.479405   1.464371   1.506407   1.485595   \n",
       "3       3.192366   2.866774   2.628000   2.524140   2.384140   2.235538   \n",
       "4       5.832738   5.336012   4.926667   4.597059   4.380000   4.109769   \n",
       "5       9.792204   9.369351   9.009839   8.670914   8.463387   8.446919   \n",
       "6      13.209556  12.792889  12.382889  11.967889  11.735778  11.886667   \n",
       "7      17.956344  17.348641  16.793152  16.309892  16.001559  15.986774   \n",
       "8      14.498205  13.960128  13.555128  12.995641  12.651410  12.485974   \n",
       "9      11.133000  10.725667  10.362444   9.976833   9.729333   9.503944   \n",
       "10      8.602011   8.490598   8.382486   8.257097   8.166774   8.140054   \n",
       "11      4.847111   4.765922   4.815642   4.773240   4.809611   4.785833   \n",
       "12     -0.366369  -0.390556  -0.447374  -0.370111  -0.353128  -0.319832   \n",
       "\n",
       "hour          6          7          8          9   ...         14         15  \\\n",
       "month                                              ...                         \n",
       "1      -2.020914  -2.035806  -2.101774  -2.001022  ...  -1.457849  -1.696935   \n",
       "2       1.499167   1.516946   1.669226   2.067725  ...   3.573593   3.360741   \n",
       "3       2.243387   2.622258   3.419301   4.466290  ...   7.790323   7.930914   \n",
       "4       4.123699   4.741437   5.878035   7.272299  ...  12.175556  12.500059   \n",
       "5       8.772324   9.562742  10.723622  12.047717  ...  15.542581  15.744624   \n",
       "6      12.503778  13.338167  14.343444  15.665475  ...  18.630556  18.866292   \n",
       "7      16.506613  17.478226  18.850054  20.533763  ...  24.598441  25.030000   \n",
       "8      12.680130  13.403506  14.578780  16.170833  ...  20.473810  20.292381   \n",
       "9       9.357500   9.689778  10.600778  11.829106  ...  16.336983  16.828268   \n",
       "10      8.140161   8.148333   8.410914   9.054946  ...  11.330323  11.189194   \n",
       "11      4.741222   4.739778   4.794500   4.965389  ...   5.526034   5.342753   \n",
       "12     -0.358667  -0.410278  -0.483167  -0.344667  ...   0.738944   0.367056   \n",
       "\n",
       "hour          16         17         18         19         20         21  \\\n",
       "month                                                                     \n",
       "1      -1.814194  -1.812258  -1.853297  -1.898432  -1.839730  -1.806486   \n",
       "2       2.939390   2.501607   2.357425   2.236190   2.204458   2.137619   \n",
       "3       7.595892   6.770914   5.731508   4.983784   4.437419   4.022312   \n",
       "4      12.494483  12.361156  11.989240  10.454881   8.857619   7.712619   \n",
       "5      15.784839  15.799570  17.009892  15.685161  13.632796  12.216290   \n",
       "6      18.680611  18.529832  20.057877  18.853389  16.969777  15.675111   \n",
       "7      24.869194  24.764409  26.155161  24.896505  22.550269  20.882649   \n",
       "8      20.328795  19.642436  19.373846  18.713462  17.034872  15.843590   \n",
       "9      17.031056  16.786983  15.853556  14.534637  13.350444  12.545278   \n",
       "10     10.836865  10.361568   9.781022   9.373441   9.134570   8.956505   \n",
       "11      5.081250   5.056629   4.959106   4.868111   4.833333   4.774389   \n",
       "12      0.152167  -0.106111  -0.182500  -0.244167  -0.290000  -0.305333   \n",
       "\n",
       "hour          22         23  \n",
       "month                        \n",
       "1      -1.854462  -1.890811  \n",
       "2       2.024671   1.896190  \n",
       "3       3.657903   3.407258  \n",
       "4       6.974762   6.293512  \n",
       "5      11.291237  10.622849  \n",
       "6      14.658778  13.898167  \n",
       "7      19.699022  18.822634  \n",
       "8      15.146154  14.596667  \n",
       "9      11.954190  11.399056  \n",
       "10      8.820270   8.623297  \n",
       "11      4.720722   4.699722  \n",
       "12     -0.302778  -0.325642  \n",
       "\n",
       "[12 rows x 24 columns]"
      ]
     },
     "execution_count": 161,
     "metadata": {},
     "output_type": "execute_result"
    }
   ],
   "source": [
    "table"
   ]
  },
  {
   "cell_type": "code",
   "execution_count": 162,
   "metadata": {},
   "outputs": [
    {
     "data": {
      "image/png": "[encoded data removed]",
      "text/plain": [
       "<Figure size 576x288 with 2 Axes>"
      ]
     },
     "metadata": {},
     "output_type": "display_data"
    }
   ],
   "source": [
    "fig, ax = plt.subplots(1, 1, figsize=(8, 4))\n",
    "sns.heatmap(table, ax=ax);\n",
    "\n",
    "fig.tight_layout()\n",
    "fig.savefig(\"seaborn-heatmap.pdf\")"
   ]
  },
  {
   "cell_type": "markdown",
   "metadata": {},
   "source": [
    "## Versiones"
   ]
  },
  {
   "cell_type": "code",
   "execution_count": 163,
   "metadata": {},
   "outputs": [],
   "source": [
    "%reload_ext version_information"
   ]
  },
  {
   "cell_type": "code",
   "execution_count": 164,
   "metadata": {},
   "outputs": [
    {
     "data": {
      "application/json": {
       "Software versions": [
        {
         "module": "Python",
         "version": "3.9.7 64bit [MSC v.1916 64 bit (AMD64)]"
        },
        {
         "module": "IPython",
         "version": "7.29.0"
        },
        {
         "module": "OS",
         "version": "Windows 10 10.0.22000 SP0"
        },
        {
         "module": "numpy",
         "version": "1.20.3"
        },
        {
         "module": "matplotlib",
         "version": "3.4.3"
        },
        {
         "module": "pandas",
         "version": "1.3.4"
        },
        {
         "module": "seaborn",
         "version": "0.11.2"
        }
       ]
      },
      "text/html": [
       "<table><tr><th>Software</th><th>Version</th></tr><tr><td>Python</td><td>3.9.7 64bit [MSC v.1916 64 bit (AMD64)]</td></tr><tr><td>IPython</td><td>7.29.0</td></tr><tr><td>OS</td><td>Windows 10 10.0.22000 SP0</td></tr><tr><td>numpy</td><td>1.20.3</td></tr><tr><td>matplotlib</td><td>3.4.3</td></tr><tr><td>pandas</td><td>1.3.4</td></tr><tr><td>seaborn</td><td>0.11.2</td></tr><tr><td colspan='2'>Wed Sep 28 12:24:53 2022 Hora de verano romance</td></tr></table>"
      ],
      "text/latex": [
       "\\begin{tabular}{|l|l|}\\hline\n",
       "{\\bf Software} & {\\bf Version} \\\\ \\hline\\hline\n",
       "Python & 3.9.7 64bit [MSC v.1916 64 bit (AMD64)] \\\\ \\hline\n",
       "IPython & 7.29.0 \\\\ \\hline\n",
       "OS & Windows 10 10.0.22000 SP0 \\\\ \\hline\n",
       "numpy & 1.20.3 \\\\ \\hline\n",
       "matplotlib & 3.4.3 \\\\ \\hline\n",
       "pandas & 1.3.4 \\\\ \\hline\n",
       "seaborn & 0.11.2 \\\\ \\hline\n",
       "\\hline \\multicolumn{2}{|l|}{Wed Sep 28 12:24:53 2022 Hora de verano romance} \\\\ \\hline\n",
       "\\end{tabular}\n"
      ],
      "text/plain": [
       "Software versions\n",
       "Python 3.9.7 64bit [MSC v.1916 64 bit (AMD64)]\n",
       "IPython 7.29.0\n",
       "OS Windows 10 10.0.22000 SP0\n",
       "numpy 1.20.3\n",
       "matplotlib 3.4.3\n",
       "pandas 1.3.4\n",
       "seaborn 0.11.2\n",
       "Wed Sep 28 12:24:53 2022 Hora de verano romance"
      ]
     },
     "execution_count": 164,
     "metadata": {},
     "output_type": "execute_result"
    }
   ],
   "source": [
    "%version_information numpy, matplotlib, pandas, seaborn"
   ]
  }
 ],
 "metadata": {
  "anaconda-cloud": {},
  "kernelspec": {
   "display_name": "Python 3 (ipykernel)",
   "language": "python",
   "name": "python3"
  },
  "language_info": {
   "codemirror_mode": {
    "name": "ipython",
    "version": 3
   },
   "file_extension": ".py",
   "mimetype": "text/x-python",
   "name": "python",
   "nbconvert_exporter": "python",
   "pygments_lexer": "ipython3",
   "version": "3.9.7"
  }
 },
 "nbformat": 4,
 "nbformat_minor": 1
}
